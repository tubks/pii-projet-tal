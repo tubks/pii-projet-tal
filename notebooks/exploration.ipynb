{
 "cells": [
  {
   "cell_type": "markdown",
   "metadata": {},
   "source": [
    "# Data exploration"
   ]
  },
  {
   "cell_type": "code",
   "execution_count": 3,
   "metadata": {},
   "outputs": [],
   "source": [
    "import os\n",
    "import json\n",
    "import pandas as pd\n",
    "import matplotlib.pyplot as plt\n",
    "import numpy as np"
   ]
  },
  {
   "cell_type": "code",
   "execution_count": 4,
   "metadata": {},
   "outputs": [
    {
     "name": "stdout",
     "output_type": "stream",
     "text": [
      "['B-NAME_STUDENT', 'I-NAME_STUDENT', 'O', 'O', 'O', 'O', 'O', 'O', 'O', 'O', 'O', 'O', 'O', 'O', 'O', 'O', 'O', 'O', 'O', 'O', 'O', 'O', 'O', 'O', 'O', 'O', 'O', 'O', 'O', 'O', 'O', 'O', 'O', 'O', 'O', 'O', 'O', 'O', 'O', 'O', 'O', 'O', 'O', 'O', 'O', 'O', 'O', 'O', 'O', 'O', 'O', 'O', 'O', 'O', 'O', 'O', 'O', 'O', 'O', 'O', 'O', 'O', 'O', 'O', 'O', 'O', 'O', 'O', 'O', 'O', 'O', 'O', 'O', 'O', 'O', 'O', 'O', 'O', 'O', 'O', 'O', 'O', 'O', 'O', 'O', 'O', 'O', 'O', 'O', 'O', 'O', 'O', 'O', 'O', 'O', 'O', 'O', 'O', 'O', 'O', 'O', 'O', 'O', 'O', 'O', 'O', 'O', 'O', 'O', 'O', 'O', 'O', 'O', 'O', 'O', 'O', 'O', 'O', 'O', 'O', 'O', 'O', 'O', 'O', 'O', 'O', 'O', 'O', 'O', 'O', 'O', 'O', 'O', 'O', 'O', 'O', 'O', 'O', 'O', 'O', 'O', 'O', 'O', 'O', 'O', 'O', 'O', 'O', 'O', 'O', 'O', 'O', 'O', 'O', 'O', 'O', 'O', 'O', 'O', 'O', 'O', 'O', 'O', 'O', 'O', 'O', 'O', 'O', 'O', 'O', 'O', 'O', 'O', 'O', 'O', 'O', 'O', 'O', 'O', 'O', 'O', 'O', 'O', 'O', 'O', 'O', 'O', 'O', 'O', 'O', 'O', 'O', 'O', 'O', 'O', 'O', 'O', 'O', 'O', 'O', 'O', 'O', 'O', 'O', 'O', 'O', 'O', 'O', 'O', 'O', 'O', 'O', 'O', 'O', 'O', 'O', 'O', 'O', 'O', 'O', 'O', 'O', 'O', 'O', 'O', 'O', 'O', 'O', 'O', 'O', 'O', 'O', 'O', 'O', 'O', 'O', 'O', 'O', 'O', 'O', 'O', 'O', 'O', 'O', 'O', 'O', 'O', 'O', 'O', 'O', 'O', 'O', 'O', 'O', 'O', 'O', 'O', 'O', 'O', 'O', 'O', 'O', 'O', 'O', 'O', 'O', 'O', 'O', 'O', 'O', 'O', 'O', 'O', 'O', 'O', 'O', 'O', 'O', 'O', 'O', 'O', 'O', 'O', 'O', 'O', 'O', 'O', 'O', 'O', 'O', 'O', 'O', 'O', 'O', 'O', 'O', 'O', 'O', 'O', 'O', 'O', 'O', 'O', 'O', 'O', 'O', 'O', 'O', 'O', 'O', 'O', 'O', 'O', 'O', 'O', 'O', 'O', 'O', 'O', 'O', 'O', 'O', 'O', 'O', 'O', 'O', 'O', 'O', 'O', 'O', 'O', 'O', 'O', 'O', 'O', 'O', 'O', 'O', 'O', 'O', 'O', 'O', 'O', 'O', 'O', 'O', 'O', 'O', 'O', 'O', 'O', 'O', 'O', 'O', 'O', 'O', 'O', 'O', 'O', 'O', 'O', 'O', 'O', 'O', 'O', 'O', 'O', 'O', 'O', 'O', 'O', 'O', 'O', 'O', 'O', 'O', 'O', 'O', 'O', 'O', 'O', 'O', 'O', 'O', 'O', 'O', 'O', 'O', 'O', 'O', 'O', 'O', 'O', 'O', 'O', 'O', 'O', 'O', 'O', 'O', 'O', 'O', 'O', 'O', 'O', 'O', 'O', 'O', 'O', 'O', 'O', 'O', 'O', 'O', 'O', 'O', 'O', 'O', 'O', 'O', 'O', 'O', 'O', 'O', 'O', 'O', 'O', 'O', 'O', 'O', 'O', 'O', 'O', 'O', 'O', 'O', 'O', 'O', 'O', 'O', 'O', 'O', 'O', 'O', 'O', 'O', 'O', 'O', 'O', 'O', 'O', 'O', 'O', 'O', 'O', 'O', 'O', 'O', 'O', 'O', 'O', 'O', 'O', 'O', 'B-NAME_STUDENT', 'I-NAME_STUDENT', 'O', 'O', 'O', 'O', 'O', 'O', 'O', 'O', 'O', 'O', 'O', 'O', 'O', 'O', 'O', 'O', 'O', 'O', 'O', 'O', 'O', 'O', 'O', 'O', 'O', 'O', 'O', 'O', 'O', 'O', 'O', 'O', 'O', 'O', 'O', 'O', 'O', 'O', 'O', 'O', 'O', 'O', 'O', 'O', 'O', 'O', 'O', 'O', 'O', 'O', 'O', 'O', 'O', 'O', 'O', 'O', 'O', 'O', 'O', 'O', 'O', 'O', 'O', 'O', 'O', 'O', 'O', 'O', 'O', 'O', 'O', 'O', 'O', 'O', 'O', 'O', 'O', 'O', 'O', 'O', 'O', 'O', 'O', 'O', 'O', 'O', 'O', 'O', 'O', 'O', 'O', 'O', 'O', 'O', 'O', 'O', 'O']\n",
      "****\n",
      "B-NAME_STUDENT\n",
      "I-NAME_STUDENT\n",
      "B-NAME_STUDENT\n",
      "I-NAME_STUDENT\n"
     ]
    }
   ],
   "source": [
    "data_path = os.path.join('..', 'src' ,'data', 'train.json')\n",
    "\n",
    "# opening and reading the json file\n",
    "f = open(data_path)\n",
    "data = json.load(f)\n",
    " \n",
    "# iterating through the json list\n",
    "# for i in data[:10]:\n",
    "#     print(i)\n",
    " \n",
    "for key, value in data[1].items():\n",
    "    if(key == \"labels\"):\n",
    "    \n",
    "        print(value)\n",
    "        print(\"****\")\n",
    "        for val in value:\n",
    "            if val != \"O\":\n",
    "                print(val)\n",
    "        # print(len([val for val in value if val!=\"O\"]))\n",
    "\n",
    "# closing the file\n",
    "f.close()\n"
   ]
  },
  {
   "cell_type": "code",
   "execution_count": 5,
   "metadata": {},
   "outputs": [
    {
     "name": "stdout",
     "output_type": "stream",
     "text": [
      "Number of samples:  6807\n"
     ]
    }
   ],
   "source": [
    "print(\"Number of samples: \", len(data))"
   ]
  },
  {
   "cell_type": "code",
   "execution_count": 6,
   "metadata": {},
   "outputs": [
    {
     "name": "stdout",
     "output_type": "stream",
     "text": [
      "data fields: dict_keys(['document', 'full_text', 'tokens', 'trailing_whitespace', 'labels'])\n"
     ]
    }
   ],
   "source": [
    "print(f\"data fields: {data[0].keys()}\")"
   ]
  },
  {
   "cell_type": "code",
   "execution_count": 7,
   "metadata": {},
   "outputs": [],
   "source": [
    "data_df = pd.DataFrame(data)"
   ]
  },
  {
   "cell_type": "code",
   "execution_count": 8,
   "metadata": {},
   "outputs": [
    {
     "name": "stdout",
     "output_type": "stream",
     "text": [
      "Longest text - length: 3298\n",
      "Shortest text: 69\n",
      "Average text length (words): 733.44\n"
     ]
    }
   ],
   "source": [
    "data_df['length'] = data_df['tokens'].apply(len)\n",
    "avg_text_length = data_df['length'].mean()\n",
    "longest_text_length = data_df['length'].max()\n",
    "longest_text = data_df['full_text'][data_df['length'].idxmax()]\n",
    "shortest_text_length = data_df['length'].min()\n",
    "shortest_text = data_df['full_text'][data_df['length'].idxmin()]\n",
    "print(f\"Longest text - length: {longest_text_length}\")\n",
    "print(f\"Shortest text: {shortest_text_length}\")\n",
    "print(f\"Average text length (words): {avg_text_length:.2f}\")"
   ]
  },
  {
   "cell_type": "code",
   "execution_count": 9,
   "metadata": {},
   "outputs": [
    {
     "name": "stdout",
     "output_type": "stream",
     "text": [
      "longest text: \n",
      "Re-Engaging  Students:  A  Learning  Launch  Experiment\n",
      "\n",
      "Salman Fong,  June  27  2020\n",
      "\n",
      "1. Challenge\n",
      "\n",
      "At   an   EdTech   company   that   I   worked   at,   we   were   undergoing   a   massive   digital   transformation   program.   Our   team   was   tasked   with   finding   innovative   solutions   that   we   can   bring   to   the   market   quickly   to   broaden   our   offering   by   utilizing   our   existing   content.   The   company   was   a   traditional   publishing   house   catering   textbooks   to   a   large   number   of   schools   &   universities.   It   was   not   easy   to   change   the   existing   business   processes.   The   backend   content   creation,   organization   and   data-management   was   a   time-consuming   process.   But   it  provided   the   high   quality   content   that   the   market   had   come   to   expect   of   the   company.   We   cannot   compromise   on   the   quality   for   sure,   but   we   need   to   streamline   the   process   to   be   a   bit   more   nimble   and   fast.   The   turnaround   time   for   material   revision   was   in   the   order   of   months   if  not   years,   which   meant   that   we   cannot   deliver   up-to-date   content   to   the   students   in   a   timely   manner.   Another   more   important   challenge   that   was   facing   the   academic   institutions   was   the   high   number   of   dropout   rates.   Students   just   stopped   attending   schools.   Reasons   varied   -   lack   of   interest/motivation,   socio-economic   factors   etc.   And   that’s  the   challenge   that   we   were   willing   to   take   on   initially.   How   can   we   keep   the   students   engaged   and   motivated   so   they   don’t   drop   out   -   since   this   has   a   huge   impact   on   their   future   career   and   on   the   community   as   a   whole.            Even   though   this   concern   had   been   in   the   minds   of   the   business   executives   for   a   while   and   there   were   various   ideation   exercises   taken   up,   none   of   them   were   put   to   practice,   as   they   were   stuck   in   the   processes.   The   legacy   teams   were   not   adopting   the   approaches   from  the   Design   Thinking   framework.   When   I   joined   the   company   it  was   in   the   mid-2010s.   My   small   team   was   excited   about   applying   newer   methodologies   to   these   burning   issues.   We   noticed   the   increasing   significance   mobile   phones   were   playing   in   our   lives   in   general,   and   students’   lives   in   particular.   Our   team   started   observing   the   effect   of   smartphones   on   students,   and   how   the   smartphones   had   become   so   ubiquitous   and   so   personal.   Majority   of   the   students   relied   on   these   devices   as   primary   source   of   information/entertainment/distractions!   So   we   decided   to   develop   a   prototype   mobile   app   that   can   deliver   key   information   to   them   at   the   right   times   so   they   can   stay   on   top   of   their   course   assignments.   This   was   to   be   our   ‘learning   launch’   experiment!   We   had   come   up   with   a   few   hypotheses   to   test:   (1)   Friendly   reminders,   delivered   via   smartphones,   to   students   regarding   their   upcoming   assignments   is   going   to   help   them   stay   on   track,    (2)   We   could   gain   more   insight   into   the   users’   app   engagement   which   can   further   drive   feature   developments,   (3)   We   could   make   future   content   delivery   ‘mobile-first’   for   an   optimal   UX   and   improved   engagement.\n",
      "\n",
      "2. Selection\n",
      "\n",
      "Based   on   the   challenges   our   team   faced,   and   the   overall   course   of   our   business\n",
      "\n",
      "transformation,   we   decided   to   use   the   ‘learning   launch’   design   thinking   tool   for   our   purposes.   As   stated    here ,   learning   launch   is   a   quick   and   inexpensive   experiment   to   validate   a   growth   idea   before   committing   additional   resources   to   build   out   a   full   product.   We   chose   this   tool   because   of   it’s   real-world   driven   feedback   that   can   help   us   iteratively   improve   upon   the   initial   ideas.   It   can   also   help   us   park   our   disproven   hypotheses   for   the   time   being   and   ensure   we   focus   on   the   really   valuable   ones   that   meet   the   current   market   conditions.        Following   Michael Just’s   instructions    as   stated   in   Module   4/Week   4   of   the   Design   Thinking   for   Innovation   course,   we   focussed   on   testing   out   the   various   hypotheses   to   get   to   the   different   ‘trues’.   We   had   to   pick   the   best   idea(s)   to   work   on   to   have   a   positive   business   impact.   We   wanted   to   avoid   a   lot   of   guesswork   and   incorrect   projections   just   so   we   can   come   up   with   a   business   plan.   We   wanted   to   learn   quickly   from  our   ideas.   We   wanted   to   identify   the   ones   that   showcase   the   ‘burning   need’   of   our   customers.   We   wanted   to   know   the   real-world   truths   about   the   various   ideas   we   were   exploring.   These   reasons   helped   us   zero   in   on   the   learning   launch   tool   as   the   preferred   one   for   this   experiment.\n",
      "\n",
      "3. Application\n",
      "\n",
      "In  order  to  apply  this  model,  we  committed  to  building  a  prototype  app  first.  It  was  to  be\n",
      "\n",
      "responsive  with  less  barrier  for  adoption  by  students.  With  minimal  resources  -  small  team,   shortened  time  period,  AND  not  much  of  a  budget  -  we  went  about  building  a  responsive  mobile   app  that  was  bare  minimal  in  functionality.  From  a  broad  set  of  features  we  had  originally   planned  for  a  full  fledged  mobile  app,  we  pared  down  to  the  basics.  We  ended  up  deciding  to   support  just  three  key  features:  (1)  Login  for  enrolled  users  only,  (2)  View  course  info,  along  with   assignment  dates  (3)  Opt-in  for  reminders  and  notifications.   This  helped  us  to  clearly  get  the   relevant  usage  data  to  prove/dis-prove  our  hypotheses  that  we  set  out  to  test.     Around  100  pre-approved  users  were  given  access  to  the  app.  This  helped  us  keep  the  user   count  to  a  manageable  level.  We  were  able  to  integrate  certain  analytics  features  into  the  app   so  we  can  collect  meaningful  data  for  our  analyses.  That’s  where  our  learning  would  kick  in.  As   an  alternative  mode  of  data  collection,  we  were  able  to  bring  in  a  few  student  volunteers  to   observe  first  hand  how  they  used  our  app,  with  candid  feedback.      With  both  the  modes  we  were  able  to  monitor  &  gather  a  few  weeks  worth  of  data,  which   revealed  to  us  the  various  usage  patterns,  shortcomings  and  the  missing  features.     We  really  wanted  to  test  our  assumptions  about  the  friendly  reminders  helping  them,  and   whether  the  students  prefer  nuggets  of  content  optimized  for  mobile  model  of  interaction  -  brief   short  duration  vs  long  duration  assignments.\n",
      "\n",
      "4. Insight\n",
      "\n",
      "Throughout  this  rollout  our  team  was  committed  to  providing  the  best  possible  experience   and  to  gather  the  maximum  quality  data  for  future  analysis.  Applying  learning  launch  helped  us   bring  a  certain  rigor  and  discipline  into  prototype  building  &  data  collection  processes.  It   certainly  helped  me  see  the  value  of  design  thinking  as  a  key  framework  in  the  business   context.        As  we  started  interpreting  the  collected  data,  we  observed  key  patterns  that  validated  our   hypotheses!  Users  certainly  liked  the  reminders  -  almost  all  of  them  opted-in  right  away  -  that   helped  them  complete  and  turn-in  their  assignments  on  time.  They  really  were  spending  more   time  in  the  reminders  screen  of  the  app  than  any  other.  Another  interesting  outcome  was  that   they  really  preferred  short  assignments  to  long  ones.  Given  the  nature  of  frequent  distractions   when  using  a  smartphone  it  was  no  surprise  that  short  bursts  of  key  engagements  provide  a   better  experience  for  the  students.  That  in  turn  keeps  them  motivated  to  learn  a  few  concepts  at   a  time.  This  turned  out  to  be  a  very  useful  insight  in  the  whole  experiment.  Till  this  point  our   content  creators  were  focussed  on  creating  a  huge  blob  of  linearly  delivered  course  material.   But  this  experiment  and  its  results  highlighted  the  changing  learning  landscape.  This  meant  that   our  business  has  to  quickly  adapt  to  the  market  conditions  and  produce  content  to  meet  those   conditions.  We  did  have  the  content,  we  just  need  to  ‘bite-size’  the  content  so  we  can  keep  the   students  coming  back  for  more  thereby  helping  them  achieve  their  learning  goals!     That   last   value   alone   proved(to   me,   atleast)   how   worthwhile   design   thinking   is!  In   a   traditional   world   people   would   have   hypothesized   this   model,   but   would   never   have   ventured   to   test   it  out   in   the   real   world   at   such   a   micro-scale.   To   me   this   was   an   eye-opener.   Since   this   experiment,   I’ve   been   keen   to   apply   the   various   tools   of   Design   Thinking   to   optimize   the   execution   time   of   an   idea   -   ideate,   prototype   &   validate,   iterate-repeat,   release.   Certainly   learning   launch   is   an   invaluable   tool   in   the   arsenal!\n",
      "\n",
      "5. Approach\n",
      "\n",
      "Before  we  started  down  this  path,  our  go-to  design  thinking  tool  was  the  mind  mapping  tool.  It   is  valuable  in  its  own  right  in  order  to  get  an  understanding  of  ‘What  is?’   But  for  our  challenge   here,  we  opted  for  the  learning  launch  tool  since  we  had  a  clear  objective  to  apply  it  to.  We  had   a  few  assumptions  to  test  out,  and  we  were  at  a  key  point  in  the  product  life  cycle  where  we  had   to  prove  if  the  new  highly-impactful  idea  would  work  in  the  real  world.      If  I  were  to  do  this  again,  I’d  definitely  pick  the  learning  launch  tool,  as  it  clearly  satisfied  our   needs.  It  provided  us  the  data  we  needed  to  convince  the  business  stakeholders  to  change   course  and  support  our  team  with  more  resources  for  real  product  build  out.  That  validation  was\n",
      "\n",
      "crucial.  It  also  helped  our  team  focus  on  the  right  set  of  data  to  use  for  analysis,  and  also   prodded  us  to  ask  the  right  questions  in  order  to  get  the  best  insights.  Plus,  everyone  in  the   team  enjoyed  the  discovery  &  the  learning  process.  It  kept  us  engaged  and  excited!     And,  at  the  end  of  this  experiment  we  set  out  to  build  the  Release  1  of  our  product,  improving   upon  the  prototype!  This  time  with  a  clear  roadmap  of  new  features  &  milestones  per  the  market   research.           Salman Fong   June  27,  2020\n",
      "\n",
      "\n"
     ]
    }
   ],
   "source": [
    "print(f\"longest text: \\n{longest_text}\")"
   ]
  },
  {
   "cell_type": "code",
   "execution_count": 10,
   "metadata": {},
   "outputs": [
    {
     "name": "stdout",
     "output_type": "stream",
     "text": [
      "shortest text: \n",
      "Think Twice and Make a Wise\n",
      "\n",
      "Concept Mapping:\n",
      "\n",
      "I  have choosen concept mapping to illustrate and easy understanding for BDS students\n",
      "\n",
      ". Here i have did the concept mapping based upon the branches of dentistry, so that they can  easily identify what are the clinicals and non-clinicals subjects they are going to face\n",
      "\n",
      "Branches of Dentistry\n",
      "\n",
      "Endodontics\n",
      "\n",
      "\n"
     ]
    }
   ],
   "source": [
    "print(f\"shortest text: \\n{shortest_text}\")"
   ]
  },
  {
   "cell_type": "markdown",
   "metadata": {},
   "source": [
    "Checking if our suspicion that PII appears either at the beginning or at the end is true"
   ]
  },
  {
   "cell_type": "code",
   "execution_count": 11,
   "metadata": {},
   "outputs": [
    {
     "data": {
      "text/plain": [
       "[(15, 'B-NAME_STUDENT'),\n",
       " (16, 'I-NAME_STUDENT'),\n",
       " (3288, 'B-NAME_STUDENT'),\n",
       " (3289, 'I-NAME_STUDENT')]"
      ]
     },
     "execution_count": 11,
     "metadata": {},
     "output_type": "execute_result"
    }
   ],
   "source": [
    "[(i,label) for i, label in enumerate(data_df['labels'][data_df['length'].idxmax()]) if label != 'O']"
   ]
  },
  {
   "cell_type": "markdown",
   "metadata": {},
   "source": [
    "As we can see above, the name of the student appears at the beginning and at the end. Now let's check how it is for the whole dataset"
   ]
  },
  {
   "cell_type": "code",
   "execution_count": 12,
   "metadata": {},
   "outputs": [
    {
     "data": {
      "text/plain": [
       "0    [9, 10, 482, 483, 741, 742]\n",
       "1               [0, 1, 464, 465]\n",
       "2                         [4, 5]\n",
       "3                         [5, 6]\n",
       "4                       [12, 13]\n",
       "Name: labeled_indexes, dtype: object"
      ]
     },
     "execution_count": 12,
     "metadata": {},
     "output_type": "execute_result"
    }
   ],
   "source": [
    "data_df['labeled_tokens'] = data_df.apply(lambda x: [x['tokens'][i] for i, label in enumerate(x['labels']) if label != 'O'], axis=1)\n",
    "data_df['labeled_indexes'] = data_df.apply(lambda x: [i for i, label in enumerate(x['labels']) if label != 'O'], axis=1)\n",
    "data_df['labeled_indexes'].head()"
   ]
  },
  {
   "cell_type": "code",
   "execution_count": 13,
   "metadata": {},
   "outputs": [
    {
     "name": "stdout",
     "output_type": "stream",
     "text": [
      "               labeled_indexes  \\\n",
      "0  [9, 10, 482, 483, 741, 742]   \n",
      "1             [0, 1, 464, 465]   \n",
      "2                       [4, 5]   \n",
      "3                       [5, 6]   \n",
      "4                     [12, 13]   \n",
      "\n",
      "                                  label_distribution  text_length  \n",
      "0  [True, False, False, False, False, True, False...          753  \n",
      "1  [True, False, False, False, False, False, True...          563  \n",
      "2  [True, False, False, False, False, False, Fals...          729  \n",
      "3  [True, False, False, False, False, False, Fals...         1071  \n",
      "4  [True, False, False, False, False, False, Fals...         1927  \n"
     ]
    }
   ],
   "source": [
    "#a column that describes in which part of the text the labeled tokens are \n",
    "def label_distribution(row, nb_parts = 4):\n",
    "    \"\"\" \n",
    "    input: \n",
    "        - row: row of a dataframe\n",
    "        - nb_parts: int\n",
    "    output:\n",
    "        - list of length nb_parts with, with a True if there is a label in that part and false otherwise\n",
    "    \"\"\"\n",
    "    indices = row['labeled_indexes']\n",
    "    text_length = len(row['tokens'])\n",
    "    indices = [id/text_length for id in indices]\n",
    "    # checking if the labeled indexes are in the first part, second part, etc\n",
    "    return [any((n)/nb_parts <= id <(n+1)/nb_parts for id in indices) for n in range(nb_parts)]\n",
    "\n",
    "nb_parts = 8\n",
    "data_df[\"label_distribution\"] = data_df.apply(lambda x: label_distribution(x, nb_parts),axis=1)\n",
    "data_df[\"text_length\"] = data_df.apply(lambda x: len(x['tokens']),axis=1)\n",
    "print(data_df[['labeled_indexes','label_distribution','text_length']].head())"
   ]
  },
  {
   "cell_type": "markdown",
   "metadata": {},
   "source": [
    "## Location of labels\n",
    "The graph below show how many of the PII labeled tokens appear in each quantile of the texts."
   ]
  },
  {
   "cell_type": "code",
   "execution_count": 14,
   "metadata": {},
   "outputs": [
    {
     "name": "stdout",
     "output_type": "stream",
     "text": [
      "[763  25  42  65  74  75  57 171]\n"
     ]
    },
    {
     "data": {
      "text/plain": [
       "<BarContainer object of 8 artists>"
      ]
     },
     "execution_count": 14,
     "metadata": {},
     "output_type": "execute_result"
    },
    {
     "data": {
      "image/png": "[encoded data removed]",
      "text/plain": [
       "<Figure size 640x480 with 1 Axes>"
      ]
     },
     "metadata": {},
     "output_type": "display_data"
    }
   ],
   "source": [
    "#plotting the distribution of the labels\n",
    "label_distribution = np.array(data_df['label_distribution'].tolist())\n",
    "label_distribution = label_distribution.sum(axis=0)\n",
    "print(label_distribution)\n",
    "plt.bar(range(1,nb_parts+1), label_distribution)"
   ]
  },
  {
   "cell_type": "markdown",
   "metadata": {},
   "source": [
    "As seen in the graph above, most of the PII is at the beginning of the document"
   ]
  },
  {
   "cell_type": "markdown",
   "metadata": {},
   "source": [
    "## Distribution of labels"
   ]
  },
  {
   "cell_type": "code",
   "execution_count": 15,
   "metadata": {},
   "outputs": [
    {
     "data": {
      "text/plain": [
       "{'B-EMAIL',\n",
       " 'B-ID_NUM',\n",
       " 'B-NAME_STUDENT',\n",
       " 'B-PHONE_NUM',\n",
       " 'B-STREET_ADDRESS',\n",
       " 'B-URL_PERSONAL',\n",
       " 'B-USERNAME',\n",
       " 'I-ID_NUM',\n",
       " 'I-NAME_STUDENT',\n",
       " 'I-PHONE_NUM',\n",
       " 'I-STREET_ADDRESS',\n",
       " 'I-URL_PERSONAL',\n",
       " 'O'}"
      ]
     },
     "execution_count": 15,
     "metadata": {},
     "output_type": "execute_result"
    }
   ],
   "source": [
    "all_labels = set([label for sublist in data_df['labels'] for label in sublist])\n",
    "all_labels"
   ]
  },
  {
   "cell_type": "code",
   "execution_count": 16,
   "metadata": {},
   "outputs": [
    {
     "data": {
      "text/plain": [
       "B-NAME_STUDENT      1365\n",
       "B-URL_PERSONAL       110\n",
       "B-ID_NUM              78\n",
       "B-EMAIL               39\n",
       "B-USERNAME             6\n",
       "B-PHONE_NUM            6\n",
       "B-STREET_ADDRESS       2\n",
       "Name: count, dtype: int64"
      ]
     },
     "execution_count": 16,
     "metadata": {},
     "output_type": "execute_result"
    }
   ],
   "source": [
    "label_counts = (data_df['labels'].apply(pd.Series).stack().value_counts())\n",
    "label_counts = label_counts[label_counts.index != 'O']\n",
    "label_counts = label_counts.sort_values(ascending=False)\n",
    "label_counts_no_i = label_counts.drop(labels=[label for label in label_counts.index if 'I-' in label])\n",
    "label_counts_no_i"
   ]
  },
  {
   "cell_type": "code",
   "execution_count": 17,
   "metadata": {},
   "outputs": [
    {
     "data": {
      "text/plain": [
       "['B-NAME_STUDENT',\n",
       " 'B-URL_PERSONAL',\n",
       " 'B-ID_NUM',\n",
       " 'B-EMAIL',\n",
       " 'B-USERNAME',\n",
       " 'B-PHONE_NUM',\n",
       " 'B-STREET_ADDRESS']"
      ]
     },
     "execution_count": 17,
     "metadata": {},
     "output_type": "execute_result"
    }
   ],
   "source": [
    "[label for label in label_counts.index if not 'I-' in label]"
   ]
  },
  {
   "cell_type": "markdown",
   "metadata": {},
   "source": [
    "### All labels"
   ]
  },
  {
   "cell_type": "code",
   "execution_count": 18,
   "metadata": {},
   "outputs": [
    {
     "data": {
      "text/plain": [
       "<BarContainer object of 12 artists>"
      ]
     },
     "execution_count": 18,
     "metadata": {},
     "output_type": "execute_result"
    },
    {
     "data": {
      "image/png": "[encoded data removed]",
      "text/plain": [
       "<Figure size 2200x1000 with 1 Axes>"
      ]
     },
     "metadata": {},
     "output_type": "display_data"
    }
   ],
   "source": [
    "plt.figure(figsize=(22,10))\n",
    "plt.bar(label_counts.index, label_counts)"
   ]
  },
  {
   "cell_type": "markdown",
   "metadata": {},
   "source": [
    "### Only the beginning of the labels"
   ]
  },
  {
   "cell_type": "code",
   "execution_count": 19,
   "metadata": {},
   "outputs": [
    {
     "data": {
      "text/plain": [
       "<BarContainer object of 7 artists>"
      ]
     },
     "execution_count": 19,
     "metadata": {},
     "output_type": "execute_result"
    },
    {
     "data": {
      "image/png": "[encoded data removed]",
      "text/plain": [
       "<Figure size 2400x1000 with 1 Axes>"
      ]
     },
     "metadata": {},
     "output_type": "display_data"
    }
   ],
   "source": [
    "plt.figure(figsize=(24,10))\n",
    "plt.bar(label_counts_no_i.index, label_counts_no_i)"
   ]
  }
 ],
 "metadata": {
  "kernelspec": {
   "display_name": "projet-en-tal",
   "language": "python",
   "name": "python3"
  },
  "language_info": {
   "codemirror_mode": {
    "name": "ipython",
    "version": 3
   },
   "file_extension": ".py",
   "mimetype": "text/x-python",
   "name": "python",
   "nbconvert_exporter": "python",
   "pygments_lexer": "ipython3",
   "version": "3.12.1"
  }
 },
 "nbformat": 4,
 "nbformat_minor": 2
}
