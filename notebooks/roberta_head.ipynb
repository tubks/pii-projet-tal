{
 "cells": [
  {
   "cell_type": "code",
   "execution_count": 1,
   "metadata": {},
   "outputs": [],
   "source": [
    "import numpy as np\n",
    "import os\n",
    "import pandas as pd\n",
    "\n",
    "from datasets import Dataset\n",
    "from functools import reduce\n",
    "from seqeval.metrics import recall_score, precision_score\n",
    "from transformers import AutoTokenizer, AutoModelForTokenClassification, TrainingArguments, Trainer\n",
    "from functools import partial\n",
    "from tqdm import tqdm\n",
    "\n",
    "# add the parent directory to the path so we can import the dataloader module\n",
    "import sys\n",
    "sys.path.append('..')\n",
    "from src.data.dataloader import preprocess_data, get_dataset_from_path, get_train_val_test_split\n",
    "from src.models.utils import get_fbeta_score, compute_metrics"
   ]
  },
  {
   "cell_type": "markdown",
   "metadata": {},
   "source": [
    "## Trainign roberta on just the classification head"
   ]
  },
  {
   "cell_type": "code",
   "execution_count": 2,
   "metadata": {},
   "outputs": [],
   "source": [
    "class CFG:\n",
    "    LABELS_LIST = ['B-NAME_STUDENT', 'B-EMAIL', 'B-USERNAME', 'B-ID_NUM', 'B-PHONE_NUM', 'B-URL_PERSONAL', 'B-STREET_ADDRESS', 'I-NAME_STUDENT', 'I-EMAIL', 'I-USERNAME', 'I-ID_NUM', 'I-PHONE_NUM','I-URL_PERSONAL','I-STREET_ADDRESS', 'O']\n",
    "    label2id = {label: i for i, label in enumerate(LABELS_LIST)}\n",
    "    label2id['[PAD]'] = -100\n",
    "    id2label = {i: label for label, i in label2id.items()}\n",
    "    seed = 42\n",
    "\n",
    "    # model checkpoint\n",
    "    model_name = 'roberta-base'\n",
    "    train_head_only = True\n",
    "\n",
    "    # path to the directory where the model will be saved\n",
    "    local_path = os.path.abspath(os.path.abspath(''))\n",
    "    target_dir = os.path.join(local_path,'..','models', 'roberta-base')\n",
    "\n",
    "    #training arguments\n",
    "    training_args = TrainingArguments(\n",
    "        output_dir=os.path.join(target_dir, 'trainer'), \n",
    "        evaluation_strategy=\"epoch\"\n",
    "        )\n",
    "    model_save_path = os.path.join(target_dir, 'model')\n",
    "\n",
    "tokenizer = AutoTokenizer.from_pretrained(CFG.model_name, add_prefix_space=True)"
   ]
  },
  {
   "cell_type": "markdown",
   "metadata": {},
   "source": [
    "## Loading the data"
   ]
  },
  {
   "cell_type": "code",
   "execution_count": 3,
   "metadata": {},
   "outputs": [
    {
     "name": "stdout",
     "output_type": "stream",
     "text": [
      "Dataset({\n",
      "    features: ['document', 'full_text', 'tokens', 'trailing_whitespace', 'labels'],\n",
      "    num_rows: 6807\n",
      "})\n",
      "encoding the labels...\n"
     ]
    },
    {
     "data": {
      "application/vnd.jupyter.widget-view+json": {
       "model_id": "5dc5739c64894b30882de313bbd40f99",
       "version_major": 2,
       "version_minor": 0
      },
      "text/plain": [
       "Map:   0%|          | 0/6807 [00:00<?, ? examples/s]"
      ]
     },
     "metadata": {},
     "output_type": "display_data"
    },
    {
     "name": "stdout",
     "output_type": "stream",
     "text": [
      "tokenizing and aligning...\n"
     ]
    },
    {
     "data": {
      "application/vnd.jupyter.widget-view+json": {
       "model_id": "af53e6b334604c83a3c5423560d20329",
       "version_major": 2,
       "version_minor": 0
      },
      "text/plain": [
       "Map:   0%|          | 0/6807 [00:00<?, ? examples/s]"
      ]
     },
     "metadata": {},
     "output_type": "display_data"
    },
    {
     "name": "stdout",
     "output_type": "stream",
     "text": [
      "flattening the data...\n"
     ]
    },
    {
     "name": "stderr",
     "output_type": "stream",
     "text": [
      "100%|██████████| 5/5 [00:06<00:00,  1.20s/it]\n"
     ]
    }
   ],
   "source": [
    "keys_to_flatten = ['input_ids', 'attention_mask', 'org_word_ids', 'document']\n",
    "data_path = os.path.join('..','data', 'raw', 'train.json')\n",
    "data = get_dataset_from_path(data_path)\n",
    "data = preprocess_data(data, tokenizer, label2id = CFG.label2id, keys_to_flatten=keys_to_flatten)\n",
    "data_train, data_eval, data_test = get_train_val_test_split(data, seed=CFG.seed)"
   ]
  },
  {
   "cell_type": "markdown",
   "metadata": {},
   "source": [
    "## Training"
   ]
  },
  {
   "cell_type": "code",
   "execution_count": 4,
   "metadata": {},
   "outputs": [],
   "source": [
    "def compute_metrics(p, id2label):\n",
    "    predictions, labels = p\n",
    "    predictions = np.argmax(predictions, axis=2)\n",
    "\n",
    "    #print(predictions[1])\n",
    "    # Remove ignored index (special tokens)\n",
    "    true_predictions = [\n",
    "        [id2label[p] for (p, l) in zip(prediction, label) if l != -100]\n",
    "        for prediction, label in zip(predictions, labels)\n",
    "    ]\n",
    "    #print(true_predictions[1])\n",
    "    true_labels = [\n",
    "        [id2label[l] for (p, l) in zip(prediction, label) if l != -100]\n",
    "        for prediction, label in zip(predictions, labels)\n",
    "    ]\n",
    "\n",
    "    #print(true_labels[1])\n",
    "\n",
    "    recall = recall_score(true_labels, true_predictions)\n",
    "    precision = precision_score(true_labels, true_predictions)\n",
    "    fbeta_score = get_fbeta_score(precision, recall)\n",
    "\n",
    "    results = {\n",
    "        'recall': recall,\n",
    "        'precision': precision,\n",
    "        'fbeta_score': fbeta_score\n",
    "    }\n",
    "        \n",
    "    return results"
   ]
  },
  {
   "cell_type": "code",
   "execution_count": 5,
   "metadata": {},
   "outputs": [
    {
     "name": "stderr",
     "output_type": "stream",
     "text": [
      "Some weights of RobertaForTokenClassification were not initialized from the model checkpoint at roberta-base and are newly initialized: ['classifier.bias', 'classifier.weight']\n",
      "You should probably TRAIN this model on a down-stream task to be able to use it for predictions and inference.\n"
     ]
    }
   ],
   "source": [
    "model = AutoModelForTokenClassification.from_pretrained(CFG.model_name, num_labels=len(CFG.label2id), id2label=CFG.id2label, label2id=CFG.label2id)\n",
    "for param in model.base_model.parameters():\n",
    "    param.requires_grad = False"
   ]
  },
  {
   "cell_type": "code",
   "execution_count": 6,
   "metadata": {},
   "outputs": [
    {
     "name": "stderr",
     "output_type": "stream",
     "text": [
      "/opt/homebrew/anaconda3/envs/projet-en-tal/lib/python3.11/site-packages/accelerate/accelerator.py:432: FutureWarning: Passing the following arguments to `Accelerator` is deprecated and will be removed in version 1.0 of Accelerate: dict_keys(['dispatch_batches', 'split_batches']). Please pass an `accelerate.DataLoaderConfiguration` instead: \n",
      "dataloader_config = DataLoaderConfiguration(dispatch_batches=None, split_batches=False)\n",
      "  warnings.warn(\n"
     ]
    }
   ],
   "source": [
    "training_args_head = CFG.training_args\n",
    "training_args_head.output_dir = os.path.join(CFG.target_dir, 'head_only')\n",
    "training_args_head.num_train_epochs = 10\n",
    "trainer_head = Trainer(\n",
    "    model=model,\n",
    "    args=training_args_head,\n",
    "    train_dataset=data_train,\n",
    "    eval_dataset=data_eval,\n",
    "    tokenizer=tokenizer,\n",
    "    compute_metrics=partial(compute_metrics, id2label=CFG.id2label),\n",
    ")"
   ]
  },
  {
   "cell_type": "code",
   "execution_count": 7,
   "metadata": {},
   "outputs": [
    {
     "data": {
      "application/vnd.jupyter.widget-view+json": {
       "model_id": "c0b1ed484b4544fbbc0742c0bda262ec",
       "version_major": 2,
       "version_minor": 0
      },
      "text/plain": [
       "  0%|          | 0/14300 [00:00<?, ?it/s]"
      ]
     },
     "metadata": {},
     "output_type": "display_data"
    },
    {
     "name": "stdout",
     "output_type": "stream",
     "text": [
      "{'loss': 1.476, 'learning_rate': 4.825174825174825e-05, 'epoch': 0.35}\n",
      "{'loss': 0.2472, 'learning_rate': 4.6503496503496505e-05, 'epoch': 0.7}\n"
     ]
    },
    {
     "data": {
      "application/vnd.jupyter.widget-view+json": {
       "model_id": "47a697656a8f4938b8df339c42544092",
       "version_major": 2,
       "version_minor": 0
      },
      "text/plain": [
       "  0%|          | 0/159 [00:00<?, ?it/s]"
      ]
     },
     "metadata": {},
     "output_type": "display_data"
    },
    {
     "name": "stderr",
     "output_type": "stream",
     "text": [
      "/opt/homebrew/anaconda3/envs/projet-en-tal/lib/python3.11/site-packages/seqeval/metrics/v1.py:57: UndefinedMetricWarning: Precision is ill-defined and being set to 0.0 due to no predicted samples. Use `zero_division` parameter to control this behavior.\n",
      "  _warn_prf(average, modifier, msg_start, len(result))\n",
      "/Users/zofia/Documents/UNI/UPARIS/sem2/pii-projet-tal/notebooks/../src/models/utils.py:13: RuntimeWarning: invalid value encountered in double_scalars\n",
      "  return (1 + b2) * ((precision * recall) / (b2 * precision + recall))\n"
     ]
    },
    {
     "name": "stdout",
     "output_type": "stream",
     "text": [
      "{'eval_loss': 0.030649319291114807, 'eval_recall': 0.0, 'eval_precision': 0.0, 'eval_fbeta_score': nan, 'eval_runtime': 50.263, 'eval_samples_per_second': 25.287, 'eval_steps_per_second': 3.163, 'epoch': 1.0}\n",
      "{'loss': 0.0533, 'learning_rate': 4.475524475524476e-05, 'epoch': 1.05}\n",
      "{'loss': 0.0299, 'learning_rate': 4.300699300699301e-05, 'epoch': 1.4}\n",
      "{'loss': 0.0221, 'learning_rate': 4.125874125874126e-05, 'epoch': 1.75}\n"
     ]
    },
    {
     "data": {
      "application/vnd.jupyter.widget-view+json": {
       "model_id": "166ae15316a744a498ce2e796a7ce33f",
       "version_major": 2,
       "version_minor": 0
      },
      "text/plain": [
       "  0%|          | 0/159 [00:00<?, ?it/s]"
      ]
     },
     "metadata": {},
     "output_type": "display_data"
    },
    {
     "name": "stderr",
     "output_type": "stream",
     "text": [
      "/opt/homebrew/anaconda3/envs/projet-en-tal/lib/python3.11/site-packages/seqeval/metrics/v1.py:57: UndefinedMetricWarning: Precision is ill-defined and being set to 0.0 due to no predicted samples. Use `zero_division` parameter to control this behavior.\n",
      "  _warn_prf(average, modifier, msg_start, len(result))\n",
      "/Users/zofia/Documents/UNI/UPARIS/sem2/pii-projet-tal/notebooks/../src/models/utils.py:13: RuntimeWarning: invalid value encountered in double_scalars\n",
      "  return (1 + b2) * ((precision * recall) / (b2 * precision + recall))\n"
     ]
    },
    {
     "name": "stdout",
     "output_type": "stream",
     "text": [
      "{'eval_loss': 0.01109398901462555, 'eval_recall': 0.0, 'eval_precision': 0.0, 'eval_fbeta_score': nan, 'eval_runtime': 48.2611, 'eval_samples_per_second': 26.336, 'eval_steps_per_second': 3.295, 'epoch': 2.0}\n",
      "{'loss': 0.0181, 'learning_rate': 3.9510489510489516e-05, 'epoch': 2.1}\n",
      "{'loss': 0.0165, 'learning_rate': 3.776223776223776e-05, 'epoch': 2.45}\n",
      "{'loss': 0.0124, 'learning_rate': 3.601398601398602e-05, 'epoch': 2.8}\n"
     ]
    },
    {
     "data": {
      "application/vnd.jupyter.widget-view+json": {
       "model_id": "39e15618cfd4415993868eafe80a39d9",
       "version_major": 2,
       "version_minor": 0
      },
      "text/plain": [
       "  0%|          | 0/159 [00:00<?, ?it/s]"
      ]
     },
     "metadata": {},
     "output_type": "display_data"
    },
    {
     "name": "stderr",
     "output_type": "stream",
     "text": [
      "/opt/homebrew/anaconda3/envs/projet-en-tal/lib/python3.11/site-packages/seqeval/metrics/v1.py:57: UndefinedMetricWarning: Precision is ill-defined and being set to 0.0 due to no predicted samples. Use `zero_division` parameter to control this behavior.\n",
      "  _warn_prf(average, modifier, msg_start, len(result))\n",
      "/Users/zofia/Documents/UNI/UPARIS/sem2/pii-projet-tal/notebooks/../src/models/utils.py:13: RuntimeWarning: invalid value encountered in double_scalars\n",
      "  return (1 + b2) * ((precision * recall) / (b2 * precision + recall))\n"
     ]
    },
    {
     "name": "stdout",
     "output_type": "stream",
     "text": [
      "{'eval_loss': 0.00758145097643137, 'eval_recall': 0.0, 'eval_precision': 0.0, 'eval_fbeta_score': nan, 'eval_runtime': 48.1492, 'eval_samples_per_second': 26.397, 'eval_steps_per_second': 3.302, 'epoch': 3.0}\n",
      "{'loss': 0.013, 'learning_rate': 3.4265734265734265e-05, 'epoch': 3.15}\n",
      "{'loss': 0.011, 'learning_rate': 3.251748251748252e-05, 'epoch': 3.5}\n",
      "{'loss': 0.0105, 'learning_rate': 3.0769230769230774e-05, 'epoch': 3.85}\n"
     ]
    },
    {
     "data": {
      "application/vnd.jupyter.widget-view+json": {
       "model_id": "f452defe55b3495fa99cb2636f46fbc8",
       "version_major": 2,
       "version_minor": 0
      },
      "text/plain": [
       "  0%|          | 0/159 [00:00<?, ?it/s]"
      ]
     },
     "metadata": {},
     "output_type": "display_data"
    },
    {
     "name": "stderr",
     "output_type": "stream",
     "text": [
      "/opt/homebrew/anaconda3/envs/projet-en-tal/lib/python3.11/site-packages/seqeval/metrics/v1.py:57: UndefinedMetricWarning: Precision is ill-defined and being set to 0.0 due to no predicted samples. Use `zero_division` parameter to control this behavior.\n",
      "  _warn_prf(average, modifier, msg_start, len(result))\n",
      "/Users/zofia/Documents/UNI/UPARIS/sem2/pii-projet-tal/notebooks/../src/models/utils.py:13: RuntimeWarning: invalid value encountered in double_scalars\n",
      "  return (1 + b2) * ((precision * recall) / (b2 * precision + recall))\n"
     ]
    },
    {
     "name": "stdout",
     "output_type": "stream",
     "text": [
      "{'eval_loss': 0.006165102124214172, 'eval_recall': 0.0, 'eval_precision': 0.0, 'eval_fbeta_score': nan, 'eval_runtime': 46.3098, 'eval_samples_per_second': 27.446, 'eval_steps_per_second': 3.433, 'epoch': 4.0}\n",
      "{'loss': 0.0097, 'learning_rate': 2.9020979020979022e-05, 'epoch': 4.2}\n",
      "{'loss': 0.0097, 'learning_rate': 2.7272727272727273e-05, 'epoch': 4.55}\n",
      "{'loss': 0.0101, 'learning_rate': 2.5524475524475528e-05, 'epoch': 4.9}\n"
     ]
    },
    {
     "data": {
      "application/vnd.jupyter.widget-view+json": {
       "model_id": "b345ec14d2e547b6a1d028aa68c04845",
       "version_major": 2,
       "version_minor": 0
      },
      "text/plain": [
       "  0%|          | 0/159 [00:00<?, ?it/s]"
      ]
     },
     "metadata": {},
     "output_type": "display_data"
    },
    {
     "name": "stderr",
     "output_type": "stream",
     "text": [
      "/opt/homebrew/anaconda3/envs/projet-en-tal/lib/python3.11/site-packages/seqeval/metrics/v1.py:57: UndefinedMetricWarning: Precision is ill-defined and being set to 0.0 due to no predicted samples. Use `zero_division` parameter to control this behavior.\n",
      "  _warn_prf(average, modifier, msg_start, len(result))\n",
      "/Users/zofia/Documents/UNI/UPARIS/sem2/pii-projet-tal/notebooks/../src/models/utils.py:13: RuntimeWarning: invalid value encountered in double_scalars\n",
      "  return (1 + b2) * ((precision * recall) / (b2 * precision + recall))\n"
     ]
    },
    {
     "name": "stdout",
     "output_type": "stream",
     "text": [
      "{'eval_loss': 0.005371148698031902, 'eval_recall': 0.0, 'eval_precision': 0.0, 'eval_fbeta_score': nan, 'eval_runtime': 47.7529, 'eval_samples_per_second': 26.616, 'eval_steps_per_second': 3.33, 'epoch': 5.0}\n",
      "{'loss': 0.0083, 'learning_rate': 2.377622377622378e-05, 'epoch': 5.24}\n",
      "{'loss': 0.0097, 'learning_rate': 2.202797202797203e-05, 'epoch': 5.59}\n",
      "{'loss': 0.0078, 'learning_rate': 2.027972027972028e-05, 'epoch': 5.94}\n"
     ]
    },
    {
     "data": {
      "application/vnd.jupyter.widget-view+json": {
       "model_id": "96d1f01e094b483aaa50e3a9a130892b",
       "version_major": 2,
       "version_minor": 0
      },
      "text/plain": [
       "  0%|          | 0/159 [00:00<?, ?it/s]"
      ]
     },
     "metadata": {},
     "output_type": "display_data"
    },
    {
     "name": "stderr",
     "output_type": "stream",
     "text": [
      "/opt/homebrew/anaconda3/envs/projet-en-tal/lib/python3.11/site-packages/seqeval/metrics/v1.py:57: UndefinedMetricWarning: Precision is ill-defined and being set to 0.0 due to no predicted samples. Use `zero_division` parameter to control this behavior.\n",
      "  _warn_prf(average, modifier, msg_start, len(result))\n",
      "/Users/zofia/Documents/UNI/UPARIS/sem2/pii-projet-tal/notebooks/../src/models/utils.py:13: RuntimeWarning: invalid value encountered in double_scalars\n",
      "  return (1 + b2) * ((precision * recall) / (b2 * precision + recall))\n"
     ]
    },
    {
     "name": "stdout",
     "output_type": "stream",
     "text": [
      "{'eval_loss': 0.0048636700958013535, 'eval_recall': 0.0, 'eval_precision': 0.0, 'eval_fbeta_score': nan, 'eval_runtime': 49.59, 'eval_samples_per_second': 25.63, 'eval_steps_per_second': 3.206, 'epoch': 6.0}\n",
      "{'loss': 0.0082, 'learning_rate': 1.8531468531468532e-05, 'epoch': 6.29}\n",
      "{'loss': 0.0075, 'learning_rate': 1.6783216783216786e-05, 'epoch': 6.64}\n",
      "{'loss': 0.0081, 'learning_rate': 1.5034965034965034e-05, 'epoch': 6.99}\n"
     ]
    },
    {
     "data": {
      "application/vnd.jupyter.widget-view+json": {
       "model_id": "acc9e6b07a544765aec1a69bbe79ea09",
       "version_major": 2,
       "version_minor": 0
      },
      "text/plain": [
       "  0%|          | 0/159 [00:00<?, ?it/s]"
      ]
     },
     "metadata": {},
     "output_type": "display_data"
    },
    {
     "name": "stderr",
     "output_type": "stream",
     "text": [
      "/Users/zofia/Documents/UNI/UPARIS/sem2/pii-projet-tal/notebooks/../src/models/utils.py:13: RuntimeWarning: invalid value encountered in double_scalars\n",
      "  return (1 + b2) * ((precision * recall) / (b2 * precision + recall))\n"
     ]
    },
    {
     "name": "stdout",
     "output_type": "stream",
     "text": [
      "{'eval_loss': 0.0045405118726193905, 'eval_recall': 0.0, 'eval_precision': 0.0, 'eval_fbeta_score': nan, 'eval_runtime': 49.5648, 'eval_samples_per_second': 25.643, 'eval_steps_per_second': 3.208, 'epoch': 7.0}\n",
      "{'loss': 0.008, 'learning_rate': 1.3286713286713287e-05, 'epoch': 7.34}\n",
      "{'loss': 0.0081, 'learning_rate': 1.153846153846154e-05, 'epoch': 7.69}\n"
     ]
    },
    {
     "data": {
      "application/vnd.jupyter.widget-view+json": {
       "model_id": "b5a7cc447892479799fbbd28fc51e7e1",
       "version_major": 2,
       "version_minor": 0
      },
      "text/plain": [
       "  0%|          | 0/159 [00:00<?, ?it/s]"
      ]
     },
     "metadata": {},
     "output_type": "display_data"
    },
    {
     "name": "stderr",
     "output_type": "stream",
     "text": [
      "/Users/zofia/Documents/UNI/UPARIS/sem2/pii-projet-tal/notebooks/../src/models/utils.py:13: RuntimeWarning: invalid value encountered in double_scalars\n",
      "  return (1 + b2) * ((precision * recall) / (b2 * precision + recall))\n"
     ]
    },
    {
     "name": "stdout",
     "output_type": "stream",
     "text": [
      "{'eval_loss': 0.004338290076702833, 'eval_recall': 0.0, 'eval_precision': 0.0, 'eval_fbeta_score': nan, 'eval_runtime': 49.6329, 'eval_samples_per_second': 25.608, 'eval_steps_per_second': 3.204, 'epoch': 8.0}\n",
      "{'loss': 0.0064, 'learning_rate': 9.79020979020979e-06, 'epoch': 8.04}\n",
      "{'loss': 0.0076, 'learning_rate': 8.041958041958042e-06, 'epoch': 8.39}\n",
      "{'loss': 0.0071, 'learning_rate': 6.2937062937062944e-06, 'epoch': 8.74}\n"
     ]
    },
    {
     "data": {
      "application/vnd.jupyter.widget-view+json": {
       "model_id": "591b19e785764cda82db15c42b0a7843",
       "version_major": 2,
       "version_minor": 0
      },
      "text/plain": [
       "  0%|          | 0/159 [00:00<?, ?it/s]"
      ]
     },
     "metadata": {},
     "output_type": "display_data"
    },
    {
     "name": "stderr",
     "output_type": "stream",
     "text": [
      "/Users/zofia/Documents/UNI/UPARIS/sem2/pii-projet-tal/notebooks/../src/models/utils.py:13: RuntimeWarning: invalid value encountered in double_scalars\n",
      "  return (1 + b2) * ((precision * recall) / (b2 * precision + recall))\n"
     ]
    },
    {
     "name": "stdout",
     "output_type": "stream",
     "text": [
      "{'eval_loss': 0.004230338614434004, 'eval_recall': 0.0, 'eval_precision': 0.0, 'eval_fbeta_score': nan, 'eval_runtime': 50.5476, 'eval_samples_per_second': 25.145, 'eval_steps_per_second': 3.146, 'epoch': 9.0}\n",
      "{'loss': 0.007, 'learning_rate': 4.5454545454545455e-06, 'epoch': 9.09}\n",
      "{'loss': 0.0072, 'learning_rate': 2.7972027972027974e-06, 'epoch': 9.44}\n",
      "{'loss': 0.0068, 'learning_rate': 1.0489510489510491e-06, 'epoch': 9.79}\n"
     ]
    },
    {
     "data": {
      "application/vnd.jupyter.widget-view+json": {
       "model_id": "e1488bf1557740c7a5af81a4a194005a",
       "version_major": 2,
       "version_minor": 0
      },
      "text/plain": [
       "  0%|          | 0/159 [00:00<?, ?it/s]"
      ]
     },
     "metadata": {},
     "output_type": "display_data"
    },
    {
     "name": "stdout",
     "output_type": "stream",
     "text": [
      "{'eval_loss': 0.004195818677544594, 'eval_recall': 0.006329113924050633, 'eval_precision': 0.4, 'eval_fbeta_score': 0.006578115117014548, 'eval_runtime': 47.3983, 'eval_samples_per_second': 26.815, 'eval_steps_per_second': 3.355, 'epoch': 10.0}\n",
      "{'train_runtime': 5999.5517, 'train_samples_per_second': 19.066, 'train_steps_per_second': 2.384, 'train_loss': 0.07172457303200569, 'epoch': 10.0}\n"
     ]
    },
    {
     "data": {
      "text/plain": [
       "TrainOutput(global_step=14300, training_loss=0.07172457303200569, metrics={'train_runtime': 5999.5517, 'train_samples_per_second': 19.066, 'train_steps_per_second': 2.384, 'train_loss': 0.07172457303200569, 'epoch': 10.0})"
      ]
     },
     "execution_count": 7,
     "metadata": {},
     "output_type": "execute_result"
    }
   ],
   "source": [
    "trainer_head.train()"
   ]
  },
  {
   "cell_type": "code",
   "execution_count": 8,
   "metadata": {},
   "outputs": [],
   "source": [
    "model_head_save_path = os.path.join(CFG.target_dir, 'head_only', 'model')\n",
    "trainer_head.save_model(model_head_save_path)"
   ]
  },
  {
   "cell_type": "code",
   "execution_count": 9,
   "metadata": {},
   "outputs": [
    {
     "data": {
      "application/vnd.jupyter.widget-view+json": {
       "model_id": "6df42b70710b40879422d8efa784bf58",
       "version_major": 2,
       "version_minor": 0
      },
      "text/plain": [
       "  0%|          | 0/177 [00:00<?, ?it/s]"
      ]
     },
     "metadata": {},
     "output_type": "display_data"
    },
    {
     "data": {
      "text/plain": [
       "{'test_loss': 0.004614074714481831,\n",
       " 'test_recall': 0.007653061224489796,\n",
       " 'test_precision': 0.2727272727272727,\n",
       " 'test_fbeta_score': 0.007950259912343289,\n",
       " 'test_runtime': 52.2445,\n",
       " 'test_samples_per_second': 27.046,\n",
       " 'test_steps_per_second': 3.388,\n",
       " 'epoch': 10.0}"
      ]
     },
     "execution_count": 9,
     "metadata": {},
     "output_type": "execute_result"
    }
   ],
   "source": [
    "trainer_head.evaluate(data_test, metric_key_prefix='test')"
   ]
  }
 ],
 "metadata": {
  "kernelspec": {
   "display_name": "Python 3",
   "language": "python",
   "name": "python3"
  },
  "language_info": {
   "codemirror_mode": {
    "name": "ipython",
    "version": 3
   },
   "file_extension": ".py",
   "mimetype": "text/x-python",
   "name": "python",
   "nbconvert_exporter": "python",
   "pygments_lexer": "ipython3",
   "version": "3.11.5"
  }
 },
 "nbformat": 4,
 "nbformat_minor": 2
}
