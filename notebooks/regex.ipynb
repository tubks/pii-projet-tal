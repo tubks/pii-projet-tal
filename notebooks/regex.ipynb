{
 "cells": [
  {
   "cell_type": "code",
   "execution_count": 141,
   "metadata": {},
   "outputs": [],
   "source": [
    "import os\n",
    "import json\n",
    "import pandas as pd"
   ]
  },
  {
   "cell_type": "code",
   "execution_count": 3,
   "metadata": {},
   "outputs": [],
   "source": [
    "data_path = os.path.join('..', 'data' ,'raw', 'train.json')\n",
    "f = open(data_path)\n",
    "data = json.load(f)\n",
    "f.close()"
   ]
  },
  {
   "cell_type": "code",
   "execution_count": 91,
   "metadata": {},
   "outputs": [],
   "source": [
    "test_data_path = os.path.join('..', 'data' ,'raw', 'test.json')\n",
    "f = open(test_data_path)\n",
    "test_data = json.load(f)\n",
    "f.close()"
   ]
  },
  {
   "cell_type": "code",
   "execution_count": 4,
   "metadata": {},
   "outputs": [
    {
     "data": {
      "text/html": [
       "<div>\n",
       "<style scoped>\n",
       "    .dataframe tbody tr th:only-of-type {\n",
       "        vertical-align: middle;\n",
       "    }\n",
       "\n",
       "    .dataframe tbody tr th {\n",
       "        vertical-align: top;\n",
       "    }\n",
       "\n",
       "    .dataframe thead th {\n",
       "        text-align: right;\n",
       "    }\n",
       "</style>\n",
       "<table border=\"1\" class=\"dataframe\">\n",
       "  <thead>\n",
       "    <tr style=\"text-align: right;\">\n",
       "      <th></th>\n",
       "      <th>document</th>\n",
       "      <th>full_text</th>\n",
       "      <th>tokens</th>\n",
       "      <th>trailing_whitespace</th>\n",
       "      <th>labels</th>\n",
       "    </tr>\n",
       "  </thead>\n",
       "  <tbody>\n",
       "    <tr>\n",
       "      <th>0</th>\n",
       "      <td>7</td>\n",
       "      <td>Design Thinking for innovation reflexion-Avril...</td>\n",
       "      <td>[Design, Thinking, for, innovation, reflexion,...</td>\n",
       "      <td>[True, True, True, True, False, False, True, F...</td>\n",
       "      <td>[O, O, O, O, O, O, O, O, O, B-NAME_STUDENT, I-...</td>\n",
       "    </tr>\n",
       "    <tr>\n",
       "      <th>1</th>\n",
       "      <td>10</td>\n",
       "      <td>Diego Estrada\\n\\nDesign Thinking Assignment\\n\\...</td>\n",
       "      <td>[Diego, Estrada, \\n\\n, Design, Thinking, Assig...</td>\n",
       "      <td>[True, False, False, True, True, False, False,...</td>\n",
       "      <td>[B-NAME_STUDENT, I-NAME_STUDENT, O, O, O, O, O...</td>\n",
       "    </tr>\n",
       "    <tr>\n",
       "      <th>2</th>\n",
       "      <td>16</td>\n",
       "      <td>Reporting process\\n\\nby Gilberto Gamboa\\n\\nCha...</td>\n",
       "      <td>[Reporting, process, \\n\\n, by, Gilberto, Gambo...</td>\n",
       "      <td>[True, False, False, True, True, False, False,...</td>\n",
       "      <td>[O, O, O, O, B-NAME_STUDENT, I-NAME_STUDENT, O...</td>\n",
       "    </tr>\n",
       "    <tr>\n",
       "      <th>3</th>\n",
       "      <td>20</td>\n",
       "      <td>Design Thinking for Innovation\\n\\nSindy Samaca...</td>\n",
       "      <td>[Design, Thinking, for, Innovation, \\n\\n, Sind...</td>\n",
       "      <td>[True, True, True, False, False, True, False, ...</td>\n",
       "      <td>[O, O, O, O, O, B-NAME_STUDENT, I-NAME_STUDENT...</td>\n",
       "    </tr>\n",
       "    <tr>\n",
       "      <th>4</th>\n",
       "      <td>56</td>\n",
       "      <td>Assignment:  Visualization Reflection  Submitt...</td>\n",
       "      <td>[Assignment, :,   , Visualization,  , Reflecti...</td>\n",
       "      <td>[False, False, False, False, False, False, Fal...</td>\n",
       "      <td>[O, O, O, O, O, O, O, O, O, O, O, O, B-NAME_ST...</td>\n",
       "    </tr>\n",
       "  </tbody>\n",
       "</table>\n",
       "</div>"
      ],
      "text/plain": [
       "   document                                          full_text  \\\n",
       "0         7  Design Thinking for innovation reflexion-Avril...   \n",
       "1        10  Diego Estrada\\n\\nDesign Thinking Assignment\\n\\...   \n",
       "2        16  Reporting process\\n\\nby Gilberto Gamboa\\n\\nCha...   \n",
       "3        20  Design Thinking for Innovation\\n\\nSindy Samaca...   \n",
       "4        56  Assignment:  Visualization Reflection  Submitt...   \n",
       "\n",
       "                                              tokens  \\\n",
       "0  [Design, Thinking, for, innovation, reflexion,...   \n",
       "1  [Diego, Estrada, \\n\\n, Design, Thinking, Assig...   \n",
       "2  [Reporting, process, \\n\\n, by, Gilberto, Gambo...   \n",
       "3  [Design, Thinking, for, Innovation, \\n\\n, Sind...   \n",
       "4  [Assignment, :,   , Visualization,  , Reflecti...   \n",
       "\n",
       "                                 trailing_whitespace  \\\n",
       "0  [True, True, True, True, False, False, True, F...   \n",
       "1  [True, False, False, True, True, False, False,...   \n",
       "2  [True, False, False, True, True, False, False,...   \n",
       "3  [True, True, True, False, False, True, False, ...   \n",
       "4  [False, False, False, False, False, False, Fal...   \n",
       "\n",
       "                                              labels  \n",
       "0  [O, O, O, O, O, O, O, O, O, B-NAME_STUDENT, I-...  \n",
       "1  [B-NAME_STUDENT, I-NAME_STUDENT, O, O, O, O, O...  \n",
       "2  [O, O, O, O, B-NAME_STUDENT, I-NAME_STUDENT, O...  \n",
       "3  [O, O, O, O, O, B-NAME_STUDENT, I-NAME_STUDENT...  \n",
       "4  [O, O, O, O, O, O, O, O, O, O, O, O, B-NAME_ST...  "
      ]
     },
     "execution_count": 4,
     "metadata": {},
     "output_type": "execute_result"
    }
   ],
   "source": [
    "data_df = pd.DataFrame(data)\n",
    "data_df.head()"
   ]
  },
  {
   "cell_type": "code",
   "execution_count": 5,
   "metadata": {},
   "outputs": [
    {
     "data": {
      "text/plain": [
       "O                   4989794\n",
       "B-NAME_STUDENT         1365\n",
       "I-NAME_STUDENT         1096\n",
       "B-URL_PERSONAL          110\n",
       "B-ID_NUM                 78\n",
       "B-EMAIL                  39\n",
       "I-STREET_ADDRESS         20\n",
       "I-PHONE_NUM              15\n",
       "B-USERNAME                6\n",
       "B-PHONE_NUM               6\n",
       "B-STREET_ADDRESS          2\n",
       "I-URL_PERSONAL            1\n",
       "I-ID_NUM                  1\n",
       "Name: count, dtype: int64"
      ]
     },
     "execution_count": 5,
     "metadata": {},
     "output_type": "execute_result"
    }
   ],
   "source": [
    "all_labels = set([label for sublist in data_df['labels'] for label in sublist])\n",
    "all_labels\n",
    "label_counts = (data_df['labels'].apply(pd.Series).stack().value_counts())\n",
    "label_counts"
   ]
  },
  {
   "cell_type": "code",
   "execution_count": 139,
   "metadata": {},
   "outputs": [],
   "source": [
    "import re \n",
    "\n",
    "EMAIL_REGEX = r'\\b[A-Za-z0-9]+[.-_]*[A-Za-z0-9]+@(?:gmail|hotmail|yahoo)\\.[A-Z|a-z]{2,}\\b'\n",
    "# EMAIL_REGEX = r'\\b[A-Za-z0-9]+[.-_]*[A-Za-z0-9]+@[A-Za-z0-9-]+\\.[A-Z|a-z]{2,}\\b'\n",
    "PHONE_NUMEBR_REGEX = r'\\(\\d{1,3}\\)\\d{3}-\\d+(?:x\\d+)?|\\d{3}\\.\\d{3}\\.\\d{1,10}'\n",
    "# PHONE_NUMEBR_REGEX = r'\\(\\d{1,3}\\)\\d{3,14}-\\d+(?:x\\d+)?|\\d{3}\\.\\d{1,4}\\.\\d{1,10}'\n",
    "ADDRESS_REGEX = r'\\b\\d+\\s+[a-zA-Z\\s]+(?:\\. \\d+)[a-zA-Z\\s]+(?:\\, [A-Z]{2}\\s\\d{5,6})\\b'\n",
    "\n",
    "NUMBER_REGEX = r'\\d+'\n",
    "\n",
    "\n",
    "def find_email(text):\n",
    "    return re.findall(re.compile(EMAIL_REGEX), text)\n",
    "\n",
    "def find_phone_number(text):\n",
    "    return re.findall(re.compile(PHONE_NUMEBR_REGEX), text)\n",
    "\n",
    "def find_address(text):\n",
    "    return re.findall(re.compile(ADDRESS_REGEX), text)\n",
    "\n",
    "def check_number(token):\n",
    "    return re.fullmatch(re.compile(NUMBER_REGEX), token)\n"
   ]
  },
  {
   "cell_type": "markdown",
   "metadata": {},
   "source": [
    "Filter tokens whose tag contains STREET_ADDRESS"
   ]
  },
  {
   "cell_type": "code",
   "execution_count": 138,
   "metadata": {},
   "outputs": [
    {
     "data": {
      "text/plain": [
       "[('591', 'B-STREET_ADDRESS'),\n",
       " ('Smith', 'I-STREET_ADDRESS'),\n",
       " ('Centers', 'I-STREET_ADDRESS'),\n",
       " ('Apt', 'I-STREET_ADDRESS'),\n",
       " ('.', 'I-STREET_ADDRESS'),\n",
       " ('656', 'I-STREET_ADDRESS'),\n",
       " ('\\n', 'I-STREET_ADDRESS'),\n",
       " ('Joshuamouth', 'I-STREET_ADDRESS'),\n",
       " (',', 'I-STREET_ADDRESS'),\n",
       " ('RI', 'I-STREET_ADDRESS'),\n",
       " ('95963', 'I-STREET_ADDRESS'),\n",
       " ('743', 'B-STREET_ADDRESS'),\n",
       " ('Erika', 'I-STREET_ADDRESS'),\n",
       " ('Bypass', 'I-STREET_ADDRESS'),\n",
       " ('Apt', 'I-STREET_ADDRESS'),\n",
       " ('.', 'I-STREET_ADDRESS'),\n",
       " ('419', 'I-STREET_ADDRESS'),\n",
       " ('\\n', 'I-STREET_ADDRESS'),\n",
       " ('Andreahaven', 'I-STREET_ADDRESS'),\n",
       " (',', 'I-STREET_ADDRESS'),\n",
       " ('IL', 'I-STREET_ADDRESS'),\n",
       " ('54207', 'I-STREET_ADDRESS')]"
      ]
     },
     "execution_count": 138,
     "metadata": {},
     "output_type": "execute_result"
    }
   ],
   "source": [
    "addresses = [(token, label) for tokens, labels in zip(data_df['tokens'], data_df['labels']) for token, label in zip(tokens, labels) if '-STREET_ADDRESS' in label]\n",
    "addresses"
   ]
  },
  {
   "cell_type": "code",
   "execution_count": 140,
   "metadata": {},
   "outputs": [
    {
     "data": {
      "text/plain": [
       "1103    [591 Smith Centers Apt. 656\\nJoshuamouth, RI 9...\n",
       "1887    [743 Erika Bypass Apt. 419\\nAndreahaven, IL 54...\n",
       "Name: full_text, dtype: object"
      ]
     },
     "execution_count": 140,
     "metadata": {},
     "output_type": "execute_result"
    }
   ],
   "source": [
    "filtered_addresses = data_df['full_text'].apply(lambda x: find_address(x))\n",
    "filtered_addresses = filtered_addresses[filtered_addresses.apply(lambda x: x != [])]\n",
    "filtered_addresses"
   ]
  },
  {
   "cell_type": "markdown",
   "metadata": {},
   "source": [
    "Filter tokens whose tag is B-EMAIL"
   ]
  },
  {
   "cell_type": "code",
   "execution_count": 131,
   "metadata": {},
   "outputs": [
    {
     "data": {
      "text/plain": [
       "['djones@gmail.com',\n",
       " 'matthew72@hotmail.com',\n",
       " 'belindarojas@yahoo.com',\n",
       " 'kennethevans@hotmail.com',\n",
       " 'agood@gmail.com',\n",
       " 'agood@gmail.com',\n",
       " 'hwillis@gmail.com',\n",
       " 'kellyharrison@gmail.com',\n",
       " 'kellyharrison@gmail.com',\n",
       " 'lowetyler@hotmail.com',\n",
       " 'murraythomas@gmail.com',\n",
       " 'vmartinez@hotmail.com',\n",
       " 'sheena82@yahoo.com',\n",
       " 'nbarker@hotmail.com',\n",
       " 'nbarker@hotmail.com',\n",
       " 'nbarker@hotmail.com',\n",
       " 'johnsondavid@hotmail.com',\n",
       " 'johnsondavid@hotmail.com',\n",
       " 'catherine19@hotmail.com',\n",
       " 'john03@yahoo.com',\n",
       " 'john03@yahoo.com',\n",
       " 'lisarose@gmail.com',\n",
       " 'diazkristen@gmail.com',\n",
       " 'lisarose@gmail.com',\n",
       " 'diazkristen@gmail.com',\n",
       " 'andrew58@gmail.com',\n",
       " 'boydcynthia@yahoo.com',\n",
       " 'laurie33@yahoo.com',\n",
       " 'laurie33@yahoo.com',\n",
       " 'pauljohnson@hotmail.com',\n",
       " 'pauljohnson@hotmail.com',\n",
       " 'jarviscindy@hotmail.com',\n",
       " 'jarviscindy@hotmail.com',\n",
       " 'jray@hotmail.com',\n",
       " 'gday@hotmail.com',\n",
       " 'gday@hotmail.com',\n",
       " 'gday@hotmail.com',\n",
       " 'noah14@hotmail.com',\n",
       " 'hbrown@yahoo.com']"
      ]
     },
     "execution_count": 131,
     "metadata": {},
     "output_type": "execute_result"
    }
   ],
   "source": [
    "emails = [token for tokens, labels in zip(data_df['tokens'], data_df['labels']) for token, label in zip(tokens, labels) if label == 'B-EMAIL']\n",
    "emails"
   ]
  },
  {
   "cell_type": "code",
   "execution_count": 132,
   "metadata": {},
   "outputs": [
    {
     "data": {
      "text/plain": [
       "24                                     [djones@gmail.com]\n",
       "86                                [matthew72@hotmail.com]\n",
       "134     [belindarojas@yahoo.com, kennethevans@hotmail....\n",
       "171                    [agood@gmail.com, agood@gmail.com]\n",
       "185                                   [hwillis@gmail.com]\n",
       "191     [kellyharrison@gmail.com, kellyharrison@gmail....\n",
       "195                               [lowetyler@hotmail.com]\n",
       "219                              [murraythomas@gmail.com]\n",
       "262                               [vmartinez@hotmail.com]\n",
       "272                                  [sheena82@yahoo.com]\n",
       "350     [nbarker@hotmail.com, nbarker@hotmail.com, nba...\n",
       "376     [johnsondavid@hotmail.com, johnsondavid@hotmai...\n",
       "380                             [catherine19@hotmail.com]\n",
       "405                  [john03@yahoo.com, john03@yahoo.com]\n",
       "440     [lisarose@gmail.com, diazkristen@gmail.com, li...\n",
       "522                                  [andrew58@gmail.com]\n",
       "550                               [boydcynthia@yahoo.com]\n",
       "758              [laurie33@yahoo.com, laurie33@yahoo.com]\n",
       "1642    [pauljohnson@hotmail.com, pauljohnson@hotmail....\n",
       "1819    [jarviscindy@hotmail.com, jarviscindy@hotmail....\n",
       "2090                                   [jray@hotmail.com]\n",
       "2139    [gday@hotmail.com, gday@hotmail.com, gday@hotm...\n",
       "2637                                 [noah14@hotmail.com]\n",
       "3262                                   [hbrown@yahoo.com]\n",
       "Name: full_text, dtype: object"
      ]
     },
     "execution_count": 132,
     "metadata": {},
     "output_type": "execute_result"
    }
   ],
   "source": [
    "filtered_emails = data_df['full_text'].apply(lambda x: find_email(x))\n",
    "filtered_emails = filtered_emails[filtered_emails.apply(lambda x: x != [])]\n",
    "filtered_emails"
   ]
  },
  {
   "cell_type": "code",
   "execution_count": 135,
   "metadata": {},
   "outputs": [
    {
     "name": "stdout",
     "output_type": "stream",
     "text": [
      "total number of tokens in data that have B-EMAIL tag:  39\n",
      "total number of tokens found by email regex in data:  39\n"
     ]
    }
   ],
   "source": [
    "num_emails = filtered_emails.apply(lambda x: len(x)).sum()\n",
    "print(\"total number of tokens in data that have B-EMAIL tag: \", len(emails))\n",
    "print(\"total number of tokens found by email regex in data: \", num_emails)"
   ]
  },
  {
   "cell_type": "markdown",
   "metadata": {},
   "source": [
    "Filter tokens whose tag contains PHONE_NUM"
   ]
  },
  {
   "cell_type": "code",
   "execution_count": 230,
   "metadata": {},
   "outputs": [
    {
     "data": {
      "text/plain": [
       "[('(', 'B-PHONE_NUM'),\n",
       " ('320)202', 'I-PHONE_NUM'),\n",
       " ('-', 'I-PHONE_NUM'),\n",
       " ('0688x95843', 'I-PHONE_NUM'),\n",
       " ('(', 'B-PHONE_NUM'),\n",
       " ('223)392', 'I-PHONE_NUM'),\n",
       " ('-', 'I-PHONE_NUM'),\n",
       " ('2765', 'I-PHONE_NUM'),\n",
       " ('(', 'B-PHONE_NUM'),\n",
       " ('820)913', 'I-PHONE_NUM'),\n",
       " ('-', 'I-PHONE_NUM'),\n",
       " ('3241x894', 'I-PHONE_NUM'),\n",
       " ('(', 'B-PHONE_NUM'),\n",
       " ('820)913', 'I-PHONE_NUM'),\n",
       " ('-', 'I-PHONE_NUM'),\n",
       " ('3241x894', 'I-PHONE_NUM'),\n",
       " ('(', 'B-PHONE_NUM'),\n",
       " ('820)913', 'I-PHONE_NUM'),\n",
       " ('-', 'I-PHONE_NUM'),\n",
       " ('3241x894', 'I-PHONE_NUM'),\n",
       " ('410.526.1667', 'B-PHONE_NUM')]"
      ]
     },
     "execution_count": 230,
     "metadata": {},
     "output_type": "execute_result"
    }
   ],
   "source": [
    "phones = [(token, label) for tokens, labels in zip(data_df['tokens'], data_df['labels']) for token, label in zip(tokens, labels) if '-PHONE_NUM' in label]\n",
    "phones"
   ]
  },
  {
   "cell_type": "code",
   "execution_count": 136,
   "metadata": {},
   "outputs": [
    {
     "data": {
      "text/plain": [
       "185                                 [(320)202-0688x95843]\n",
       "219                                       [(223)392-2765]\n",
       "350     [(820)913-3241x894, (820)913-3241x894, (820)91...\n",
       "1103                                       [410.526.1667]\n",
       "Name: full_text, dtype: object"
      ]
     },
     "execution_count": 136,
     "metadata": {},
     "output_type": "execute_result"
    }
   ],
   "source": [
    "filtered_phone_numbers = data_df['full_text'].apply(lambda x: find_phone_number(x))\n",
    "filtered_phone_numbers = filtered_phone_numbers[filtered_phone_numbers.apply(lambda x: x != [])]\n",
    "filtered_phone_numbers"
   ]
  },
  {
   "cell_type": "markdown",
   "metadata": {},
   "source": [
    "Check '(' token label"
   ]
  },
  {
   "cell_type": "code",
   "execution_count": 89,
   "metadata": {},
   "outputs": [
    {
     "data": {
      "text/plain": [
       "{'B-PHONE_NUM', 'O'}"
      ]
     },
     "execution_count": 89,
     "metadata": {},
     "output_type": "execute_result"
    }
   ],
   "source": [
    "paranthesis_tokens = [(token, label) for tokens, labels in zip(data_df['tokens'], data_df['labels']) for token, label in zip(tokens, labels) if token=='(']\n",
    "paranthesis_labels = {item for sublist in paranthesis_tokens for item in sublist if item != '('}\n",
    "paranthesis_labels"
   ]
  },
  {
   "cell_type": "markdown",
   "metadata": {},
   "source": [
    "Chech '-' token label"
   ]
  },
  {
   "cell_type": "code",
   "execution_count": 90,
   "metadata": {},
   "outputs": [
    {
     "data": {
      "text/plain": [
       "{'I-PHONE_NUM', 'O'}"
      ]
     },
     "execution_count": 90,
     "metadata": {},
     "output_type": "execute_result"
    }
   ],
   "source": [
    "hyphen_tokens = [(token, label) for tokens, labels in zip(data_df['tokens'], data_df['labels']) for token, label in zip(tokens, labels) if token=='-']\n",
    "hyphen_labels = {item for sublist in hyphen_tokens for item in sublist if item != '-'}\n",
    "hyphen_labels"
   ]
  },
  {
   "cell_type": "markdown",
   "metadata": {},
   "source": [
    "Filter number tokens with their labels"
   ]
  },
  {
   "cell_type": "code",
   "execution_count": 186,
   "metadata": {},
   "outputs": [
    {
     "data": {
      "text/plain": [
       "{'B-ID_NUM',\n",
       " 'B-STREET_ADDRESS',\n",
       " 'I-ID_NUM',\n",
       " 'I-PHONE_NUM',\n",
       " 'I-STREET_ADDRESS',\n",
       " 'O'}"
      ]
     },
     "execution_count": 186,
     "metadata": {},
     "output_type": "execute_result"
    }
   ],
   "source": [
    "numbers = [(token, label) for tokens, labels in zip(data_df['tokens'], data_df['labels']) for token, label in zip(tokens, labels) if check_number(token)]\n",
    "n  = {item for sublist in numbers for item in sublist if not check_number(item)}\n",
    "n"
   ]
  }
 ],
 "metadata": {
  "kernelspec": {
   "display_name": "env",
   "language": "python",
   "name": "python3"
  },
  "language_info": {
   "codemirror_mode": {
    "name": "ipython",
    "version": 3
   },
   "file_extension": ".py",
   "mimetype": "text/x-python",
   "name": "python",
   "nbconvert_exporter": "python",
   "pygments_lexer": "ipython3",
   "version": "3.9.18"
  }
 },
 "nbformat": 4,
 "nbformat_minor": 2
}
