{
 "cells": [
  {
   "cell_type": "code",
   "execution_count": 2,
   "metadata": {},
   "outputs": [],
   "source": [
    "import os\n",
    "import json\n",
    "import pandas as pd\n",
    "import matplotlib.pyplot as plt\n",
    "import numpy as np"
   ]
  },
  {
   "cell_type": "code",
   "execution_count": 3,
   "metadata": {},
   "outputs": [],
   "source": [
    "data_path = os.path.join('..', 'data' ,'raw', 'train.json')\n",
    "f = open(data_path)\n",
    "data = json.load(f)\n",
    "f.close()\n"
   ]
  },
  {
   "cell_type": "code",
   "execution_count": 91,
   "metadata": {},
   "outputs": [],
   "source": [
    "test_data_path = os.path.join('..', 'data' ,'raw', 'test.json')\n",
    "f = open(test_data_path)\n",
    "test_data = json.load(f)\n",
    "f.close()\n"
   ]
  },
  {
   "cell_type": "code",
   "execution_count": 4,
   "metadata": {},
   "outputs": [
    {
     "data": {
      "text/html": [
       "<div>\n",
       "<style scoped>\n",
       "    .dataframe tbody tr th:only-of-type {\n",
       "        vertical-align: middle;\n",
       "    }\n",
       "\n",
       "    .dataframe tbody tr th {\n",
       "        vertical-align: top;\n",
       "    }\n",
       "\n",
       "    .dataframe thead th {\n",
       "        text-align: right;\n",
       "    }\n",
       "</style>\n",
       "<table border=\"1\" class=\"dataframe\">\n",
       "  <thead>\n",
       "    <tr style=\"text-align: right;\">\n",
       "      <th></th>\n",
       "      <th>document</th>\n",
       "      <th>full_text</th>\n",
       "      <th>tokens</th>\n",
       "      <th>trailing_whitespace</th>\n",
       "      <th>labels</th>\n",
       "    </tr>\n",
       "  </thead>\n",
       "  <tbody>\n",
       "    <tr>\n",
       "      <th>0</th>\n",
       "      <td>7</td>\n",
       "      <td>Design Thinking for innovation reflexion-Avril...</td>\n",
       "      <td>[Design, Thinking, for, innovation, reflexion,...</td>\n",
       "      <td>[True, True, True, True, False, False, True, F...</td>\n",
       "      <td>[O, O, O, O, O, O, O, O, O, B-NAME_STUDENT, I-...</td>\n",
       "    </tr>\n",
       "    <tr>\n",
       "      <th>1</th>\n",
       "      <td>10</td>\n",
       "      <td>Diego Estrada\\n\\nDesign Thinking Assignment\\n\\...</td>\n",
       "      <td>[Diego, Estrada, \\n\\n, Design, Thinking, Assig...</td>\n",
       "      <td>[True, False, False, True, True, False, False,...</td>\n",
       "      <td>[B-NAME_STUDENT, I-NAME_STUDENT, O, O, O, O, O...</td>\n",
       "    </tr>\n",
       "    <tr>\n",
       "      <th>2</th>\n",
       "      <td>16</td>\n",
       "      <td>Reporting process\\n\\nby Gilberto Gamboa\\n\\nCha...</td>\n",
       "      <td>[Reporting, process, \\n\\n, by, Gilberto, Gambo...</td>\n",
       "      <td>[True, False, False, True, True, False, False,...</td>\n",
       "      <td>[O, O, O, O, B-NAME_STUDENT, I-NAME_STUDENT, O...</td>\n",
       "    </tr>\n",
       "    <tr>\n",
       "      <th>3</th>\n",
       "      <td>20</td>\n",
       "      <td>Design Thinking for Innovation\\n\\nSindy Samaca...</td>\n",
       "      <td>[Design, Thinking, for, Innovation, \\n\\n, Sind...</td>\n",
       "      <td>[True, True, True, False, False, True, False, ...</td>\n",
       "      <td>[O, O, O, O, O, B-NAME_STUDENT, I-NAME_STUDENT...</td>\n",
       "    </tr>\n",
       "    <tr>\n",
       "      <th>4</th>\n",
       "      <td>56</td>\n",
       "      <td>Assignment:  Visualization Reflection  Submitt...</td>\n",
       "      <td>[Assignment, :,   , Visualization,  , Reflecti...</td>\n",
       "      <td>[False, False, False, False, False, False, Fal...</td>\n",
       "      <td>[O, O, O, O, O, O, O, O, O, O, O, O, B-NAME_ST...</td>\n",
       "    </tr>\n",
       "  </tbody>\n",
       "</table>\n",
       "</div>"
      ],
      "text/plain": [
       "   document                                          full_text  \\\n",
       "0         7  Design Thinking for innovation reflexion-Avril...   \n",
       "1        10  Diego Estrada\\n\\nDesign Thinking Assignment\\n\\...   \n",
       "2        16  Reporting process\\n\\nby Gilberto Gamboa\\n\\nCha...   \n",
       "3        20  Design Thinking for Innovation\\n\\nSindy Samaca...   \n",
       "4        56  Assignment:  Visualization Reflection  Submitt...   \n",
       "\n",
       "                                              tokens  \\\n",
       "0  [Design, Thinking, for, innovation, reflexion,...   \n",
       "1  [Diego, Estrada, \\n\\n, Design, Thinking, Assig...   \n",
       "2  [Reporting, process, \\n\\n, by, Gilberto, Gambo...   \n",
       "3  [Design, Thinking, for, Innovation, \\n\\n, Sind...   \n",
       "4  [Assignment, :,   , Visualization,  , Reflecti...   \n",
       "\n",
       "                                 trailing_whitespace  \\\n",
       "0  [True, True, True, True, False, False, True, F...   \n",
       "1  [True, False, False, True, True, False, False,...   \n",
       "2  [True, False, False, True, True, False, False,...   \n",
       "3  [True, True, True, False, False, True, False, ...   \n",
       "4  [False, False, False, False, False, False, Fal...   \n",
       "\n",
       "                                              labels  \n",
       "0  [O, O, O, O, O, O, O, O, O, B-NAME_STUDENT, I-...  \n",
       "1  [B-NAME_STUDENT, I-NAME_STUDENT, O, O, O, O, O...  \n",
       "2  [O, O, O, O, B-NAME_STUDENT, I-NAME_STUDENT, O...  \n",
       "3  [O, O, O, O, O, B-NAME_STUDENT, I-NAME_STUDENT...  \n",
       "4  [O, O, O, O, O, O, O, O, O, O, O, O, B-NAME_ST...  "
      ]
     },
     "execution_count": 4,
     "metadata": {},
     "output_type": "execute_result"
    }
   ],
   "source": [
    "data_df = pd.DataFrame(data)\n",
    "data_df.head()"
   ]
  },
  {
   "cell_type": "code",
   "execution_count": 93,
   "metadata": {},
   "outputs": [
    {
     "data": {
      "text/html": [
       "<div>\n",
       "<style scoped>\n",
       "    .dataframe tbody tr th:only-of-type {\n",
       "        vertical-align: middle;\n",
       "    }\n",
       "\n",
       "    .dataframe tbody tr th {\n",
       "        vertical-align: top;\n",
       "    }\n",
       "\n",
       "    .dataframe thead th {\n",
       "        text-align: right;\n",
       "    }\n",
       "</style>\n",
       "<table border=\"1\" class=\"dataframe\">\n",
       "  <thead>\n",
       "    <tr style=\"text-align: right;\">\n",
       "      <th></th>\n",
       "      <th>document</th>\n",
       "      <th>full_text</th>\n",
       "      <th>tokens</th>\n",
       "      <th>trailing_whitespace</th>\n",
       "    </tr>\n",
       "  </thead>\n",
       "  <tbody>\n",
       "    <tr>\n",
       "      <th>0</th>\n",
       "      <td>7</td>\n",
       "      <td>Design Thinking for innovation reflexion-Avril...</td>\n",
       "      <td>[Design, Thinking, for, innovation, reflexion,...</td>\n",
       "      <td>[True, True, True, True, False, False, True, F...</td>\n",
       "    </tr>\n",
       "    <tr>\n",
       "      <th>1</th>\n",
       "      <td>10</td>\n",
       "      <td>Diego Estrada\\n\\nDesign Thinking Assignment\\n\\...</td>\n",
       "      <td>[Diego, Estrada, \\n\\n, Design, Thinking, Assig...</td>\n",
       "      <td>[True, False, False, True, True, False, False,...</td>\n",
       "    </tr>\n",
       "    <tr>\n",
       "      <th>2</th>\n",
       "      <td>16</td>\n",
       "      <td>Reporting process\\n\\nby Gilberto Gamboa\\n\\nCha...</td>\n",
       "      <td>[Reporting, process, \\n\\n, by, Gilberto, Gambo...</td>\n",
       "      <td>[True, False, False, True, True, False, False,...</td>\n",
       "    </tr>\n",
       "    <tr>\n",
       "      <th>3</th>\n",
       "      <td>20</td>\n",
       "      <td>Design Thinking for Innovation\\n\\nSindy Samaca...</td>\n",
       "      <td>[Design, Thinking, for, Innovation, \\n\\n, Sind...</td>\n",
       "      <td>[True, True, True, False, False, True, False, ...</td>\n",
       "    </tr>\n",
       "    <tr>\n",
       "      <th>4</th>\n",
       "      <td>56</td>\n",
       "      <td>Assignment:  Visualization Reflection  Submitt...</td>\n",
       "      <td>[Assignment, :,   , Visualization,  , Reflecti...</td>\n",
       "      <td>[False, False, False, False, False, False, Fal...</td>\n",
       "    </tr>\n",
       "  </tbody>\n",
       "</table>\n",
       "</div>"
      ],
      "text/plain": [
       "   document                                          full_text  \\\n",
       "0         7  Design Thinking for innovation reflexion-Avril...   \n",
       "1        10  Diego Estrada\\n\\nDesign Thinking Assignment\\n\\...   \n",
       "2        16  Reporting process\\n\\nby Gilberto Gamboa\\n\\nCha...   \n",
       "3        20  Design Thinking for Innovation\\n\\nSindy Samaca...   \n",
       "4        56  Assignment:  Visualization Reflection  Submitt...   \n",
       "\n",
       "                                              tokens  \\\n",
       "0  [Design, Thinking, for, innovation, reflexion,...   \n",
       "1  [Diego, Estrada, \\n\\n, Design, Thinking, Assig...   \n",
       "2  [Reporting, process, \\n\\n, by, Gilberto, Gambo...   \n",
       "3  [Design, Thinking, for, Innovation, \\n\\n, Sind...   \n",
       "4  [Assignment, :,   , Visualization,  , Reflecti...   \n",
       "\n",
       "                                 trailing_whitespace  \n",
       "0  [True, True, True, True, False, False, True, F...  \n",
       "1  [True, False, False, True, True, False, False,...  \n",
       "2  [True, False, False, True, True, False, False,...  \n",
       "3  [True, True, True, False, False, True, False, ...  \n",
       "4  [False, False, False, False, False, False, Fal...  "
      ]
     },
     "execution_count": 93,
     "metadata": {},
     "output_type": "execute_result"
    }
   ],
   "source": [
    "test_df = pd.DataFrame(test_data)\n",
    "test_df.head()"
   ]
  },
  {
   "cell_type": "code",
   "execution_count": 5,
   "metadata": {},
   "outputs": [
    {
     "data": {
      "text/plain": [
       "O                   4989794\n",
       "B-NAME_STUDENT         1365\n",
       "I-NAME_STUDENT         1096\n",
       "B-URL_PERSONAL          110\n",
       "B-ID_NUM                 78\n",
       "B-EMAIL                  39\n",
       "I-STREET_ADDRESS         20\n",
       "I-PHONE_NUM              15\n",
       "B-USERNAME                6\n",
       "B-PHONE_NUM               6\n",
       "B-STREET_ADDRESS          2\n",
       "I-URL_PERSONAL            1\n",
       "I-ID_NUM                  1\n",
       "Name: count, dtype: int64"
      ]
     },
     "execution_count": 5,
     "metadata": {},
     "output_type": "execute_result"
    }
   ],
   "source": [
    "all_labels = set([label for sublist in data_df['labels'] for label in sublist])\n",
    "all_labels\n",
    "label_counts = (data_df['labels'].apply(pd.Series).stack().value_counts())\n",
    "label_counts"
   ]
  },
  {
   "cell_type": "code",
   "execution_count": 110,
   "metadata": {},
   "outputs": [],
   "source": [
    "import re \n",
    "# [a-zA-Z0-9]{0,}([.]?[a-zA-Z0-9]{1,})[@](gmail.com|hotmail.com|yahoo.com)\n",
    "\n",
    "EMAIL_REGEX = r'\\b[A-Za-z0-9]+[.-_]*[A-Za-z0-9]+@(gmail|hotmail|yahoo)+\\.[A-Z|a-z]{2,}\\b'\n",
    "# EMAIL_REGEX = r'\\b[A-Za-z0-9]+[.-_]*[A-Za-z0-9]+@[A-Za-z0-9-]+\\.[A-Z|a-z]{2,}\\b'\n",
    "PHONE_NUMEBR_REGEX = r'\\(\\d{1,3}\\)\\d{3}-\\d+(?:x\\d+)?|\\d{3}\\.\\d{3}\\.\\d{1,10}'\n",
    "# PHONE_NUMEBR_REGEX = r'\\(\\d{1,3}\\)\\d{3,14}-\\d+(?:x\\d+)?|\\d{3}\\.\\d{1,4}\\.\\d{1,10}'\n",
    "ADDRESS_REGEX = r'^\\d+ [a-zA-Z\\s]+(?:\\. \\d+)[a-zA-Z\\s]+(?:\\, [A-Z]{2}\\s\\d{5,6})$'\n",
    "\n",
    "\n",
    "PHONE_SECOND_PART_REGEX = r'\\b\\d{1,3}\\)\\d{1,4}\\b'\n",
    "PHONE_FOURTH_PART_REGEX =  r'\\d+(x\\d*)?'\n",
    "NUMBER_REGEX = r'\\d+'\n",
    "\n",
    "\n",
    "def find_email(text):\n",
    "    return re.findall(re.compile(EMAIL_REGEX), text)\n",
    "\n",
    "def find_phone_number(text):\n",
    "    return re.findall(re.compile(PHONE_NUMEBR_REGEX), text)\n",
    "\n",
    "def find_address(text):\n",
    "    return re.findall(re.compile(ADDRESS_REGEX), text)\n",
    "\n",
    "\n",
    "def check_number(token):\n",
    "    return re.fullmatch(re.compile(NUMBER_REGEX), token)\n",
    "\n",
    "def check_partial_phone_number(token, second_token, third_token, fourth_token):\n",
    "    if token == \"(\" and check_phone_second_part(second_token) and third_token == \"-\" and check_phone_fourth_part(fourth_token):\n",
    "        return True\n",
    "    return False\n",
    "\n",
    "def check_phone_second_part(token):\n",
    "    return re.fullmatch(re.compile(PHONE_SECOND_PART_REGEX), token)\n",
    "\n",
    "def check_phone_fourth_part(token):\n",
    "    return re.fullmatch(re.compile(PHONE_FOURTH_PART_REGEX), token)"
   ]
  },
  {
   "cell_type": "code",
   "execution_count": 7,
   "metadata": {},
   "outputs": [
    {
     "data": {
      "text/html": [
       "<div>\n",
       "<style scoped>\n",
       "    .dataframe tbody tr th:only-of-type {\n",
       "        vertical-align: middle;\n",
       "    }\n",
       "\n",
       "    .dataframe tbody tr th {\n",
       "        vertical-align: top;\n",
       "    }\n",
       "\n",
       "    .dataframe thead th {\n",
       "        text-align: right;\n",
       "    }\n",
       "</style>\n",
       "<table border=\"1\" class=\"dataframe\">\n",
       "  <thead>\n",
       "    <tr style=\"text-align: right;\">\n",
       "      <th></th>\n",
       "      <th>document</th>\n",
       "      <th>full_text</th>\n",
       "      <th>tokens</th>\n",
       "      <th>trailing_whitespace</th>\n",
       "      <th>labels</th>\n",
       "    </tr>\n",
       "  </thead>\n",
       "  <tbody>\n",
       "    <tr>\n",
       "      <th>1103</th>\n",
       "      <td>9854</td>\n",
       "      <td>Waseem Mabunda  591 Smith Centers Apt. 656\\nJo...</td>\n",
       "      <td>[Waseem, Mabunda,  , 591, Smith, Centers, Apt,...</td>\n",
       "      <td>[True, True, False, True, True, True, False, T...</td>\n",
       "      <td>[B-NAME_STUDENT, I-NAME_STUDENT, O, B-STREET_A...</td>\n",
       "    </tr>\n",
       "    <tr>\n",
       "      <th>1887</th>\n",
       "      <td>11442</td>\n",
       "      <td>Reflection – Learning Launch of 1861. Milano\\n...</td>\n",
       "      <td>[Reflection, –, Learning, Launch, of, 1861, .,...</td>\n",
       "      <td>[True, True, True, True, True, False, True, Fa...</td>\n",
       "      <td>[O, O, O, O, O, O, O, O, O, O, O, O, O, O, O, ...</td>\n",
       "    </tr>\n",
       "  </tbody>\n",
       "</table>\n",
       "</div>"
      ],
      "text/plain": [
       "      document                                          full_text  \\\n",
       "1103      9854  Waseem Mabunda  591 Smith Centers Apt. 656\\nJo...   \n",
       "1887     11442  Reflection – Learning Launch of 1861. Milano\\n...   \n",
       "\n",
       "                                                 tokens  \\\n",
       "1103  [Waseem, Mabunda,  , 591, Smith, Centers, Apt,...   \n",
       "1887  [Reflection, –, Learning, Launch, of, 1861, .,...   \n",
       "\n",
       "                                    trailing_whitespace  \\\n",
       "1103  [True, True, False, True, True, True, False, T...   \n",
       "1887  [True, True, True, True, True, False, True, Fa...   \n",
       "\n",
       "                                                 labels  \n",
       "1103  [B-NAME_STUDENT, I-NAME_STUDENT, O, B-STREET_A...  \n",
       "1887  [O, O, O, O, O, O, O, O, O, O, O, O, O, O, O, ...  "
      ]
     },
     "execution_count": 7,
     "metadata": {},
     "output_type": "execute_result"
    }
   ],
   "source": [
    "filtered_rows = data_df[data_df['labels'].apply(lambda x: 'I-STREET_ADDRESS' in x)]\n",
    "filtered_rows"
   ]
  },
  {
   "cell_type": "code",
   "execution_count": 115,
   "metadata": {},
   "outputs": [
    {
     "name": "stdout",
     "output_type": "stream",
     "text": [
      "[]\n"
     ]
    }
   ],
   "source": [
    "# filtered_rows = data_df[data_df['labels'].apply(lambda x: 'B-STREET_ADDRESS' in x)]\n",
    "filtered_rows = data_df[data_df['labels'].apply(lambda x: 'B-EMAIL' in x)]['tokens']\n",
    "# res  = filtered_rows['full_text'].apply(find_phone_number)\n",
    "# print(filtered_rows['full_text'][1103])\n",
    "# print(filtered_rows['labels'][1103])\n",
    "# filtered_rows['tokens'][1103]\n",
    "# filtered_rows\n",
    "\n",
    "s = \"vpi@mn.nl\"\n",
    "print(find_email(s))\n",
    "# filtered_rows"
   ]
  },
  {
   "cell_type": "markdown",
   "metadata": {},
   "source": [
    "Filter tokens whose tag contains STREET_ADDRESS"
   ]
  },
  {
   "cell_type": "code",
   "execution_count": 98,
   "metadata": {},
   "outputs": [
    {
     "name": "stdout",
     "output_type": "stream",
     "text": [
      "591 Smith Centers Apt. 656 \n",
      " Joshuamouth, RI 95963\n",
      "['591 Smith Centers Apt. 656\\nJoshuamouth, RI 95963']\n"
     ]
    }
   ],
   "source": [
    "addresses = [(token, label) for tokens, labels in zip(data_df['tokens'], data_df['labels']) for token, label in zip(tokens, labels) if '-STREET_ADDRESS' in label]\n",
    "addresses\n",
    "s = str.join(' ', ['591', 'Smith','Centers','Apt.','656','\\n','Joshuamouth,','RI','95963'])\n",
    "s2 = str.join(' ', ['743', 'Erika','Bypass','Apt.','419','\\n','Andreahaven,','IL','54207'])\n",
    "print(s)\n",
    "# print(s2)\n",
    "\n",
    "# pattern = r'^(\\d{1,}) [a-zA-Z\\s]+(\\.)?\\s[A-Z]{2}\\s\\d{5,6}$'\n",
    "pattern = r'^\\d+ [a-zA-Z\\s]+(?:\\. \\d+)[a-zA-Z\\s]+(?:\\, [A-Z]{2}\\s\\d{5,6})$'\n",
    "match = re.findall(pattern, '591 Smith Centers Apt. 656\\nJoshuamouth, RI 95963')\n",
    "print(match)"
   ]
  },
  {
   "cell_type": "markdown",
   "metadata": {},
   "source": [
    "Filter tokens whose tag is B-EMAIL"
   ]
  },
  {
   "cell_type": "code",
   "execution_count": 114,
   "metadata": {},
   "outputs": [
    {
     "data": {
      "text/plain": [
       "['djones@gmail.com',\n",
       " 'matthew72@hotmail.com',\n",
       " 'belindarojas@yahoo.com',\n",
       " 'kennethevans@hotmail.com',\n",
       " 'agood@gmail.com',\n",
       " 'agood@gmail.com',\n",
       " 'hwillis@gmail.com',\n",
       " 'kellyharrison@gmail.com',\n",
       " 'kellyharrison@gmail.com',\n",
       " 'lowetyler@hotmail.com',\n",
       " 'murraythomas@gmail.com',\n",
       " 'vmartinez@hotmail.com',\n",
       " 'sheena82@yahoo.com',\n",
       " 'nbarker@hotmail.com',\n",
       " 'nbarker@hotmail.com',\n",
       " 'nbarker@hotmail.com',\n",
       " 'johnsondavid@hotmail.com',\n",
       " 'johnsondavid@hotmail.com',\n",
       " 'catherine19@hotmail.com',\n",
       " 'john03@yahoo.com',\n",
       " 'john03@yahoo.com',\n",
       " 'lisarose@gmail.com',\n",
       " 'diazkristen@gmail.com',\n",
       " 'lisarose@gmail.com',\n",
       " 'diazkristen@gmail.com',\n",
       " 'andrew58@gmail.com',\n",
       " 'boydcynthia@yahoo.com',\n",
       " 'laurie33@yahoo.com',\n",
       " 'laurie33@yahoo.com',\n",
       " 'pauljohnson@hotmail.com',\n",
       " 'pauljohnson@hotmail.com',\n",
       " 'jarviscindy@hotmail.com',\n",
       " 'jarviscindy@hotmail.com',\n",
       " 'jray@hotmail.com',\n",
       " 'gday@hotmail.com',\n",
       " 'gday@hotmail.com',\n",
       " 'gday@hotmail.com',\n",
       " 'noah14@hotmail.com',\n",
       " 'hbrown@yahoo.com']"
      ]
     },
     "execution_count": 114,
     "metadata": {},
     "output_type": "execute_result"
    }
   ],
   "source": [
    "emails = [token for tokens, labels in zip(data_df['tokens'], data_df['labels']) for token, label in zip(tokens, labels) if label == 'B-EMAIL']\n",
    "emails"
   ]
  },
  {
   "cell_type": "markdown",
   "metadata": {},
   "source": [
    "Filter tokens whose tag contains PHONE_NUM"
   ]
  },
  {
   "cell_type": "code",
   "execution_count": 230,
   "metadata": {},
   "outputs": [
    {
     "data": {
      "text/plain": [
       "[('(', 'B-PHONE_NUM'),\n",
       " ('320)202', 'I-PHONE_NUM'),\n",
       " ('-', 'I-PHONE_NUM'),\n",
       " ('0688x95843', 'I-PHONE_NUM'),\n",
       " ('(', 'B-PHONE_NUM'),\n",
       " ('223)392', 'I-PHONE_NUM'),\n",
       " ('-', 'I-PHONE_NUM'),\n",
       " ('2765', 'I-PHONE_NUM'),\n",
       " ('(', 'B-PHONE_NUM'),\n",
       " ('820)913', 'I-PHONE_NUM'),\n",
       " ('-', 'I-PHONE_NUM'),\n",
       " ('3241x894', 'I-PHONE_NUM'),\n",
       " ('(', 'B-PHONE_NUM'),\n",
       " ('820)913', 'I-PHONE_NUM'),\n",
       " ('-', 'I-PHONE_NUM'),\n",
       " ('3241x894', 'I-PHONE_NUM'),\n",
       " ('(', 'B-PHONE_NUM'),\n",
       " ('820)913', 'I-PHONE_NUM'),\n",
       " ('-', 'I-PHONE_NUM'),\n",
       " ('3241x894', 'I-PHONE_NUM'),\n",
       " ('410.526.1667', 'B-PHONE_NUM')]"
      ]
     },
     "execution_count": 230,
     "metadata": {},
     "output_type": "execute_result"
    }
   ],
   "source": [
    "phones = [(token, label) for tokens, labels in zip(data_df['tokens'], data_df['labels']) for token, label in zip(tokens, labels) if '-PHONE_NUM' in label]\n",
    "phones"
   ]
  },
  {
   "cell_type": "markdown",
   "metadata": {},
   "source": [
    "Check '(' token label"
   ]
  },
  {
   "cell_type": "code",
   "execution_count": 89,
   "metadata": {},
   "outputs": [
    {
     "data": {
      "text/plain": [
       "{'B-PHONE_NUM', 'O'}"
      ]
     },
     "execution_count": 89,
     "metadata": {},
     "output_type": "execute_result"
    }
   ],
   "source": [
    "paranthesis_tokens = [(token, label) for tokens, labels in zip(data_df['tokens'], data_df['labels']) for token, label in zip(tokens, labels) if token=='(']\n",
    "paranthesis_labels = {item for sublist in paranthesis_tokens for item in sublist if item != '('}\n",
    "paranthesis_labels"
   ]
  },
  {
   "cell_type": "markdown",
   "metadata": {},
   "source": [
    "Chech '-' token label"
   ]
  },
  {
   "cell_type": "code",
   "execution_count": 90,
   "metadata": {},
   "outputs": [
    {
     "data": {
      "text/plain": [
       "{'I-PHONE_NUM', 'O'}"
      ]
     },
     "execution_count": 90,
     "metadata": {},
     "output_type": "execute_result"
    }
   ],
   "source": [
    "hyphen_tokens = [(token, label) for tokens, labels in zip(data_df['tokens'], data_df['labels']) for token, label in zip(tokens, labels) if token=='-']\n",
    "hyphen_labels = {item for sublist in hyphen_tokens for item in sublist if item != '-'}\n",
    "hyphen_labels"
   ]
  },
  {
   "cell_type": "markdown",
   "metadata": {},
   "source": [
    "Filter number tokens with their labels"
   ]
  },
  {
   "cell_type": "code",
   "execution_count": 186,
   "metadata": {},
   "outputs": [
    {
     "data": {
      "text/plain": [
       "{'B-ID_NUM',\n",
       " 'B-STREET_ADDRESS',\n",
       " 'I-ID_NUM',\n",
       " 'I-PHONE_NUM',\n",
       " 'I-STREET_ADDRESS',\n",
       " 'O'}"
      ]
     },
     "execution_count": 186,
     "metadata": {},
     "output_type": "execute_result"
    }
   ],
   "source": [
    "numbers = [(token, label) for tokens, labels in zip(data_df['tokens'], data_df['labels']) for token, label in zip(tokens, labels) if check_number(token)]\n",
    "n  = {item for sublist in numbers for item in sublist if not check_number(item)}\n",
    "n"
   ]
  }
 ],
 "metadata": {
  "kernelspec": {
   "display_name": "env",
   "language": "python",
   "name": "python3"
  },
  "language_info": {
   "codemirror_mode": {
    "name": "ipython",
    "version": 3
   },
   "file_extension": ".py",
   "mimetype": "text/x-python",
   "name": "python",
   "nbconvert_exporter": "python",
   "pygments_lexer": "ipython3",
   "version": "3.9.18"
  }
 },
 "nbformat": 4,
 "nbformat_minor": 2
}
