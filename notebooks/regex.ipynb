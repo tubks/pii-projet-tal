{
 "cells": [
  {
   "cell_type": "code",
   "execution_count": 5,
   "metadata": {},
   "outputs": [],
   "source": [
    "import os\n",
    "import json\n",
    "import pandas as pd"
   ]
  },
  {
   "cell_type": "code",
   "execution_count": 6,
   "metadata": {},
   "outputs": [],
   "source": [
    "data_path = os.path.join('..', 'data' ,'raw', 'train.json')\n",
    "f = open(data_path)\n",
    "data = json.load(f)\n",
    "f.close()"
   ]
  },
  {
   "cell_type": "code",
   "execution_count": 7,
   "metadata": {},
   "outputs": [
    {
     "data": {
      "text/html": [
       "<div>\n",
       "<style scoped>\n",
       "    .dataframe tbody tr th:only-of-type {\n",
       "        vertical-align: middle;\n",
       "    }\n",
       "\n",
       "    .dataframe tbody tr th {\n",
       "        vertical-align: top;\n",
       "    }\n",
       "\n",
       "    .dataframe thead th {\n",
       "        text-align: right;\n",
       "    }\n",
       "</style>\n",
       "<table border=\"1\" class=\"dataframe\">\n",
       "  <thead>\n",
       "    <tr style=\"text-align: right;\">\n",
       "      <th></th>\n",
       "      <th>document</th>\n",
       "      <th>full_text</th>\n",
       "      <th>tokens</th>\n",
       "      <th>trailing_whitespace</th>\n",
       "      <th>labels</th>\n",
       "    </tr>\n",
       "  </thead>\n",
       "  <tbody>\n",
       "    <tr>\n",
       "      <th>0</th>\n",
       "      <td>7</td>\n",
       "      <td>Design Thinking for innovation reflexion-Avril...</td>\n",
       "      <td>[Design, Thinking, for, innovation, reflexion,...</td>\n",
       "      <td>[True, True, True, True, False, False, True, F...</td>\n",
       "      <td>[O, O, O, O, O, O, O, O, O, B-NAME_STUDENT, I-...</td>\n",
       "    </tr>\n",
       "    <tr>\n",
       "      <th>1</th>\n",
       "      <td>10</td>\n",
       "      <td>Diego Estrada\\n\\nDesign Thinking Assignment\\n\\...</td>\n",
       "      <td>[Diego, Estrada, \\n\\n, Design, Thinking, Assig...</td>\n",
       "      <td>[True, False, False, True, True, False, False,...</td>\n",
       "      <td>[B-NAME_STUDENT, I-NAME_STUDENT, O, O, O, O, O...</td>\n",
       "    </tr>\n",
       "    <tr>\n",
       "      <th>2</th>\n",
       "      <td>16</td>\n",
       "      <td>Reporting process\\n\\nby Gilberto Gamboa\\n\\nCha...</td>\n",
       "      <td>[Reporting, process, \\n\\n, by, Gilberto, Gambo...</td>\n",
       "      <td>[True, False, False, True, True, False, False,...</td>\n",
       "      <td>[O, O, O, O, B-NAME_STUDENT, I-NAME_STUDENT, O...</td>\n",
       "    </tr>\n",
       "    <tr>\n",
       "      <th>3</th>\n",
       "      <td>20</td>\n",
       "      <td>Design Thinking for Innovation\\n\\nSindy Samaca...</td>\n",
       "      <td>[Design, Thinking, for, Innovation, \\n\\n, Sind...</td>\n",
       "      <td>[True, True, True, False, False, True, False, ...</td>\n",
       "      <td>[O, O, O, O, O, B-NAME_STUDENT, I-NAME_STUDENT...</td>\n",
       "    </tr>\n",
       "    <tr>\n",
       "      <th>4</th>\n",
       "      <td>56</td>\n",
       "      <td>Assignment:  Visualization Reflection  Submitt...</td>\n",
       "      <td>[Assignment, :,   , Visualization,  , Reflecti...</td>\n",
       "      <td>[False, False, False, False, False, False, Fal...</td>\n",
       "      <td>[O, O, O, O, O, O, O, O, O, O, O, O, B-NAME_ST...</td>\n",
       "    </tr>\n",
       "  </tbody>\n",
       "</table>\n",
       "</div>"
      ],
      "text/plain": [
       "   document                                          full_text  \\\n",
       "0         7  Design Thinking for innovation reflexion-Avril...   \n",
       "1        10  Diego Estrada\\n\\nDesign Thinking Assignment\\n\\...   \n",
       "2        16  Reporting process\\n\\nby Gilberto Gamboa\\n\\nCha...   \n",
       "3        20  Design Thinking for Innovation\\n\\nSindy Samaca...   \n",
       "4        56  Assignment:  Visualization Reflection  Submitt...   \n",
       "\n",
       "                                              tokens  \\\n",
       "0  [Design, Thinking, for, innovation, reflexion,...   \n",
       "1  [Diego, Estrada, \\n\\n, Design, Thinking, Assig...   \n",
       "2  [Reporting, process, \\n\\n, by, Gilberto, Gambo...   \n",
       "3  [Design, Thinking, for, Innovation, \\n\\n, Sind...   \n",
       "4  [Assignment, :,   , Visualization,  , Reflecti...   \n",
       "\n",
       "                                 trailing_whitespace  \\\n",
       "0  [True, True, True, True, False, False, True, F...   \n",
       "1  [True, False, False, True, True, False, False,...   \n",
       "2  [True, False, False, True, True, False, False,...   \n",
       "3  [True, True, True, False, False, True, False, ...   \n",
       "4  [False, False, False, False, False, False, Fal...   \n",
       "\n",
       "                                              labels  \n",
       "0  [O, O, O, O, O, O, O, O, O, B-NAME_STUDENT, I-...  \n",
       "1  [B-NAME_STUDENT, I-NAME_STUDENT, O, O, O, O, O...  \n",
       "2  [O, O, O, O, B-NAME_STUDENT, I-NAME_STUDENT, O...  \n",
       "3  [O, O, O, O, O, B-NAME_STUDENT, I-NAME_STUDENT...  \n",
       "4  [O, O, O, O, O, O, O, O, O, O, O, O, B-NAME_ST...  "
      ]
     },
     "execution_count": 7,
     "metadata": {},
     "output_type": "execute_result"
    }
   ],
   "source": [
    "data_df = pd.DataFrame(data)\n",
    "data_df.head()"
   ]
  },
  {
   "cell_type": "code",
   "execution_count": 8,
   "metadata": {},
   "outputs": [
    {
     "data": {
      "text/plain": [
       "O                   4989794\n",
       "B-NAME_STUDENT         1365\n",
       "I-NAME_STUDENT         1096\n",
       "B-URL_PERSONAL          110\n",
       "B-ID_NUM                 78\n",
       "B-EMAIL                  39\n",
       "I-STREET_ADDRESS         20\n",
       "I-PHONE_NUM              15\n",
       "B-USERNAME                6\n",
       "B-PHONE_NUM               6\n",
       "B-STREET_ADDRESS          2\n",
       "I-URL_PERSONAL            1\n",
       "I-ID_NUM                  1\n",
       "Name: count, dtype: int64"
      ]
     },
     "execution_count": 8,
     "metadata": {},
     "output_type": "execute_result"
    }
   ],
   "source": [
    "all_labels = set([label for sublist in data_df['labels'] for label in sublist])\n",
    "all_labels\n",
    "label_counts = (data_df['labels'].apply(pd.Series).stack().value_counts())\n",
    "label_counts"
   ]
  },
  {
   "cell_type": "code",
   "execution_count": 9,
   "metadata": {},
   "outputs": [],
   "source": [
    "import re \n",
    "\n",
    "EMAIL_REGEX = r'\\b[A-Za-z0-9]+[.-_]*[A-Za-z0-9]+@(?:gmail|hotmail|yahoo)\\.[A-Z|a-z]{2,}\\b'\n",
    "PHONE_NUMEBR_WITH_DOT_REGEX = r'\\b\\d{3}\\.\\d{1,4}\\.\\d{1,10}\\b'\n",
    "PHONE_SECOND_PART_REGEX = r'\\b\\d{1,3}\\)\\d{1,4}\\b'\n",
    "PHONE_FOURTH_PART_REGEX =  r'\\b\\d+(?:x\\d+)?\\b'\n",
    "NUMBER_REGEX = r'\\d+'\n",
    "ZIP_CODE_REGEX = r'\\b[A-Z]{2}\\b'\n",
    "\n",
    "def check_email(text):\n",
    "    return re.findall(re.compile(EMAIL_REGEX), text)\n",
    "\n",
    "def check_phone_with_dot(text):\n",
    "    return re.findall(re.compile(PHONE_NUMEBR_WITH_DOT_REGEX), text)\n",
    "\n",
    "def check_phone_second_part(token):\n",
    "    return re.fullmatch(re.compile(PHONE_SECOND_PART_REGEX), token)\n",
    "\n",
    "def check_phone_fourth_part(token):\n",
    "    return re.fullmatch(re.compile(PHONE_FOURTH_PART_REGEX), token)\n",
    "\n",
    "def check_zip_code(token):\n",
    "    return re.fullmatch(re.compile(ZIP_CODE_REGEX), token)\n",
    "\n",
    "def check_number(token):\n",
    "    return re.fullmatch(re.compile(NUMBER_REGEX), token)\n"
   ]
  },
  {
   "cell_type": "markdown",
   "metadata": {},
   "source": [
    "Filter tokens whose tag contains STREET_ADDRESS"
   ]
  },
  {
   "cell_type": "code",
   "execution_count": 10,
   "metadata": {},
   "outputs": [
    {
     "data": {
      "text/plain": [
       "[('591', 'B-STREET_ADDRESS'),\n",
       " ('Smith', 'I-STREET_ADDRESS'),\n",
       " ('Centers', 'I-STREET_ADDRESS'),\n",
       " ('Apt', 'I-STREET_ADDRESS'),\n",
       " ('.', 'I-STREET_ADDRESS'),\n",
       " ('656', 'I-STREET_ADDRESS'),\n",
       " ('\\n', 'I-STREET_ADDRESS'),\n",
       " ('Joshuamouth', 'I-STREET_ADDRESS'),\n",
       " (',', 'I-STREET_ADDRESS'),\n",
       " ('RI', 'I-STREET_ADDRESS'),\n",
       " ('95963', 'I-STREET_ADDRESS'),\n",
       " ('743', 'B-STREET_ADDRESS'),\n",
       " ('Erika', 'I-STREET_ADDRESS'),\n",
       " ('Bypass', 'I-STREET_ADDRESS'),\n",
       " ('Apt', 'I-STREET_ADDRESS'),\n",
       " ('.', 'I-STREET_ADDRESS'),\n",
       " ('419', 'I-STREET_ADDRESS'),\n",
       " ('\\n', 'I-STREET_ADDRESS'),\n",
       " ('Andreahaven', 'I-STREET_ADDRESS'),\n",
       " (',', 'I-STREET_ADDRESS'),\n",
       " ('IL', 'I-STREET_ADDRESS'),\n",
       " ('54207', 'I-STREET_ADDRESS')]"
      ]
     },
     "execution_count": 10,
     "metadata": {},
     "output_type": "execute_result"
    }
   ],
   "source": [
    "addresses = [(token, label) for tokens, labels in zip(data_df['tokens'], data_df['labels']) for token, label in zip(tokens, labels) if '-STREET_ADDRESS' in label]\n",
    "addresses"
   ]
  },
  {
   "cell_type": "markdown",
   "metadata": {},
   "source": [
    "Filter tokens whose tag is B-EMAIL"
   ]
  },
  {
   "cell_type": "code",
   "execution_count": 11,
   "metadata": {},
   "outputs": [
    {
     "data": {
      "text/plain": [
       "['djones@gmail.com',\n",
       " 'matthew72@hotmail.com',\n",
       " 'belindarojas@yahoo.com',\n",
       " 'kennethevans@hotmail.com',\n",
       " 'agood@gmail.com',\n",
       " 'agood@gmail.com',\n",
       " 'hwillis@gmail.com',\n",
       " 'kellyharrison@gmail.com',\n",
       " 'kellyharrison@gmail.com',\n",
       " 'lowetyler@hotmail.com',\n",
       " 'murraythomas@gmail.com',\n",
       " 'vmartinez@hotmail.com',\n",
       " 'sheena82@yahoo.com',\n",
       " 'nbarker@hotmail.com',\n",
       " 'nbarker@hotmail.com',\n",
       " 'nbarker@hotmail.com',\n",
       " 'johnsondavid@hotmail.com',\n",
       " 'johnsondavid@hotmail.com',\n",
       " 'catherine19@hotmail.com',\n",
       " 'john03@yahoo.com',\n",
       " 'john03@yahoo.com',\n",
       " 'lisarose@gmail.com',\n",
       " 'diazkristen@gmail.com',\n",
       " 'lisarose@gmail.com',\n",
       " 'diazkristen@gmail.com',\n",
       " 'andrew58@gmail.com',\n",
       " 'boydcynthia@yahoo.com',\n",
       " 'laurie33@yahoo.com',\n",
       " 'laurie33@yahoo.com',\n",
       " 'pauljohnson@hotmail.com',\n",
       " 'pauljohnson@hotmail.com',\n",
       " 'jarviscindy@hotmail.com',\n",
       " 'jarviscindy@hotmail.com',\n",
       " 'jray@hotmail.com',\n",
       " 'gday@hotmail.com',\n",
       " 'gday@hotmail.com',\n",
       " 'gday@hotmail.com',\n",
       " 'noah14@hotmail.com',\n",
       " 'hbrown@yahoo.com']"
      ]
     },
     "execution_count": 11,
     "metadata": {},
     "output_type": "execute_result"
    }
   ],
   "source": [
    "emails = [token for tokens, labels in zip(data_df['tokens'], data_df['labels']) for token, label in zip(tokens, labels) if label == 'B-EMAIL']\n",
    "emails"
   ]
  },
  {
   "cell_type": "markdown",
   "metadata": {},
   "source": [
    "Filter tokens whose tag contains PHONE_NUM"
   ]
  },
  {
   "cell_type": "code",
   "execution_count": 12,
   "metadata": {},
   "outputs": [
    {
     "data": {
      "text/plain": [
       "[('(', 'B-PHONE_NUM'),\n",
       " ('320)202', 'I-PHONE_NUM'),\n",
       " ('-', 'I-PHONE_NUM'),\n",
       " ('0688x95843', 'I-PHONE_NUM'),\n",
       " ('(', 'B-PHONE_NUM'),\n",
       " ('223)392', 'I-PHONE_NUM'),\n",
       " ('-', 'I-PHONE_NUM'),\n",
       " ('2765', 'I-PHONE_NUM'),\n",
       " ('(', 'B-PHONE_NUM'),\n",
       " ('820)913', 'I-PHONE_NUM'),\n",
       " ('-', 'I-PHONE_NUM'),\n",
       " ('3241x894', 'I-PHONE_NUM'),\n",
       " ('(', 'B-PHONE_NUM'),\n",
       " ('820)913', 'I-PHONE_NUM'),\n",
       " ('-', 'I-PHONE_NUM'),\n",
       " ('3241x894', 'I-PHONE_NUM'),\n",
       " ('(', 'B-PHONE_NUM'),\n",
       " ('820)913', 'I-PHONE_NUM'),\n",
       " ('-', 'I-PHONE_NUM'),\n",
       " ('3241x894', 'I-PHONE_NUM'),\n",
       " ('410.526.1667', 'B-PHONE_NUM')]"
      ]
     },
     "execution_count": 12,
     "metadata": {},
     "output_type": "execute_result"
    }
   ],
   "source": [
    "phones = [(token, label) for tokens, labels in zip(data_df['tokens'], data_df['labels']) for token, label in zip(tokens, labels) if '-PHONE_NUM' in label]\n",
    "phones"
   ]
  },
  {
   "cell_type": "markdown",
   "metadata": {},
   "source": [
    "Check '(' token label"
   ]
  },
  {
   "cell_type": "code",
   "execution_count": 13,
   "metadata": {},
   "outputs": [
    {
     "data": {
      "text/plain": [
       "{'B-PHONE_NUM', 'O'}"
      ]
     },
     "execution_count": 13,
     "metadata": {},
     "output_type": "execute_result"
    }
   ],
   "source": [
    "paranthesis_tokens = [(token, label) for tokens, labels in zip(data_df['tokens'], data_df['labels']) for token, label in zip(tokens, labels) if token=='(']\n",
    "paranthesis_labels = {item for sublist in paranthesis_tokens for item in sublist if item != '('}\n",
    "paranthesis_labels"
   ]
  },
  {
   "cell_type": "markdown",
   "metadata": {},
   "source": [
    "Chech '-' token label"
   ]
  },
  {
   "cell_type": "code",
   "execution_count": 14,
   "metadata": {},
   "outputs": [
    {
     "data": {
      "text/plain": [
       "{'I-PHONE_NUM', 'O'}"
      ]
     },
     "execution_count": 14,
     "metadata": {},
     "output_type": "execute_result"
    }
   ],
   "source": [
    "hyphen_tokens = [(token, label) for tokens, labels in zip(data_df['tokens'], data_df['labels']) for token, label in zip(tokens, labels) if token=='-']\n",
    "hyphen_labels = {item for sublist in hyphen_tokens for item in sublist if item != '-'}\n",
    "hyphen_labels"
   ]
  },
  {
   "cell_type": "markdown",
   "metadata": {},
   "source": [
    "Filter number tokens with their labels"
   ]
  },
  {
   "cell_type": "code",
   "execution_count": 15,
   "metadata": {},
   "outputs": [
    {
     "data": {
      "text/plain": [
       "{'B-ID_NUM',\n",
       " 'B-STREET_ADDRESS',\n",
       " 'I-ID_NUM',\n",
       " 'I-PHONE_NUM',\n",
       " 'I-STREET_ADDRESS',\n",
       " 'O'}"
      ]
     },
     "execution_count": 15,
     "metadata": {},
     "output_type": "execute_result"
    }
   ],
   "source": [
    "numbers = [(token, label) for tokens, labels in zip(data_df['tokens'], data_df['labels']) for token, label in zip(tokens, labels) if check_number(token)]\n",
    "n  = {item for sublist in numbers for item in sublist if not check_number(item)}\n",
    "n"
   ]
  },
  {
   "cell_type": "code",
   "execution_count": 79,
   "metadata": {},
   "outputs": [],
   "source": [
    "def predict_label(row):\n",
    "    tokens = row['tokens']\n",
    "    labels = ['O']*len(tokens)\n",
    "    \n",
    "    for index, token in enumerate(tokens):\n",
    "        \n",
    "        if check_email(token):\n",
    "            labels[index] = 'B-EMAIL'\n",
    "        \n",
    "        if check_phone_with_dot(token):\n",
    "            labels[index] = 'B-PHONE_NUM'            \n",
    "        \n",
    "        try:\n",
    "            # check phone numbers in the '(320)202-0688x95843' format\n",
    "            if token == \"(\":\n",
    "                second_token = tokens[index+1]\n",
    "                if check_phone_second_part(second_token):\n",
    "                    third_token = tokens[index+2]\n",
    "                    if third_token == \"-\":\n",
    "                        fourth_token=tokens[index+3]\n",
    "                        if check_phone_fourth_part(fourth_token):\n",
    "                            labels[index] = \"B-PHONE_NUM\"\n",
    "                            labels[index+1] = \"I-PHONE_NUM\"\n",
    "                            labels[index+2] = \"I-PHONE_NUM\"\n",
    "                            labels[index+3] = \"I-PHONE_NUM\" \n",
    "            \n",
    "            # check address\n",
    "            # address format: begin with numbers, end with numbers preceded by zip code preceded by comma\n",
    "            # second condition for when there are numbers within the address\n",
    "            #todo: default address is considered to be 11, need to investigate more\n",
    "            if check_number(token) and labels[index]=='O': \n",
    "                pointer = index\n",
    "                match = False\n",
    "                while not match:\n",
    "                    pointer += 1\n",
    "                    if check_zip_code(tokens[pointer]):\n",
    "                        if tokens[pointer-1] == \",\":\n",
    "                            pointer += 1\n",
    "                            if check_number(tokens[pointer]):\n",
    "                                if pointer - index == 10:\n",
    "                                    match = True\n",
    "                                    labels[index] = 'B-STREET_ADDRESS'\n",
    "                                    while pointer != index:\n",
    "                                        labels[pointer] = 'I-STREET_ADDRESS'\n",
    "                                        pointer -= 1\n",
    "\n",
    "        except IndexError:\n",
    "            pass\n",
    "    \n",
    "    return labels"
   ]
  },
  {
   "cell_type": "code",
   "execution_count": 75,
   "metadata": {},
   "outputs": [
    {
     "data": {
      "text/html": [
       "<div>\n",
       "<style scoped>\n",
       "    .dataframe tbody tr th:only-of-type {\n",
       "        vertical-align: middle;\n",
       "    }\n",
       "\n",
       "    .dataframe tbody tr th {\n",
       "        vertical-align: top;\n",
       "    }\n",
       "\n",
       "    .dataframe thead th {\n",
       "        text-align: right;\n",
       "    }\n",
       "</style>\n",
       "<table border=\"1\" class=\"dataframe\">\n",
       "  <thead>\n",
       "    <tr style=\"text-align: right;\">\n",
       "      <th></th>\n",
       "      <th>document</th>\n",
       "      <th>full_text</th>\n",
       "      <th>tokens</th>\n",
       "      <th>trailing_whitespace</th>\n",
       "      <th>labels</th>\n",
       "      <th>custom_labels</th>\n",
       "    </tr>\n",
       "  </thead>\n",
       "  <tbody>\n",
       "    <tr>\n",
       "      <th>0</th>\n",
       "      <td>7</td>\n",
       "      <td>Design Thinking for innovation reflexion-Avril...</td>\n",
       "      <td>[Design, Thinking, for, innovation, reflexion,...</td>\n",
       "      <td>[True, True, True, True, False, False, True, F...</td>\n",
       "      <td>[O, O, O, O, O, O, O, O, O, B-NAME_STUDENT, I-...</td>\n",
       "      <td>[O, O, O, O, O, O, O, O, O, O, O, O, O, O, O, ...</td>\n",
       "    </tr>\n",
       "    <tr>\n",
       "      <th>1</th>\n",
       "      <td>10</td>\n",
       "      <td>Diego Estrada\\n\\nDesign Thinking Assignment\\n\\...</td>\n",
       "      <td>[Diego, Estrada, \\n\\n, Design, Thinking, Assig...</td>\n",
       "      <td>[True, False, False, True, True, False, False,...</td>\n",
       "      <td>[B-NAME_STUDENT, I-NAME_STUDENT, O, O, O, O, O...</td>\n",
       "      <td>[O, O, O, O, O, O, O, O, O, O, O, O, O, O, O, ...</td>\n",
       "    </tr>\n",
       "    <tr>\n",
       "      <th>2</th>\n",
       "      <td>16</td>\n",
       "      <td>Reporting process\\n\\nby Gilberto Gamboa\\n\\nCha...</td>\n",
       "      <td>[Reporting, process, \\n\\n, by, Gilberto, Gambo...</td>\n",
       "      <td>[True, False, False, True, True, False, False,...</td>\n",
       "      <td>[O, O, O, O, B-NAME_STUDENT, I-NAME_STUDENT, O...</td>\n",
       "      <td>[O, O, O, O, O, O, O, O, O, O, O, O, O, O, O, ...</td>\n",
       "    </tr>\n",
       "    <tr>\n",
       "      <th>3</th>\n",
       "      <td>20</td>\n",
       "      <td>Design Thinking for Innovation\\n\\nSindy Samaca...</td>\n",
       "      <td>[Design, Thinking, for, Innovation, \\n\\n, Sind...</td>\n",
       "      <td>[True, True, True, False, False, True, False, ...</td>\n",
       "      <td>[O, O, O, O, O, B-NAME_STUDENT, I-NAME_STUDENT...</td>\n",
       "      <td>[O, O, O, O, O, O, O, O, O, O, O, O, O, O, O, ...</td>\n",
       "    </tr>\n",
       "    <tr>\n",
       "      <th>4</th>\n",
       "      <td>56</td>\n",
       "      <td>Assignment:  Visualization Reflection  Submitt...</td>\n",
       "      <td>[Assignment, :,   , Visualization,  , Reflecti...</td>\n",
       "      <td>[False, False, False, False, False, False, Fal...</td>\n",
       "      <td>[O, O, O, O, O, O, O, O, O, O, O, O, B-NAME_ST...</td>\n",
       "      <td>[O, O, O, O, O, O, O, O, O, O, O, O, O, O, O, ...</td>\n",
       "    </tr>\n",
       "    <tr>\n",
       "      <th>...</th>\n",
       "      <td>...</td>\n",
       "      <td>...</td>\n",
       "      <td>...</td>\n",
       "      <td>...</td>\n",
       "      <td>...</td>\n",
       "      <td>...</td>\n",
       "    </tr>\n",
       "    <tr>\n",
       "      <th>6802</th>\n",
       "      <td>22678</td>\n",
       "      <td>EXAMPLE – JOURNEY MAP\\n\\nTHE CHALLENGE    My w...</td>\n",
       "      <td>[EXAMPLE, –, JOURNEY, MAP, \\n\\n, THE, CHALLENG...</td>\n",
       "      <td>[True, True, True, False, False, True, True, F...</td>\n",
       "      <td>[O, O, O, O, O, O, O, O, O, O, O, O, O, O, O, ...</td>\n",
       "      <td>[O, O, O, O, O, O, O, O, O, O, O, O, O, O, O, ...</td>\n",
       "    </tr>\n",
       "    <tr>\n",
       "      <th>6803</th>\n",
       "      <td>22679</td>\n",
       "      <td>Why Mind Mapping?\\n\\nMind maps are graphical r...</td>\n",
       "      <td>[Why, Mind, Mapping, ?, \\n\\n, Mind, maps, are,...</td>\n",
       "      <td>[True, True, False, False, False, True, True, ...</td>\n",
       "      <td>[O, O, O, O, O, O, O, O, O, O, O, O, O, O, O, ...</td>\n",
       "      <td>[O, O, O, O, O, O, O, O, O, O, O, O, O, O, O, ...</td>\n",
       "    </tr>\n",
       "    <tr>\n",
       "      <th>6804</th>\n",
       "      <td>22681</td>\n",
       "      <td>Challenge\\n\\nSo, a few months back, I had chos...</td>\n",
       "      <td>[Challenge, \\n\\n, So, ,, a, few, months, back,...</td>\n",
       "      <td>[False, False, False, True, True, True, True, ...</td>\n",
       "      <td>[O, O, O, O, O, O, O, O, O, O, O, O, O, O, O, ...</td>\n",
       "      <td>[O, O, O, O, O, O, O, O, O, O, O, O, O, O, O, ...</td>\n",
       "    </tr>\n",
       "    <tr>\n",
       "      <th>6805</th>\n",
       "      <td>22684</td>\n",
       "      <td>Brainstorming\\n\\nChallenge &amp; Selection\\n\\nBrai...</td>\n",
       "      <td>[Brainstorming, \\n\\n, Challenge, &amp;, Selection,...</td>\n",
       "      <td>[False, False, True, True, False, False, True,...</td>\n",
       "      <td>[O, O, O, O, O, O, O, O, O, O, O, O, O, O, O, ...</td>\n",
       "      <td>[O, O, O, O, O, O, O, O, O, O, O, O, O, O, O, ...</td>\n",
       "    </tr>\n",
       "    <tr>\n",
       "      <th>6806</th>\n",
       "      <td>22687</td>\n",
       "      <td>Mind Mapping\\n\\nChallenge\\n\\nMy consulting tea...</td>\n",
       "      <td>[Mind, Mapping, \\n\\n, Challenge, \\n\\n, My, con...</td>\n",
       "      <td>[True, False, False, False, False, True, True,...</td>\n",
       "      <td>[O, O, O, O, O, O, O, O, O, O, O, O, O, O, O, ...</td>\n",
       "      <td>[O, O, O, O, O, O, O, O, O, O, O, O, O, O, O, ...</td>\n",
       "    </tr>\n",
       "  </tbody>\n",
       "</table>\n",
       "<p>6807 rows × 6 columns</p>\n",
       "</div>"
      ],
      "text/plain": [
       "      document                                          full_text  \\\n",
       "0            7  Design Thinking for innovation reflexion-Avril...   \n",
       "1           10  Diego Estrada\\n\\nDesign Thinking Assignment\\n\\...   \n",
       "2           16  Reporting process\\n\\nby Gilberto Gamboa\\n\\nCha...   \n",
       "3           20  Design Thinking for Innovation\\n\\nSindy Samaca...   \n",
       "4           56  Assignment:  Visualization Reflection  Submitt...   \n",
       "...        ...                                                ...   \n",
       "6802     22678  EXAMPLE – JOURNEY MAP\\n\\nTHE CHALLENGE    My w...   \n",
       "6803     22679  Why Mind Mapping?\\n\\nMind maps are graphical r...   \n",
       "6804     22681  Challenge\\n\\nSo, a few months back, I had chos...   \n",
       "6805     22684  Brainstorming\\n\\nChallenge & Selection\\n\\nBrai...   \n",
       "6806     22687  Mind Mapping\\n\\nChallenge\\n\\nMy consulting tea...   \n",
       "\n",
       "                                                 tokens  \\\n",
       "0     [Design, Thinking, for, innovation, reflexion,...   \n",
       "1     [Diego, Estrada, \\n\\n, Design, Thinking, Assig...   \n",
       "2     [Reporting, process, \\n\\n, by, Gilberto, Gambo...   \n",
       "3     [Design, Thinking, for, Innovation, \\n\\n, Sind...   \n",
       "4     [Assignment, :,   , Visualization,  , Reflecti...   \n",
       "...                                                 ...   \n",
       "6802  [EXAMPLE, –, JOURNEY, MAP, \\n\\n, THE, CHALLENG...   \n",
       "6803  [Why, Mind, Mapping, ?, \\n\\n, Mind, maps, are,...   \n",
       "6804  [Challenge, \\n\\n, So, ,, a, few, months, back,...   \n",
       "6805  [Brainstorming, \\n\\n, Challenge, &, Selection,...   \n",
       "6806  [Mind, Mapping, \\n\\n, Challenge, \\n\\n, My, con...   \n",
       "\n",
       "                                    trailing_whitespace  \\\n",
       "0     [True, True, True, True, False, False, True, F...   \n",
       "1     [True, False, False, True, True, False, False,...   \n",
       "2     [True, False, False, True, True, False, False,...   \n",
       "3     [True, True, True, False, False, True, False, ...   \n",
       "4     [False, False, False, False, False, False, Fal...   \n",
       "...                                                 ...   \n",
       "6802  [True, True, True, False, False, True, True, F...   \n",
       "6803  [True, True, False, False, False, True, True, ...   \n",
       "6804  [False, False, False, True, True, True, True, ...   \n",
       "6805  [False, False, True, True, False, False, True,...   \n",
       "6806  [True, False, False, False, False, True, True,...   \n",
       "\n",
       "                                                 labels  \\\n",
       "0     [O, O, O, O, O, O, O, O, O, B-NAME_STUDENT, I-...   \n",
       "1     [B-NAME_STUDENT, I-NAME_STUDENT, O, O, O, O, O...   \n",
       "2     [O, O, O, O, B-NAME_STUDENT, I-NAME_STUDENT, O...   \n",
       "3     [O, O, O, O, O, B-NAME_STUDENT, I-NAME_STUDENT...   \n",
       "4     [O, O, O, O, O, O, O, O, O, O, O, O, B-NAME_ST...   \n",
       "...                                                 ...   \n",
       "6802  [O, O, O, O, O, O, O, O, O, O, O, O, O, O, O, ...   \n",
       "6803  [O, O, O, O, O, O, O, O, O, O, O, O, O, O, O, ...   \n",
       "6804  [O, O, O, O, O, O, O, O, O, O, O, O, O, O, O, ...   \n",
       "6805  [O, O, O, O, O, O, O, O, O, O, O, O, O, O, O, ...   \n",
       "6806  [O, O, O, O, O, O, O, O, O, O, O, O, O, O, O, ...   \n",
       "\n",
       "                                          custom_labels  \n",
       "0     [O, O, O, O, O, O, O, O, O, O, O, O, O, O, O, ...  \n",
       "1     [O, O, O, O, O, O, O, O, O, O, O, O, O, O, O, ...  \n",
       "2     [O, O, O, O, O, O, O, O, O, O, O, O, O, O, O, ...  \n",
       "3     [O, O, O, O, O, O, O, O, O, O, O, O, O, O, O, ...  \n",
       "4     [O, O, O, O, O, O, O, O, O, O, O, O, O, O, O, ...  \n",
       "...                                                 ...  \n",
       "6802  [O, O, O, O, O, O, O, O, O, O, O, O, O, O, O, ...  \n",
       "6803  [O, O, O, O, O, O, O, O, O, O, O, O, O, O, O, ...  \n",
       "6804  [O, O, O, O, O, O, O, O, O, O, O, O, O, O, O, ...  \n",
       "6805  [O, O, O, O, O, O, O, O, O, O, O, O, O, O, O, ...  \n",
       "6806  [O, O, O, O, O, O, O, O, O, O, O, O, O, O, O, ...  \n",
       "\n",
       "[6807 rows x 6 columns]"
      ]
     },
     "execution_count": 75,
     "metadata": {},
     "output_type": "execute_result"
    }
   ],
   "source": [
    "data_df['custom_labels'] = data_df.apply(predict_label, axis=1)\n",
    "data_df"
   ]
  },
  {
   "cell_type": "markdown",
   "metadata": {},
   "source": [
    "Check the custom label with real label"
   ]
  },
  {
   "cell_type": "code",
   "execution_count": 78,
   "metadata": {},
   "outputs": [
    {
     "data": {
      "text/plain": [
       "True"
      ]
     },
     "execution_count": 78,
     "metadata": {},
     "output_type": "execute_result"
    }
   ],
   "source": [
    "real_emails = [token for tokens, labels in zip(data_df['tokens'], data_df['labels']) for token, label in zip(tokens, labels) if label == 'B-EMAIL']\n",
    "predicted_emails = [token for tokens, labels in zip(data_df['tokens'], data_df['custom_labels']) for token, label in zip(tokens, labels) if label == 'B-EMAIL']\n",
    "\n",
    "real_phones = [(token, label) for tokens, labels in zip(data_df['tokens'], data_df['labels']) for token, label in zip(tokens, labels) if '-PHONE_NUM' in label]\n",
    "predicted_phones = [(token, label) for tokens, labels in zip(data_df['tokens'], data_df['custom_labels']) for token, label in zip(tokens, labels) if '-PHONE_NUM' in label]\n",
    "\n",
    "real_address = \n",
    "predicted_address = \n"
   ]
  },
  {
   "cell_type": "code",
   "execution_count": null,
   "metadata": {},
   "outputs": [],
   "source": []
  }
 ],
 "metadata": {
  "kernelspec": {
   "display_name": "env",
   "language": "python",
   "name": "python3"
  },
  "language_info": {
   "codemirror_mode": {
    "name": "ipython",
    "version": 3
   },
   "file_extension": ".py",
   "mimetype": "text/x-python",
   "name": "python",
   "nbconvert_exporter": "python",
   "pygments_lexer": "ipython3",
   "version": "3.9.18"
  }
 },
 "nbformat": 4,
 "nbformat_minor": 2
}
