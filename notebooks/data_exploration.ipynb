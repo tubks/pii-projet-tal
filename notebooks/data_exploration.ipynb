{
 "cells": [
  {
   "cell_type": "markdown",
   "metadata": {},
   "source": [
    "# Data exploration"
   ]
  },
  {
   "cell_type": "code",
   "execution_count": 52,
   "metadata": {},
   "outputs": [],
   "source": [
    "import os\n",
    "import json\n",
    "import pandas as pd\n",
    "import plotly.express as px\n",
    "import matplotlib.pyplot as plt\n",
    "import numpy as np\n",
    "\n",
    "from collections import Counter"
   ]
  },
  {
   "cell_type": "code",
   "execution_count": 4,
   "metadata": {},
   "outputs": [
    {
     "name": "stdout",
     "output_type": "stream",
     "text": [
      "['B-NAME_STUDENT', 'I-NAME_STUDENT', 'O', 'O', 'O', 'O', 'O', 'O', 'O', 'O', 'O', 'O', 'O', 'O', 'O', 'O', 'O', 'O', 'O', 'O', 'O', 'O', 'O', 'O', 'O', 'O', 'O', 'O', 'O', 'O', 'O', 'O', 'O', 'O', 'O', 'O', 'O', 'O', 'O', 'O', 'O', 'O', 'O', 'O', 'O', 'O', 'O', 'O', 'O', 'O', 'O', 'O', 'O', 'O', 'O', 'O', 'O', 'O', 'O', 'O', 'O', 'O', 'O', 'O', 'O', 'O', 'O', 'O', 'O', 'O', 'O', 'O', 'O', 'O', 'O', 'O', 'O', 'O', 'O', 'O', 'O', 'O', 'O', 'O', 'O', 'O', 'O', 'O', 'O', 'O', 'O', 'O', 'O', 'O', 'O', 'O', 'O', 'O', 'O', 'O', 'O', 'O', 'O', 'O', 'O', 'O', 'O', 'O', 'O', 'O', 'O', 'O', 'O', 'O', 'O', 'O', 'O', 'O', 'O', 'O', 'O', 'O', 'O', 'O', 'O', 'O', 'O', 'O', 'O', 'O', 'O', 'O', 'O', 'O', 'O', 'O', 'O', 'O', 'O', 'O', 'O', 'O', 'O', 'O', 'O', 'O', 'O', 'O', 'O', 'O', 'O', 'O', 'O', 'O', 'O', 'O', 'O', 'O', 'O', 'O', 'O', 'O', 'O', 'O', 'O', 'O', 'O', 'O', 'O', 'O', 'O', 'O', 'O', 'O', 'O', 'O', 'O', 'O', 'O', 'O', 'O', 'O', 'O', 'O', 'O', 'O', 'O', 'O', 'O', 'O', 'O', 'O', 'O', 'O', 'O', 'O', 'O', 'O', 'O', 'O', 'O', 'O', 'O', 'O', 'O', 'O', 'O', 'O', 'O', 'O', 'O', 'O', 'O', 'O', 'O', 'O', 'O', 'O', 'O', 'O', 'O', 'O', 'O', 'O', 'O', 'O', 'O', 'O', 'O', 'O', 'O', 'O', 'O', 'O', 'O', 'O', 'O', 'O', 'O', 'O', 'O', 'O', 'O', 'O', 'O', 'O', 'O', 'O', 'O', 'O', 'O', 'O', 'O', 'O', 'O', 'O', 'O', 'O', 'O', 'O', 'O', 'O', 'O', 'O', 'O', 'O', 'O', 'O', 'O', 'O', 'O', 'O', 'O', 'O', 'O', 'O', 'O', 'O', 'O', 'O', 'O', 'O', 'O', 'O', 'O', 'O', 'O', 'O', 'O', 'O', 'O', 'O', 'O', 'O', 'O', 'O', 'O', 'O', 'O', 'O', 'O', 'O', 'O', 'O', 'O', 'O', 'O', 'O', 'O', 'O', 'O', 'O', 'O', 'O', 'O', 'O', 'O', 'O', 'O', 'O', 'O', 'O', 'O', 'O', 'O', 'O', 'O', 'O', 'O', 'O', 'O', 'O', 'O', 'O', 'O', 'O', 'O', 'O', 'O', 'O', 'O', 'O', 'O', 'O', 'O', 'O', 'O', 'O', 'O', 'O', 'O', 'O', 'O', 'O', 'O', 'O', 'O', 'O', 'O', 'O', 'O', 'O', 'O', 'O', 'O', 'O', 'O', 'O', 'O', 'O', 'O', 'O', 'O', 'O', 'O', 'O', 'O', 'O', 'O', 'O', 'O', 'O', 'O', 'O', 'O', 'O', 'O', 'O', 'O', 'O', 'O', 'O', 'O', 'O', 'O', 'O', 'O', 'O', 'O', 'O', 'O', 'O', 'O', 'O', 'O', 'O', 'O', 'O', 'O', 'O', 'O', 'O', 'O', 'O', 'O', 'O', 'O', 'O', 'O', 'O', 'O', 'O', 'O', 'O', 'O', 'O', 'O', 'O', 'O', 'O', 'O', 'O', 'O', 'O', 'O', 'O', 'O', 'O', 'O', 'O', 'O', 'O', 'O', 'O', 'O', 'O', 'O', 'O', 'O', 'O', 'O', 'O', 'O', 'O', 'O', 'O', 'O', 'O', 'O', 'O', 'O', 'O', 'O', 'O', 'B-NAME_STUDENT', 'I-NAME_STUDENT', 'O', 'O', 'O', 'O', 'O', 'O', 'O', 'O', 'O', 'O', 'O', 'O', 'O', 'O', 'O', 'O', 'O', 'O', 'O', 'O', 'O', 'O', 'O', 'O', 'O', 'O', 'O', 'O', 'O', 'O', 'O', 'O', 'O', 'O', 'O', 'O', 'O', 'O', 'O', 'O', 'O', 'O', 'O', 'O', 'O', 'O', 'O', 'O', 'O', 'O', 'O', 'O', 'O', 'O', 'O', 'O', 'O', 'O', 'O', 'O', 'O', 'O', 'O', 'O', 'O', 'O', 'O', 'O', 'O', 'O', 'O', 'O', 'O', 'O', 'O', 'O', 'O', 'O', 'O', 'O', 'O', 'O', 'O', 'O', 'O', 'O', 'O', 'O', 'O', 'O', 'O', 'O', 'O', 'O', 'O', 'O', 'O']\n",
      "****\n",
      "B-NAME_STUDENT\n",
      "I-NAME_STUDENT\n",
      "B-NAME_STUDENT\n",
      "I-NAME_STUDENT\n"
     ]
    }
   ],
   "source": [
    "data_path = os.path.join('..','data', 'raw', 'train.json')\n",
    "\n",
    "# opening and reading the json file\n",
    "f = open(data_path)\n",
    "data = json.load(f)\n",
    " \n",
    "# iterating through the json list\n",
    "# for i in data[:10]:\n",
    "#     print(i)\n",
    " \n",
    "for key, value in data[1].items():\n",
    "    if(key == \"labels\"):\n",
    "    \n",
    "        print(value)\n",
    "        print(\"****\")\n",
    "        for val in value:\n",
    "            if val != \"O\":\n",
    "                print(val)\n",
    "        # print(len([val for val in value if val!=\"O\"]))\n",
    "\n",
    "# closing the file\n",
    "f.close()\n"
   ]
  },
  {
   "cell_type": "code",
   "execution_count": 5,
   "metadata": {},
   "outputs": [
    {
     "name": "stdout",
     "output_type": "stream",
     "text": [
      "Number of samples:  6807\n"
     ]
    }
   ],
   "source": [
    "print(\"Number of samples: \", len(data))"
   ]
  },
  {
   "cell_type": "code",
   "execution_count": 6,
   "metadata": {},
   "outputs": [
    {
     "name": "stdout",
     "output_type": "stream",
     "text": [
      "data fields: dict_keys(['document', 'full_text', 'tokens', 'trailing_whitespace', 'labels'])\n"
     ]
    }
   ],
   "source": [
    "print(f\"data fields: {data[0].keys()}\")"
   ]
  },
  {
   "cell_type": "code",
   "execution_count": 7,
   "metadata": {},
   "outputs": [],
   "source": [
    "data_df = pd.DataFrame(data)"
   ]
  },
  {
   "cell_type": "code",
   "execution_count": 8,
   "metadata": {},
   "outputs": [
    {
     "name": "stdout",
     "output_type": "stream",
     "text": [
      "Reflection – Learning Launch\n",
      "\n",
      "Challenge\n",
      "\n",
      "I am a Data Platform product manager. It is a portfolio of capabilities and the key objective is to  provide a scalable data platform to enable more than 300 systems supporting our bank’s capital  market business to publish data using consistent data format. It is to break data silo to align  data format across systems, so data owner can publish once and use multiple times. And we  also provide shared developer tools as starter kit to accelerate time to market to make their data  available. This is about one capability requested by management and different users. It is  requested that how can we enable non technical people to read data from data platform, such  as business users. Currently, the way to retrieve data is either via data API or via subscription  the Kafka topics. This presents significant learning curves for business users. In the meanwhile,  different teams have tested two SQL query engines, Dremio and Presto. People wants to  identify one solution and launch this capability within 6 months.\n",
      "\n",
      "Selection\n",
      "\n",
      "Currently the requirement comes from our engineer VPs and my own boss. However, they are  not the real users. I want to walk in the shoes of my potential customers, so before jumping in  implementation and technology implementation, I decided to talk to a few potential customers to  understand their key problems. That’s why I decided to choose the tool Learning Launch Tool. It  helps us to test hypotheses and ideas with users learn during iterations. And we understand  that it needs to be a needle mover and we need to make failure cheap financially & personally.\n",
      "\n",
      "Application\n",
      "\n",
      "Why architecture and development teams are arguing which SQL tool to pick, I decided to step  back to test our ideas with actual users. We look at the users and there are two types. One is  our different project teams under different technology VPs who request this capability that is  needed for their project delivery. Another is the actual business users who will read data from  our platform that we want to enable. So we pick a few representatives from both groups and we  want to bring some prototype in front of them to verify our assumptions.\n",
      "\n",
      "The first groups love the data query tools and they are excited to see it goes live. What they are  looking for is an alternative of their extracts. Currently they are gathering requirements from  business users and go to IT development cycle to generate reports for users. However, this is a  painful process with an average 3 months time to market cycle. They want to move this role  back to actual business users. They believe this is the capability that will help them a lot.\n",
      "\n",
      "The second group surprised us when we demo the tools. Business told us they don’t know how  to write SQL query and what they are looking for is a drag and draw simple user interaction.  This is an ahah moment! And we realized that they need a very different user interface and the  current two potential solutions still have a steep learning curve for our business users.\n",
      "\n",
      "We realized that we have a key assumption that our users know how to write SQL query, by  introducing a tool to write SQL query means there is low technical barrier for adoption. And this  assumption is totally wrong. This discovery made us to rethink and reidentify what should be the\n",
      "\n",
      "user interface for our business users. And it brings us to look at PowerBI, an excel like  capability that most business users are familiar as a user interface.\n",
      "\n",
      "And we quickly formed another POC within 2 weeks and demoed in front of the business user  groups. This time they told us this is what they want.\n",
      "\n",
      "So we confirmed this hypothesis and we quickly nail down the direction and continue  development. Regarding the SQL query tool selection, we put it as a lower priority and really  looks at what can enable the connection of PowerBI, the real interface that will benefit our  business users.\n",
      "\n",
      "Insight\n",
      "\n",
      "It is hard to know what one doesn’t know. And it is so hard to realize the underlying  assumptions until get confronted. Within an engineer team, we are so used to use a technology  framework that focuses on technology optimization and architecture design. And the whole  practice is very far away from user journey. I think there is a lot of values to bridge the engineer  team and the users, especially user needs are very diverse and sometime complex. And that’s  when design thinking can come into play bringing clarity, simplicity and focus. The amazing  thing is the process of tool such as Learning Launch is simple to follow. And the discipline of  following the process along can help us achieve the goal and learn user insights quickly and  cheaply.\n",
      "\n",
      "Approach\n",
      "\n",
      "For myself, I will test the hypothesis fast and will encourage my team to do it before spending  time figuring out the underlying design, architecture or implementation. We should bring all the  testing upfront so we can iterate and learn fast. This will help us to mitigate the unavoidable  bias and see from users’ eye...\n",
      "\n",
      "\n"
     ]
    }
   ],
   "source": [
    "random_idx = np.random.randint(0, len(data_df))\n",
    "print(data_df.loc[random_idx, ('full_text')])"
   ]
  },
  {
   "cell_type": "code",
   "execution_count": 9,
   "metadata": {},
   "outputs": [],
   "source": [
    "data_df['is_only_o'] = data_df['labels'].map(lambda x: len(set(x)) == 1)"
   ]
  },
  {
   "cell_type": "code",
   "execution_count": 10,
   "metadata": {},
   "outputs": [
    {
     "data": {
      "text/html": [
       "<div>\n",
       "<style scoped>\n",
       "    .dataframe tbody tr th:only-of-type {\n",
       "        vertical-align: middle;\n",
       "    }\n",
       "\n",
       "    .dataframe tbody tr th {\n",
       "        vertical-align: top;\n",
       "    }\n",
       "\n",
       "    .dataframe thead th {\n",
       "        text-align: right;\n",
       "    }\n",
       "</style>\n",
       "<table border=\"1\" class=\"dataframe\">\n",
       "  <thead>\n",
       "    <tr style=\"text-align: right;\">\n",
       "      <th></th>\n",
       "      <th>index</th>\n",
       "      <th>document</th>\n",
       "      <th>full_text</th>\n",
       "      <th>tokens</th>\n",
       "      <th>trailing_whitespace</th>\n",
       "      <th>labels</th>\n",
       "      <th>is_only_o</th>\n",
       "      <th>has_phone</th>\n",
       "    </tr>\n",
       "  </thead>\n",
       "  <tbody>\n",
       "    <tr>\n",
       "      <th>0</th>\n",
       "      <td>185</td>\n",
       "      <td>4381</td>\n",
       "      <td>WRITING CENTRE  Level 3 East, Hub Central  Nor...</td>\n",
       "      <td>[WRITING, CENTRE,  , Level, 3, East, ,, Hub, C...</td>\n",
       "      <td>[True, True, False, True, True, False, True, T...</td>\n",
       "      <td>[O, O, O, O, O, O, O, O, O, O, O, O, O, O, O, ...</td>\n",
       "      <td>False</td>\n",
       "      <td>True</td>\n",
       "    </tr>\n",
       "    <tr>\n",
       "      <th>1</th>\n",
       "      <td>219</td>\n",
       "      <td>4777</td>\n",
       "      <td>Assignment: Reflection on Design Thinking, Sto...</td>\n",
       "      <td>[Assignment, :, Reflection, on, Design, Thinki...</td>\n",
       "      <td>[False, True, True, True, True, False, True, T...</td>\n",
       "      <td>[O, O, O, O, O, O, O, O, O, O, O, O, O, O, O, ...</td>\n",
       "      <td>False</td>\n",
       "      <td>True</td>\n",
       "    </tr>\n",
       "    <tr>\n",
       "      <th>2</th>\n",
       "      <td>350</td>\n",
       "      <td>6243</td>\n",
       "      <td>Name: Jana Telfah  Email: nbarker@hotmail.com ...</td>\n",
       "      <td>[Name, :, Jana, Telfah,  , Email, :, nbarker@h...</td>\n",
       "      <td>[False, True, True, True, False, False, True, ...</td>\n",
       "      <td>[O, O, B-NAME_STUDENT, I-NAME_STUDENT, O, O, O...</td>\n",
       "      <td>False</td>\n",
       "      <td>True</td>\n",
       "    </tr>\n",
       "    <tr>\n",
       "      <th>3</th>\n",
       "      <td>1103</td>\n",
       "      <td>9854</td>\n",
       "      <td>Waseem Mabunda  591 Smith Centers Apt. 656\\nJo...</td>\n",
       "      <td>[Waseem, Mabunda,  , 591, Smith, Centers, Apt,...</td>\n",
       "      <td>[True, True, False, True, True, True, False, T...</td>\n",
       "      <td>[B-NAME_STUDENT, I-NAME_STUDENT, O, B-STREET_A...</td>\n",
       "      <td>False</td>\n",
       "      <td>True</td>\n",
       "    </tr>\n",
       "  </tbody>\n",
       "</table>\n",
       "</div>"
      ],
      "text/plain": [
       "   index  document                                          full_text  \\\n",
       "0    185      4381  WRITING CENTRE  Level 3 East, Hub Central  Nor...   \n",
       "1    219      4777  Assignment: Reflection on Design Thinking, Sto...   \n",
       "2    350      6243  Name: Jana Telfah  Email: nbarker@hotmail.com ...   \n",
       "3   1103      9854  Waseem Mabunda  591 Smith Centers Apt. 656\\nJo...   \n",
       "\n",
       "                                              tokens  \\\n",
       "0  [WRITING, CENTRE,  , Level, 3, East, ,, Hub, C...   \n",
       "1  [Assignment, :, Reflection, on, Design, Thinki...   \n",
       "2  [Name, :, Jana, Telfah,  , Email, :, nbarker@h...   \n",
       "3  [Waseem, Mabunda,  , 591, Smith, Centers, Apt,...   \n",
       "\n",
       "                                 trailing_whitespace  \\\n",
       "0  [True, True, False, True, True, False, True, T...   \n",
       "1  [False, True, True, True, True, False, True, T...   \n",
       "2  [False, True, True, True, False, False, True, ...   \n",
       "3  [True, True, False, True, True, True, False, T...   \n",
       "\n",
       "                                              labels  is_only_o  has_phone  \n",
       "0  [O, O, O, O, O, O, O, O, O, O, O, O, O, O, O, ...      False       True  \n",
       "1  [O, O, O, O, O, O, O, O, O, O, O, O, O, O, O, ...      False       True  \n",
       "2  [O, O, B-NAME_STUDENT, I-NAME_STUDENT, O, O, O...      False       True  \n",
       "3  [B-NAME_STUDENT, I-NAME_STUDENT, O, B-STREET_A...      False       True  "
      ]
     },
     "execution_count": 10,
     "metadata": {},
     "output_type": "execute_result"
    }
   ],
   "source": [
    "data_df['has_phone'] = data_df['labels'].apply(lambda row: 'B-PHONE_NUM' in row)\n",
    "data_num = data_df[data_df['has_phone'] == True]\n",
    "data_num = data_num.reset_index()\n",
    "data_num"
   ]
  },
  {
   "cell_type": "code",
   "execution_count": 11,
   "metadata": {},
   "outputs": [
    {
     "name": "stdout",
     "output_type": "stream",
     "text": [
      "Name: Jana Telfah  Email: nbarker@hotmail.com  Mobile: (820)913-3241x894\n",
      "\n",
      "Design Thinking For Innovation\n",
      "\n",
      "Challenge & Selection  Jordan’s economic growth and stability is strengthened by thriving entrepreneurial ecosystem focused  on tech innovation and tech-based startups (TBS). While past efforts have improved ecosystem  dynamics and innovation input; nonetheless, innovation outputs and socioeconomic impact remains  marginal for many reasons, among which are inefficiencies, replication, lack of creativity, and low- quality pipeline.\n",
      "\n",
      "Mid last year, UVA (University of Bedfordshire) in Jordan decided to contribute to this conversation  and to the Jordanian tech ecosystem by establishing, a tech accelerator called (The Belvedere Vodka). I was  chosen as the Program Manager for this project, and my current challenge was to develop new models  that would steer the university and other educational institutions towards more responsible and value- focused models of entrepreneurial support.\n",
      "\n",
      "We started with Mind Mapping to obtain insightful inputs at that phase after collecting large data by  meeting, interviewing experts in the ecosystem individually, and taking them around for a tour in the  facility. This allowed us to look into different patterns and insights during our exploration for founding  The Belvedere Vodka accelerator.\n",
      "\n",
      "Additionally, Journey Mapping was also implemented by interviewing tech-startups, which allowed us to  put ourselves in their shoes, and experience the whole entrepreneurial journey, lack of support and  need other models are not covering.\n",
      "\n",
      "Application & Insight  We have bought our own large white board to layout all the data and the notes picked out from our  meetings. We started clustering and linking all the good notes on the board, which led us into getting  major insights and finding out the main reason why the overall economic impact of other models  remains marginal, and Jordan’s share of investments and successful exits remain low in comparison to  inputs and the region. We believed this partly was due to:\n",
      "\n",
      "1. Inefficiencies in managing innovation input, high duplication, and low coordination among\n",
      "\n",
      "ecosystem stakeholders.\n",
      "\n",
      "2. Ineffectiveness of tool based capacity-building programs.  3. Lack of focus on quality and requisite know-how of developing investment-ready tech-based\n",
      "\n",
      "startups.\n",
      "\n",
      "Name: Jana Telfah  Email: nbarker@hotmail.com  Mobile: (820)913-3241x894\n",
      "\n",
      "Here is a glimpse of our white board mapping:\n",
      "\n",
      "Name: Jana Telfah  Email: nbarker@hotmail.com  Mobile: (820)913-3241x894\n",
      "\n",
      "Therefore, we proposed a rethinking of current acceleration models to the University board members,  by developing vertically focused, innovation-driven, hybrid models that are dynamic, relevant and  effective in delivering high quality investable and scalable tech-based startups. This would in turn  support job creation, adoption of 21st century skills and know-how, increase mobilization of risk capital,  and improve Jordan’s ranking in innovation & entrepreneurship.\n",
      "\n",
      "Approach  As previously mentioned, Mind and Journey Mapping were two successful design tools to be obtained  by our team to access the “What is” phase for other models and the status of the startups in Jordan.  Both tools helped us in getting insightful inputs and establishing solid criteria for the “What If” phase,  which we are currently working on.\n",
      "\n",
      "Therefore, the rational for future action for the model design stems from the below outcome three  needs:\n",
      "\n",
      "1. Need to improve the quality and quantity of investment -ready companies within the Jordanian\n",
      "\n",
      "tech innovation and ICT sectors.\n",
      "\n",
      "2. Need for novel and effective mechanisms, strategies and programs of incubation & acceleration\n",
      "\n",
      "that significantly enhance investment-readiness and success of TBS.\n",
      "\n",
      "3. Need to seed and nurture the necessary mindset, skillset, and culture of innovation driven\n",
      "\n",
      "entrepreneurship among Jordanian youth.\n",
      "\n",
      "\n"
     ]
    }
   ],
   "source": [
    "print(data_num.loc[2, ('full_text')])"
   ]
  },
  {
   "cell_type": "code",
   "execution_count": 13,
   "metadata": {},
   "outputs": [
    {
     "name": "stdout",
     "output_type": "stream",
     "text": [
      "Longest text - length: 3298\n",
      "Shortest text: 69\n",
      "Average text length (words): 733.44\n"
     ]
    }
   ],
   "source": [
    "data_df['length'] = data_df['tokens'].apply(len)\n",
    "avg_text_length = data_df['length'].mean()\n",
    "longest_text_length = data_df['length'].max()\n",
    "longest_text = data_df['full_text'][data_df['length'].idxmax()]\n",
    "shortest_text_length = data_df['length'].min()\n",
    "shortest_text = data_df['full_text'][data_df['length'].idxmin()]\n",
    "print(f\"Longest text - length: {longest_text_length}\")\n",
    "print(f\"Shortest text: {shortest_text_length}\")\n",
    "print(f\"Average text length (words): {avg_text_length:.2f}\")"
   ]
  },
  {
   "cell_type": "code",
   "execution_count": 14,
   "metadata": {},
   "outputs": [
    {
     "name": "stdout",
     "output_type": "stream",
     "text": [
      "longest text: \n",
      "Re-Engaging  Students:  A  Learning  Launch  Experiment\n",
      "\n",
      "Salman Fong,  June  27  2020\n",
      "\n",
      "1. Challenge\n",
      "\n",
      "At   an   EdTech   company   that   I   worked   at,   we   were   undergoing   a   massive   digital   transformation   program.   Our   team   was   tasked   with   finding   innovative   solutions   that   we   can   bring   to   the   market   quickly   to   broaden   our   offering   by   utilizing   our   existing   content.   The   company   was   a   traditional   publishing   house   catering   textbooks   to   a   large   number   of   schools   &   universities.   It   was   not   easy   to   change   the   existing   business   processes.   The   backend   content   creation,   organization   and   data-management   was   a   time-consuming   process.   But   it  provided   the   high   quality   content   that   the   market   had   come   to   expect   of   the   company.   We   cannot   compromise   on   the   quality   for   sure,   but   we   need   to   streamline   the   process   to   be   a   bit   more   nimble   and   fast.   The   turnaround   time   for   material   revision   was   in   the   order   of   months   if  not   years,   which   meant   that   we   cannot   deliver   up-to-date   content   to   the   students   in   a   timely   manner.   Another   more   important   challenge   that   was   facing   the   academic   institutions   was   the   high   number   of   dropout   rates.   Students   just   stopped   attending   schools.   Reasons   varied   -   lack   of   interest/motivation,   socio-economic   factors   etc.   And   that’s  the   challenge   that   we   were   willing   to   take   on   initially.   How   can   we   keep   the   students   engaged   and   motivated   so   they   don’t   drop   out   -   since   this   has   a   huge   impact   on   their   future   career   and   on   the   community   as   a   whole.            Even   though   this   concern   had   been   in   the   minds   of   the   business   executives   for   a   while   and   there   were   various   ideation   exercises   taken   up,   none   of   them   were   put   to   practice,   as   they   were   stuck   in   the   processes.   The   legacy   teams   were   not   adopting   the   approaches   from  the   Design   Thinking   framework.   When   I   joined   the   company   it  was   in   the   mid-2010s.   My   small   team   was   excited   about   applying   newer   methodologies   to   these   burning   issues.   We   noticed   the   increasing   significance   mobile   phones   were   playing   in   our   lives   in   general,   and   students’   lives   in   particular.   Our   team   started   observing   the   effect   of   smartphones   on   students,   and   how   the   smartphones   had   become   so   ubiquitous   and   so   personal.   Majority   of   the   students   relied   on   these   devices   as   primary   source   of   information/entertainment/distractions!   So   we   decided   to   develop   a   prototype   mobile   app   that   can   deliver   key   information   to   them   at   the   right   times   so   they   can   stay   on   top   of   their   course   assignments.   This   was   to   be   our   ‘learning   launch’   experiment!   We   had   come   up   with   a   few   hypotheses   to   test:   (1)   Friendly   reminders,   delivered   via   smartphones,   to   students   regarding   their   upcoming   assignments   is   going   to   help   them   stay   on   track,    (2)   We   could   gain   more   insight   into   the   users’   app   engagement   which   can   further   drive   feature   developments,   (3)   We   could   make   future   content   delivery   ‘mobile-first’   for   an   optimal   UX   and   improved   engagement.\n",
      "\n",
      "2. Selection\n",
      "\n",
      "Based   on   the   challenges   our   team   faced,   and   the   overall   course   of   our   business\n",
      "\n",
      "transformation,   we   decided   to   use   the   ‘learning   launch’   design   thinking   tool   for   our   purposes.   As   stated    here ,   learning   launch   is   a   quick   and   inexpensive   experiment   to   validate   a   growth   idea   before   committing   additional   resources   to   build   out   a   full   product.   We   chose   this   tool   because   of   it’s   real-world   driven   feedback   that   can   help   us   iteratively   improve   upon   the   initial   ideas.   It   can   also   help   us   park   our   disproven   hypotheses   for   the   time   being   and   ensure   we   focus   on   the   really   valuable   ones   that   meet   the   current   market   conditions.        Following   Michael Just’s   instructions    as   stated   in   Module   4/Week   4   of   the   Design   Thinking   for   Innovation   course,   we   focussed   on   testing   out   the   various   hypotheses   to   get   to   the   different   ‘trues’.   We   had   to   pick   the   best   idea(s)   to   work   on   to   have   a   positive   business   impact.   We   wanted   to   avoid   a   lot   of   guesswork   and   incorrect   projections   just   so   we   can   come   up   with   a   business   plan.   We   wanted   to   learn   quickly   from  our   ideas.   We   wanted   to   identify   the   ones   that   showcase   the   ‘burning   need’   of   our   customers.   We   wanted   to   know   the   real-world   truths   about   the   various   ideas   we   were   exploring.   These   reasons   helped   us   zero   in   on   the   learning   launch   tool   as   the   preferred   one   for   this   experiment.\n",
      "\n",
      "3. Application\n",
      "\n",
      "In  order  to  apply  this  model,  we  committed  to  building  a  prototype  app  first.  It  was  to  be\n",
      "\n",
      "responsive  with  less  barrier  for  adoption  by  students.  With  minimal  resources  -  small  team,   shortened  time  period,  AND  not  much  of  a  budget  -  we  went  about  building  a  responsive  mobile   app  that  was  bare  minimal  in  functionality.  From  a  broad  set  of  features  we  had  originally   planned  for  a  full  fledged  mobile  app,  we  pared  down  to  the  basics.  We  ended  up  deciding  to   support  just  three  key  features:  (1)  Login  for  enrolled  users  only,  (2)  View  course  info,  along  with   assignment  dates  (3)  Opt-in  for  reminders  and  notifications.   This  helped  us  to  clearly  get  the   relevant  usage  data  to  prove/dis-prove  our  hypotheses  that  we  set  out  to  test.     Around  100  pre-approved  users  were  given  access  to  the  app.  This  helped  us  keep  the  user   count  to  a  manageable  level.  We  were  able  to  integrate  certain  analytics  features  into  the  app   so  we  can  collect  meaningful  data  for  our  analyses.  That’s  where  our  learning  would  kick  in.  As   an  alternative  mode  of  data  collection,  we  were  able  to  bring  in  a  few  student  volunteers  to   observe  first  hand  how  they  used  our  app,  with  candid  feedback.      With  both  the  modes  we  were  able  to  monitor  &  gather  a  few  weeks  worth  of  data,  which   revealed  to  us  the  various  usage  patterns,  shortcomings  and  the  missing  features.     We  really  wanted  to  test  our  assumptions  about  the  friendly  reminders  helping  them,  and   whether  the  students  prefer  nuggets  of  content  optimized  for  mobile  model  of  interaction  -  brief   short  duration  vs  long  duration  assignments.\n",
      "\n",
      "4. Insight\n",
      "\n",
      "Throughout  this  rollout  our  team  was  committed  to  providing  the  best  possible  experience   and  to  gather  the  maximum  quality  data  for  future  analysis.  Applying  learning  launch  helped  us   bring  a  certain  rigor  and  discipline  into  prototype  building  &  data  collection  processes.  It   certainly  helped  me  see  the  value  of  design  thinking  as  a  key  framework  in  the  business   context.        As  we  started  interpreting  the  collected  data,  we  observed  key  patterns  that  validated  our   hypotheses!  Users  certainly  liked  the  reminders  -  almost  all  of  them  opted-in  right  away  -  that   helped  them  complete  and  turn-in  their  assignments  on  time.  They  really  were  spending  more   time  in  the  reminders  screen  of  the  app  than  any  other.  Another  interesting  outcome  was  that   they  really  preferred  short  assignments  to  long  ones.  Given  the  nature  of  frequent  distractions   when  using  a  smartphone  it  was  no  surprise  that  short  bursts  of  key  engagements  provide  a   better  experience  for  the  students.  That  in  turn  keeps  them  motivated  to  learn  a  few  concepts  at   a  time.  This  turned  out  to  be  a  very  useful  insight  in  the  whole  experiment.  Till  this  point  our   content  creators  were  focussed  on  creating  a  huge  blob  of  linearly  delivered  course  material.   But  this  experiment  and  its  results  highlighted  the  changing  learning  landscape.  This  meant  that   our  business  has  to  quickly  adapt  to  the  market  conditions  and  produce  content  to  meet  those   conditions.  We  did  have  the  content,  we  just  need  to  ‘bite-size’  the  content  so  we  can  keep  the   students  coming  back  for  more  thereby  helping  them  achieve  their  learning  goals!     That   last   value   alone   proved(to   me,   atleast)   how   worthwhile   design   thinking   is!  In   a   traditional   world   people   would   have   hypothesized   this   model,   but   would   never   have   ventured   to   test   it  out   in   the   real   world   at   such   a   micro-scale.   To   me   this   was   an   eye-opener.   Since   this   experiment,   I’ve   been   keen   to   apply   the   various   tools   of   Design   Thinking   to   optimize   the   execution   time   of   an   idea   -   ideate,   prototype   &   validate,   iterate-repeat,   release.   Certainly   learning   launch   is   an   invaluable   tool   in   the   arsenal!\n",
      "\n",
      "5. Approach\n",
      "\n",
      "Before  we  started  down  this  path,  our  go-to  design  thinking  tool  was  the  mind  mapping  tool.  It   is  valuable  in  its  own  right  in  order  to  get  an  understanding  of  ‘What  is?’   But  for  our  challenge   here,  we  opted  for  the  learning  launch  tool  since  we  had  a  clear  objective  to  apply  it  to.  We  had   a  few  assumptions  to  test  out,  and  we  were  at  a  key  point  in  the  product  life  cycle  where  we  had   to  prove  if  the  new  highly-impactful  idea  would  work  in  the  real  world.      If  I  were  to  do  this  again,  I’d  definitely  pick  the  learning  launch  tool,  as  it  clearly  satisfied  our   needs.  It  provided  us  the  data  we  needed  to  convince  the  business  stakeholders  to  change   course  and  support  our  team  with  more  resources  for  real  product  build  out.  That  validation  was\n",
      "\n",
      "crucial.  It  also  helped  our  team  focus  on  the  right  set  of  data  to  use  for  analysis,  and  also   prodded  us  to  ask  the  right  questions  in  order  to  get  the  best  insights.  Plus,  everyone  in  the   team  enjoyed  the  discovery  &  the  learning  process.  It  kept  us  engaged  and  excited!     And,  at  the  end  of  this  experiment  we  set  out  to  build  the  Release  1  of  our  product,  improving   upon  the  prototype!  This  time  with  a  clear  roadmap  of  new  features  &  milestones  per  the  market   research.           Salman Fong   June  27,  2020\n",
      "\n",
      "\n"
     ]
    }
   ],
   "source": [
    "print(f\"longest text: \\n{longest_text}\")"
   ]
  },
  {
   "cell_type": "code",
   "execution_count": 15,
   "metadata": {},
   "outputs": [
    {
     "name": "stdout",
     "output_type": "stream",
     "text": [
      "shortest text: \n",
      "Think Twice and Make a Wise\n",
      "\n",
      "Concept Mapping:\n",
      "\n",
      "I  have choosen concept mapping to illustrate and easy understanding for BDS students\n",
      "\n",
      ". Here i have did the concept mapping based upon the branches of dentistry, so that they can  easily identify what are the clinicals and non-clinicals subjects they are going to face\n",
      "\n",
      "Branches of Dentistry\n",
      "\n",
      "Endodontics\n",
      "\n",
      "\n"
     ]
    }
   ],
   "source": [
    "print(f\"shortest text: \\n{shortest_text}\")"
   ]
  },
  {
   "cell_type": "markdown",
   "metadata": {},
   "source": [
    "Checking if our suspicion that PII appears either at the beginning or at the end is true"
   ]
  },
  {
   "cell_type": "code",
   "execution_count": 16,
   "metadata": {},
   "outputs": [
    {
     "data": {
      "text/plain": [
       "[(15, 'B-NAME_STUDENT'),\n",
       " (16, 'I-NAME_STUDENT'),\n",
       " (3288, 'B-NAME_STUDENT'),\n",
       " (3289, 'I-NAME_STUDENT')]"
      ]
     },
     "execution_count": 16,
     "metadata": {},
     "output_type": "execute_result"
    }
   ],
   "source": [
    "[(i,label) for i, label in enumerate(data_df['labels'][data_df['length'].idxmax()]) if label != 'O']"
   ]
  },
  {
   "cell_type": "markdown",
   "metadata": {},
   "source": [
    "As we can see above, the name of the student appears at the beginning and at the end. Now let's check how it is for the whole dataset"
   ]
  },
  {
   "cell_type": "code",
   "execution_count": 17,
   "metadata": {},
   "outputs": [
    {
     "data": {
      "text/plain": [
       "0    [9, 10, 482, 483, 741, 742]\n",
       "1               [0, 1, 464, 465]\n",
       "2                         [4, 5]\n",
       "3                         [5, 6]\n",
       "4                       [12, 13]\n",
       "Name: labeled_indexes, dtype: object"
      ]
     },
     "execution_count": 17,
     "metadata": {},
     "output_type": "execute_result"
    }
   ],
   "source": [
    "data_df['labeled_tokens'] = data_df.apply(lambda x: [x['tokens'][i] for i, label in enumerate(x['labels']) if label != 'O'], axis=1)\n",
    "data_df['labeled_indexes'] = data_df.apply(lambda x: [i for i, label in enumerate(x['labels']) if label != 'O'], axis=1)\n",
    "data_df['labeled_indexes'].head()"
   ]
  },
  {
   "cell_type": "code",
   "execution_count": 18,
   "metadata": {},
   "outputs": [
    {
     "name": "stdout",
     "output_type": "stream",
     "text": [
      "               labeled_indexes  \\\n",
      "0  [9, 10, 482, 483, 741, 742]   \n",
      "1             [0, 1, 464, 465]   \n",
      "2                       [4, 5]   \n",
      "3                       [5, 6]   \n",
      "4                     [12, 13]   \n",
      "\n",
      "                                  label_distribution  text_length  \n",
      "0  [True, False, False, False, False, True, False...          753  \n",
      "1  [True, False, False, False, False, False, True...          563  \n",
      "2  [True, False, False, False, False, False, Fals...          729  \n",
      "3  [True, False, False, False, False, False, Fals...         1071  \n",
      "4  [True, False, False, False, False, False, Fals...         1927  \n"
     ]
    }
   ],
   "source": [
    "#a column that describes in which part of the text the labeled tokens are \n",
    "def label_distribution(row, nb_parts = 4):\n",
    "    \"\"\" \n",
    "    input: \n",
    "        - row: row of a dataframe\n",
    "        - nb_parts: int\n",
    "    output:\n",
    "        - list of length nb_parts with, with a True if there is a label in that part and false otherwise\n",
    "    \"\"\"\n",
    "    indices = row['labeled_indexes']\n",
    "    text_length = len(row['tokens'])\n",
    "    indices = [id/text_length for id in indices]\n",
    "    # checking if the labeled indexes are in the first part, second part, etc\n",
    "    return [any((n)/nb_parts <= id <(n+1)/nb_parts for id in indices) for n in range(nb_parts)]\n",
    "\n",
    "nb_parts = 8\n",
    "data_df[\"label_distribution\"] = data_df.apply(lambda x: label_distribution(x, nb_parts),axis=1)\n",
    "data_df[\"text_length\"] = data_df.apply(lambda x: len(x['tokens']),axis=1)\n",
    "print(data_df[['labeled_indexes','label_distribution','text_length']].head())"
   ]
  },
  {
   "cell_type": "markdown",
   "metadata": {},
   "source": [
    "## Location of labels\n",
    "The graph below show how many of the PII labeled tokens appear in each quantile of the texts."
   ]
  },
  {
   "cell_type": "code",
   "execution_count": 19,
   "metadata": {},
   "outputs": [
    {
     "name": "stdout",
     "output_type": "stream",
     "text": [
      "[763  25  42  65  74  75  57 171]\n"
     ]
    },
    {
     "data": {
      "text/plain": [
       "<BarContainer object of 8 artists>"
      ]
     },
     "execution_count": 19,
     "metadata": {},
     "output_type": "execute_result"
    },
    {
     "data": {
      "image/png": "[encoded data removed]",
      "text/plain": [
       "<Figure size 640x480 with 1 Axes>"
      ]
     },
     "metadata": {},
     "output_type": "display_data"
    }
   ],
   "source": [
    "#plotting the distribution of the labels\n",
    "label_distribution = np.array(data_df['label_distribution'].tolist())\n",
    "label_distribution = label_distribution.sum(axis=0)\n",
    "print(label_distribution)\n",
    "plt.bar(range(1,nb_parts+1), label_distribution)"
   ]
  },
  {
   "cell_type": "markdown",
   "metadata": {},
   "source": [
    "As seen in the graph above, most of the PII is at the beginning of the document"
   ]
  },
  {
   "cell_type": "markdown",
   "metadata": {},
   "source": [
    "## Distribution of labels"
   ]
  },
  {
   "cell_type": "code",
   "execution_count": 20,
   "metadata": {},
   "outputs": [
    {
     "data": {
      "text/plain": [
       "{'B-EMAIL',\n",
       " 'B-ID_NUM',\n",
       " 'B-NAME_STUDENT',\n",
       " 'B-PHONE_NUM',\n",
       " 'B-STREET_ADDRESS',\n",
       " 'B-URL_PERSONAL',\n",
       " 'B-USERNAME',\n",
       " 'I-ID_NUM',\n",
       " 'I-NAME_STUDENT',\n",
       " 'I-PHONE_NUM',\n",
       " 'I-STREET_ADDRESS',\n",
       " 'I-URL_PERSONAL',\n",
       " 'O'}"
      ]
     },
     "execution_count": 20,
     "metadata": {},
     "output_type": "execute_result"
    }
   ],
   "source": [
    "all_labels = set([label for sublist in data_df['labels'] for label in sublist])\n",
    "all_labels"
   ]
  },
  {
   "cell_type": "code",
   "execution_count": 21,
   "metadata": {},
   "outputs": [
    {
     "data": {
      "text/plain": [
       "B-NAME_STUDENT      1365\n",
       "B-URL_PERSONAL       110\n",
       "B-ID_NUM              78\n",
       "B-EMAIL               39\n",
       "B-USERNAME             6\n",
       "B-PHONE_NUM            6\n",
       "B-STREET_ADDRESS       2\n",
       "Name: count, dtype: int64"
      ]
     },
     "execution_count": 21,
     "metadata": {},
     "output_type": "execute_result"
    }
   ],
   "source": [
    "label_counts = (data_df['labels'].apply(pd.Series).stack().value_counts())\n",
    "label_counts = label_counts[label_counts.index != 'O']\n",
    "label_counts = label_counts.sort_values(ascending=False)\n",
    "label_counts_no_i = label_counts.drop(labels=[label for label in label_counts.index if 'I-' in label])\n",
    "label_counts_no_i"
   ]
  },
  {
   "cell_type": "code",
   "execution_count": 22,
   "metadata": {},
   "outputs": [
    {
     "data": {
      "text/plain": [
       "['B-NAME_STUDENT',\n",
       " 'B-URL_PERSONAL',\n",
       " 'B-ID_NUM',\n",
       " 'B-EMAIL',\n",
       " 'B-USERNAME',\n",
       " 'B-PHONE_NUM',\n",
       " 'B-STREET_ADDRESS']"
      ]
     },
     "execution_count": 22,
     "metadata": {},
     "output_type": "execute_result"
    }
   ],
   "source": [
    "[label for label in label_counts.index if not 'I-' in label]"
   ]
  },
  {
   "cell_type": "markdown",
   "metadata": {},
   "source": [
    "### All labels"
   ]
  },
  {
   "cell_type": "code",
   "execution_count": 23,
   "metadata": {},
   "outputs": [
    {
     "data": {
      "text/plain": [
       "<BarContainer object of 12 artists>"
      ]
     },
     "execution_count": 23,
     "metadata": {},
     "output_type": "execute_result"
    },
    {
     "data": {
      "image/png": "[encoded data removed]",
      "text/plain": [
       "<Figure size 2200x1000 with 1 Axes>"
      ]
     },
     "metadata": {},
     "output_type": "display_data"
    }
   ],
   "source": [
    "plt.figure(figsize=(22,10))\n",
    "plt.bar(label_counts.index, label_counts)"
   ]
  },
  {
   "cell_type": "markdown",
   "metadata": {},
   "source": [
    "### Only the beginning of the labels"
   ]
  },
  {
   "cell_type": "code",
   "execution_count": 24,
   "metadata": {},
   "outputs": [
    {
     "data": {
      "text/plain": [
       "<BarContainer object of 7 artists>"
      ]
     },
     "execution_count": 24,
     "metadata": {},
     "output_type": "execute_result"
    },
    {
     "data": {
      "image/png": "[encoded data removed]",
      "text/plain": [
       "<Figure size 2400x1000 with 1 Axes>"
      ]
     },
     "metadata": {},
     "output_type": "display_data"
    }
   ],
   "source": [
    "plt.figure(figsize=(24,10))\n",
    "plt.bar(label_counts_no_i.index, label_counts_no_i)"
   ]
  },
  {
   "cell_type": "markdown",
   "metadata": {},
   "source": [
    "## Distribution of each label in the different part of the text"
   ]
  },
  {
   "cell_type": "code",
   "execution_count": 54,
   "metadata": {},
   "outputs": [],
   "source": [
    "group = []\n",
    "labels = []\n",
    "    \n",
    "group_thresholds = [0, 50, 100, 200, 500, 1000, 2000, 10000]\n",
    "    \n",
    "for sample_labels in data_df[\"labels\"]:\n",
    "    for i, label in enumerate(sample_labels):\n",
    "        if label != \"O\":\n",
    "            for j in range(1, len(group_thresholds)):\n",
    "                lower = group_thresholds[j-1]\n",
    "                upper = group_thresholds[j]\n",
    "                    \n",
    "                if lower <= i < upper:\n",
    "                    group.append(f\"{lower}-{upper}\")\n",
    "                    labels.append(label)\n",
    "                    break\n",
    "    \n",
    "pairs = list(zip(labels, group))\n",
    "    \n",
    "counts = Counter(pairs)\n",
    "\n",
    "data = {\n",
    "        \"label\": [],\n",
    "        \"count\": [],\n",
    "        \"range\": [],\n",
    "    }\n",
    "    \n",
    "for (label, range_), count in counts.items():\n",
    "    data[\"label\"].append(label)\n",
    "    data[\"range\"].append(range_)\n",
    "    data[\"count\"].append(count)\n",
    "    \n",
    "                \n",
    "df = pd.DataFrame(data)"
   ]
  },
  {
   "cell_type": "code",
   "execution_count": 55,
   "metadata": {},
   "outputs": [],
   "source": [
    "def plot_label_distribution(df, label, color='skyblue'):\n",
    "    df = df[df['label'] == label].sort_values(by='count', ascending=False).drop(columns=['label']).sort_values(by='count', ascending=False)\n",
    "    plt.bar(df['range'], df['count'], color=color)\n",
    "\n",
    "    plt.xlabel('range')\n",
    "    plt.ylabel('count')\n",
    "    plt.title(f'Distribution of {label}')\n",
    "    plt.xticks(rotation=45, ha='right')\n",
    "    plt.tight_layout()\n",
    "    plt.show()"
   ]
  },
  {
   "cell_type": "markdown",
   "metadata": {},
   "source": [
    "NAME_STUDENT"
   ]
  },
  {
   "cell_type": "code",
   "execution_count": 56,
   "metadata": {},
   "outputs": [
    {
     "data": {
      "image/png": "[encoded data removed]",
      "text/plain": [
       "<Figure size 640x480 with 1 Axes>"
      ]
     },
     "metadata": {},
     "output_type": "display_data"
    }
   ],
   "source": [
    "plot_label_distribution(df, label='B-NAME_STUDENT')"
   ]
  },
  {
   "cell_type": "markdown",
   "metadata": {},
   "source": [
    "URL_PERSONAL"
   ]
  },
  {
   "cell_type": "code",
   "execution_count": 57,
   "metadata": {},
   "outputs": [
    {
     "data": {
      "image/png": "[encoded data removed]",
      "text/plain": [
       "<Figure size 640x480 with 1 Axes>"
      ]
     },
     "metadata": {},
     "output_type": "display_data"
    }
   ],
   "source": [
    "plot_label_distribution(df, label='B-URL_PERSONAL', color='orange')"
   ]
  },
  {
   "cell_type": "markdown",
   "metadata": {},
   "source": [
    "EMAIL"
   ]
  },
  {
   "cell_type": "code",
   "execution_count": 58,
   "metadata": {},
   "outputs": [
    {
     "data": {
      "image/png": "[encoded data removed]",
      "text/plain": [
       "<Figure size 640x480 with 1 Axes>"
      ]
     },
     "metadata": {},
     "output_type": "display_data"
    }
   ],
   "source": [
    "plot_label_distribution(df, label='B-EMAIL', color='green')"
   ]
  },
  {
   "cell_type": "markdown",
   "metadata": {},
   "source": [
    "PHONE_NUM"
   ]
  },
  {
   "cell_type": "code",
   "execution_count": 59,
   "metadata": {},
   "outputs": [
    {
     "data": {
      "image/png": "[encoded data removed]",
      "text/plain": [
       "<Figure size 640x480 with 1 Axes>"
      ]
     },
     "metadata": {},
     "output_type": "display_data"
    }
   ],
   "source": [
    "plot_label_distribution(df, label='B-PHONE_NUM', color='yellow')"
   ]
  },
  {
   "cell_type": "markdown",
   "metadata": {},
   "source": [
    "STREET_ADDRESS"
   ]
  },
  {
   "cell_type": "code",
   "execution_count": 60,
   "metadata": {},
   "outputs": [
    {
     "data": {
      "image/png": "[encoded data removed]",
      "text/plain": [
       "<Figure size 640x480 with 1 Axes>"
      ]
     },
     "metadata": {},
     "output_type": "display_data"
    }
   ],
   "source": [
    "plot_label_distribution(df, label='B-STREET_ADDRESS', color='red')"
   ]
  },
  {
   "cell_type": "markdown",
   "metadata": {},
   "source": [
    "B-ID_NUM"
   ]
  },
  {
   "cell_type": "code",
   "execution_count": 61,
   "metadata": {},
   "outputs": [
    {
     "data": {
      "image/png": "[encoded data removed]",
      "text/plain": [
       "<Figure size 640x480 with 1 Axes>"
      ]
     },
     "metadata": {},
     "output_type": "display_data"
    }
   ],
   "source": [
    "plot_label_distribution(df, label='B-ID_NUM', color='pink')"
   ]
  },
  {
   "cell_type": "code",
   "execution_count": 62,
   "metadata": {},
   "outputs": [
    {
     "data": {
      "application/vnd.plotly.v1+json": {
       "config": {
        "plotlyServerURL": "https://plot.ly"
       },
       "data": [
        {
         "hovertemplate": "label=B-NAME_STUDENT<br>range=%{x}<br>count=%{y}<extra></extra>",
         "legendgroup": "B-NAME_STUDENT",
         "marker": {
          "color": "#636efa",
          "symbol": "circle"
         },
         "mode": "markers",
         "name": "B-NAME_STUDENT",
         "orientation": "v",
         "showlegend": true,
         "type": "scatter",
         "x": [
          "0-50",
          "200-500",
          "500-1000",
          "1000-2000",
          "50-100",
          "100-200",
          "2000-10000"
         ],
         "xaxis": "x",
         "y": [
          793,
          163,
          283,
          57,
          31,
          33,
          5
         ],
         "yaxis": "y"
        },
        {
         "hovertemplate": "label=I-NAME_STUDENT<br>range=%{x}<br>count=%{y}<extra></extra>",
         "legendgroup": "I-NAME_STUDENT",
         "marker": {
          "color": "#EF553B",
          "symbol": "circle"
         },
         "mode": "markers",
         "name": "I-NAME_STUDENT",
         "orientation": "v",
         "showlegend": true,
         "type": "scatter",
         "x": [
          "0-50",
          "200-500",
          "500-1000",
          "1000-2000",
          "50-100",
          "100-200",
          "2000-10000"
         ],
         "xaxis": "x",
         "y": [
          752,
          86,
          190,
          41,
          16,
          6,
          5
         ],
         "yaxis": "y"
        },
        {
         "hovertemplate": "label=B-URL_PERSONAL<br>range=%{x}<br>count=%{y}<extra></extra>",
         "legendgroup": "B-URL_PERSONAL",
         "marker": {
          "color": "#00cc96",
          "symbol": "circle"
         },
         "mode": "markers",
         "name": "B-URL_PERSONAL",
         "orientation": "v",
         "showlegend": true,
         "type": "scatter",
         "x": [
          "500-1000",
          "0-50",
          "200-500",
          "1000-2000",
          "50-100",
          "2000-10000",
          "100-200"
         ],
         "xaxis": "x",
         "y": [
          32,
          15,
          31,
          15,
          10,
          1,
          6
         ],
         "yaxis": "y"
        },
        {
         "hovertemplate": "label=B-EMAIL<br>range=%{x}<br>count=%{y}<extra></extra>",
         "legendgroup": "B-EMAIL",
         "marker": {
          "color": "#ab63fa",
          "symbol": "circle"
         },
         "mode": "markers",
         "name": "B-EMAIL",
         "orientation": "v",
         "showlegend": true,
         "type": "scatter",
         "x": [
          "0-50",
          "50-100",
          "500-1000",
          "200-500"
         ],
         "xaxis": "x",
         "y": [
          21,
          3,
          6,
          9
         ],
         "yaxis": "y"
        },
        {
         "hovertemplate": "label=B-ID_NUM<br>range=%{x}<br>count=%{y}<extra></extra>",
         "legendgroup": "B-ID_NUM",
         "marker": {
          "color": "#FFA15A",
          "symbol": "circle"
         },
         "mode": "markers",
         "name": "B-ID_NUM",
         "orientation": "v",
         "showlegend": true,
         "type": "scatter",
         "x": [
          "0-50",
          "50-100",
          "500-1000",
          "200-500",
          "100-200"
         ],
         "xaxis": "x",
         "y": [
          37,
          10,
          12,
          17,
          2
         ],
         "yaxis": "y"
        },
        {
         "hovertemplate": "label=I-URL_PERSONAL<br>range=%{x}<br>count=%{y}<extra></extra>",
         "legendgroup": "I-URL_PERSONAL",
         "marker": {
          "color": "#19d3f3",
          "symbol": "circle"
         },
         "mode": "markers",
         "name": "I-URL_PERSONAL",
         "orientation": "v",
         "showlegend": true,
         "type": "scatter",
         "x": [
          "0-50"
         ],
         "xaxis": "x",
         "y": [
          1
         ],
         "yaxis": "y"
        },
        {
         "hovertemplate": "label=B-USERNAME<br>range=%{x}<br>count=%{y}<extra></extra>",
         "legendgroup": "B-USERNAME",
         "marker": {
          "color": "#FF6692",
          "symbol": "circle"
         },
         "mode": "markers",
         "name": "B-USERNAME",
         "orientation": "v",
         "showlegend": true,
         "type": "scatter",
         "x": [
          "50-100",
          "0-50",
          "500-1000"
         ],
         "xaxis": "x",
         "y": [
          1,
          3,
          2
         ],
         "yaxis": "y"
        },
        {
         "hovertemplate": "label=B-PHONE_NUM<br>range=%{x}<br>count=%{y}<extra></extra>",
         "legendgroup": "B-PHONE_NUM",
         "marker": {
          "color": "#B6E880",
          "symbol": "circle"
         },
         "mode": "markers",
         "name": "B-PHONE_NUM",
         "orientation": "v",
         "showlegend": true,
         "type": "scatter",
         "x": [
          "0-50",
          "200-500"
         ],
         "xaxis": "x",
         "y": [
          3,
          3
         ],
         "yaxis": "y"
        },
        {
         "hovertemplate": "label=I-PHONE_NUM<br>range=%{x}<br>count=%{y}<extra></extra>",
         "legendgroup": "I-PHONE_NUM",
         "marker": {
          "color": "#FF97FF",
          "symbol": "circle"
         },
         "mode": "markers",
         "name": "I-PHONE_NUM",
         "orientation": "v",
         "showlegend": true,
         "type": "scatter",
         "x": [
          "0-50",
          "200-500"
         ],
         "xaxis": "x",
         "y": [
          6,
          9
         ],
         "yaxis": "y"
        },
        {
         "hovertemplate": "label=B-STREET_ADDRESS<br>range=%{x}<br>count=%{y}<extra></extra>",
         "legendgroup": "B-STREET_ADDRESS",
         "marker": {
          "color": "#FECB52",
          "symbol": "circle"
         },
         "mode": "markers",
         "name": "B-STREET_ADDRESS",
         "orientation": "v",
         "showlegend": true,
         "type": "scatter",
         "x": [
          "0-50",
          "100-200"
         ],
         "xaxis": "x",
         "y": [
          1,
          1
         ],
         "yaxis": "y"
        },
        {
         "hovertemplate": "label=I-STREET_ADDRESS<br>range=%{x}<br>count=%{y}<extra></extra>",
         "legendgroup": "I-STREET_ADDRESS",
         "marker": {
          "color": "#636efa",
          "symbol": "circle"
         },
         "mode": "markers",
         "name": "I-STREET_ADDRESS",
         "orientation": "v",
         "showlegend": true,
         "type": "scatter",
         "x": [
          "0-50",
          "100-200"
         ],
         "xaxis": "x",
         "y": [
          10,
          10
         ],
         "yaxis": "y"
        },
        {
         "hovertemplate": "label=I-ID_NUM<br>range=%{x}<br>count=%{y}<extra></extra>",
         "legendgroup": "I-ID_NUM",
         "marker": {
          "color": "#EF553B",
          "symbol": "circle"
         },
         "mode": "markers",
         "name": "I-ID_NUM",
         "orientation": "v",
         "showlegend": true,
         "type": "scatter",
         "x": [
          "50-100"
         ],
         "xaxis": "x",
         "y": [
          1
         ],
         "yaxis": "y"
        }
       ],
       "layout": {
        "height": 1000,
        "legend": {
         "title": {
          "text": "label"
         },
         "tracegroupgap": 0
        },
        "margin": {
         "t": 60
        },
        "template": {
         "data": {
          "bar": [
           {
            "error_x": {
             "color": "#2a3f5f"
            },
            "error_y": {
             "color": "#2a3f5f"
            },
            "marker": {
             "line": {
              "color": "#E5ECF6",
              "width": 0.5
             },
             "pattern": {
              "fillmode": "overlay",
              "size": 10,
              "solidity": 0.2
             }
            },
            "type": "bar"
           }
          ],
          "barpolar": [
           {
            "marker": {
             "line": {
              "color": "#E5ECF6",
              "width": 0.5
             },
             "pattern": {
              "fillmode": "overlay",
              "size": 10,
              "solidity": 0.2
             }
            },
            "type": "barpolar"
           }
          ],
          "carpet": [
           {
            "aaxis": {
             "endlinecolor": "#2a3f5f",
             "gridcolor": "white",
             "linecolor": "white",
             "minorgridcolor": "white",
             "startlinecolor": "#2a3f5f"
            },
            "baxis": {
             "endlinecolor": "#2a3f5f",
             "gridcolor": "white",
             "linecolor": "white",
             "minorgridcolor": "white",
             "startlinecolor": "#2a3f5f"
            },
            "type": "carpet"
           }
          ],
          "choropleth": [
           {
            "colorbar": {
             "outlinewidth": 0,
             "ticks": ""
            },
            "type": "choropleth"
           }
          ],
          "contour": [
           {
            "colorbar": {
             "outlinewidth": 0,
             "ticks": ""
            },
            "colorscale": [
             [
              0,
              "#0d0887"
             ],
             [
              0.1111111111111111,
              "#46039f"
             ],
             [
              0.2222222222222222,
              "#7201a8"
             ],
             [
              0.3333333333333333,
              "#9c179e"
             ],
             [
              0.4444444444444444,
              "#bd3786"
             ],
             [
              0.5555555555555556,
              "#d8576b"
             ],
             [
              0.6666666666666666,
              "#ed7953"
             ],
             [
              0.7777777777777778,
              "#fb9f3a"
             ],
             [
              0.8888888888888888,
              "#fdca26"
             ],
             [
              1,
              "#f0f921"
             ]
            ],
            "type": "contour"
           }
          ],
          "contourcarpet": [
           {
            "colorbar": {
             "outlinewidth": 0,
             "ticks": ""
            },
            "type": "contourcarpet"
           }
          ],
          "heatmap": [
           {
            "colorbar": {
             "outlinewidth": 0,
             "ticks": ""
            },
            "colorscale": [
             [
              0,
              "#0d0887"
             ],
             [
              0.1111111111111111,
              "#46039f"
             ],
             [
              0.2222222222222222,
              "#7201a8"
             ],
             [
              0.3333333333333333,
              "#9c179e"
             ],
             [
              0.4444444444444444,
              "#bd3786"
             ],
             [
              0.5555555555555556,
              "#d8576b"
             ],
             [
              0.6666666666666666,
              "#ed7953"
             ],
             [
              0.7777777777777778,
              "#fb9f3a"
             ],
             [
              0.8888888888888888,
              "#fdca26"
             ],
             [
              1,
              "#f0f921"
             ]
            ],
            "type": "heatmap"
           }
          ],
          "heatmapgl": [
           {
            "colorbar": {
             "outlinewidth": 0,
             "ticks": ""
            },
            "colorscale": [
             [
              0,
              "#0d0887"
             ],
             [
              0.1111111111111111,
              "#46039f"
             ],
             [
              0.2222222222222222,
              "#7201a8"
             ],
             [
              0.3333333333333333,
              "#9c179e"
             ],
             [
              0.4444444444444444,
              "#bd3786"
             ],
             [
              0.5555555555555556,
              "#d8576b"
             ],
             [
              0.6666666666666666,
              "#ed7953"
             ],
             [
              0.7777777777777778,
              "#fb9f3a"
             ],
             [
              0.8888888888888888,
              "#fdca26"
             ],
             [
              1,
              "#f0f921"
             ]
            ],
            "type": "heatmapgl"
           }
          ],
          "histogram": [
           {
            "marker": {
             "pattern": {
              "fillmode": "overlay",
              "size": 10,
              "solidity": 0.2
             }
            },
            "type": "histogram"
           }
          ],
          "histogram2d": [
           {
            "colorbar": {
             "outlinewidth": 0,
             "ticks": ""
            },
            "colorscale": [
             [
              0,
              "#0d0887"
             ],
             [
              0.1111111111111111,
              "#46039f"
             ],
             [
              0.2222222222222222,
              "#7201a8"
             ],
             [
              0.3333333333333333,
              "#9c179e"
             ],
             [
              0.4444444444444444,
              "#bd3786"
             ],
             [
              0.5555555555555556,
              "#d8576b"
             ],
             [
              0.6666666666666666,
              "#ed7953"
             ],
             [
              0.7777777777777778,
              "#fb9f3a"
             ],
             [
              0.8888888888888888,
              "#fdca26"
             ],
             [
              1,
              "#f0f921"
             ]
            ],
            "type": "histogram2d"
           }
          ],
          "histogram2dcontour": [
           {
            "colorbar": {
             "outlinewidth": 0,
             "ticks": ""
            },
            "colorscale": [
             [
              0,
              "#0d0887"
             ],
             [
              0.1111111111111111,
              "#46039f"
             ],
             [
              0.2222222222222222,
              "#7201a8"
             ],
             [
              0.3333333333333333,
              "#9c179e"
             ],
             [
              0.4444444444444444,
              "#bd3786"
             ],
             [
              0.5555555555555556,
              "#d8576b"
             ],
             [
              0.6666666666666666,
              "#ed7953"
             ],
             [
              0.7777777777777778,
              "#fb9f3a"
             ],
             [
              0.8888888888888888,
              "#fdca26"
             ],
             [
              1,
              "#f0f921"
             ]
            ],
            "type": "histogram2dcontour"
           }
          ],
          "mesh3d": [
           {
            "colorbar": {
             "outlinewidth": 0,
             "ticks": ""
            },
            "type": "mesh3d"
           }
          ],
          "parcoords": [
           {
            "line": {
             "colorbar": {
              "outlinewidth": 0,
              "ticks": ""
             }
            },
            "type": "parcoords"
           }
          ],
          "pie": [
           {
            "automargin": true,
            "type": "pie"
           }
          ],
          "scatter": [
           {
            "fillpattern": {
             "fillmode": "overlay",
             "size": 10,
             "solidity": 0.2
            },
            "type": "scatter"
           }
          ],
          "scatter3d": [
           {
            "line": {
             "colorbar": {
              "outlinewidth": 0,
              "ticks": ""
             }
            },
            "marker": {
             "colorbar": {
              "outlinewidth": 0,
              "ticks": ""
             }
            },
            "type": "scatter3d"
           }
          ],
          "scattercarpet": [
           {
            "marker": {
             "colorbar": {
              "outlinewidth": 0,
              "ticks": ""
             }
            },
            "type": "scattercarpet"
           }
          ],
          "scattergeo": [
           {
            "marker": {
             "colorbar": {
              "outlinewidth": 0,
              "ticks": ""
             }
            },
            "type": "scattergeo"
           }
          ],
          "scattergl": [
           {
            "marker": {
             "colorbar": {
              "outlinewidth": 0,
              "ticks": ""
             }
            },
            "type": "scattergl"
           }
          ],
          "scattermapbox": [
           {
            "marker": {
             "colorbar": {
              "outlinewidth": 0,
              "ticks": ""
             }
            },
            "type": "scattermapbox"
           }
          ],
          "scatterpolar": [
           {
            "marker": {
             "colorbar": {
              "outlinewidth": 0,
              "ticks": ""
             }
            },
            "type": "scatterpolar"
           }
          ],
          "scatterpolargl": [
           {
            "marker": {
             "colorbar": {
              "outlinewidth": 0,
              "ticks": ""
             }
            },
            "type": "scatterpolargl"
           }
          ],
          "scatterternary": [
           {
            "marker": {
             "colorbar": {
              "outlinewidth": 0,
              "ticks": ""
             }
            },
            "type": "scatterternary"
           }
          ],
          "surface": [
           {
            "colorbar": {
             "outlinewidth": 0,
             "ticks": ""
            },
            "colorscale": [
             [
              0,
              "#0d0887"
             ],
             [
              0.1111111111111111,
              "#46039f"
             ],
             [
              0.2222222222222222,
              "#7201a8"
             ],
             [
              0.3333333333333333,
              "#9c179e"
             ],
             [
              0.4444444444444444,
              "#bd3786"
             ],
             [
              0.5555555555555556,
              "#d8576b"
             ],
             [
              0.6666666666666666,
              "#ed7953"
             ],
             [
              0.7777777777777778,
              "#fb9f3a"
             ],
             [
              0.8888888888888888,
              "#fdca26"
             ],
             [
              1,
              "#f0f921"
             ]
            ],
            "type": "surface"
           }
          ],
          "table": [
           {
            "cells": {
             "fill": {
              "color": "#EBF0F8"
             },
             "line": {
              "color": "white"
             }
            },
            "header": {
             "fill": {
              "color": "#C8D4E3"
             },
             "line": {
              "color": "white"
             }
            },
            "type": "table"
           }
          ]
         },
         "layout": {
          "annotationdefaults": {
           "arrowcolor": "#2a3f5f",
           "arrowhead": 0,
           "arrowwidth": 1
          },
          "autotypenumbers": "strict",
          "coloraxis": {
           "colorbar": {
            "outlinewidth": 0,
            "ticks": ""
           }
          },
          "colorscale": {
           "diverging": [
            [
             0,
             "#8e0152"
            ],
            [
             0.1,
             "#c51b7d"
            ],
            [
             0.2,
             "#de77ae"
            ],
            [
             0.3,
             "#f1b6da"
            ],
            [
             0.4,
             "#fde0ef"
            ],
            [
             0.5,
             "#f7f7f7"
            ],
            [
             0.6,
             "#e6f5d0"
            ],
            [
             0.7,
             "#b8e186"
            ],
            [
             0.8,
             "#7fbc41"
            ],
            [
             0.9,
             "#4d9221"
            ],
            [
             1,
             "#276419"
            ]
           ],
           "sequential": [
            [
             0,
             "#0d0887"
            ],
            [
             0.1111111111111111,
             "#46039f"
            ],
            [
             0.2222222222222222,
             "#7201a8"
            ],
            [
             0.3333333333333333,
             "#9c179e"
            ],
            [
             0.4444444444444444,
             "#bd3786"
            ],
            [
             0.5555555555555556,
             "#d8576b"
            ],
            [
             0.6666666666666666,
             "#ed7953"
            ],
            [
             0.7777777777777778,
             "#fb9f3a"
            ],
            [
             0.8888888888888888,
             "#fdca26"
            ],
            [
             1,
             "#f0f921"
            ]
           ],
           "sequentialminus": [
            [
             0,
             "#0d0887"
            ],
            [
             0.1111111111111111,
             "#46039f"
            ],
            [
             0.2222222222222222,
             "#7201a8"
            ],
            [
             0.3333333333333333,
             "#9c179e"
            ],
            [
             0.4444444444444444,
             "#bd3786"
            ],
            [
             0.5555555555555556,
             "#d8576b"
            ],
            [
             0.6666666666666666,
             "#ed7953"
            ],
            [
             0.7777777777777778,
             "#fb9f3a"
            ],
            [
             0.8888888888888888,
             "#fdca26"
            ],
            [
             1,
             "#f0f921"
            ]
           ]
          },
          "colorway": [
           "#636efa",
           "#EF553B",
           "#00cc96",
           "#ab63fa",
           "#FFA15A",
           "#19d3f3",
           "#FF6692",
           "#B6E880",
           "#FF97FF",
           "#FECB52"
          ],
          "font": {
           "color": "#2a3f5f"
          },
          "geo": {
           "bgcolor": "white",
           "lakecolor": "white",
           "landcolor": "#E5ECF6",
           "showlakes": true,
           "showland": true,
           "subunitcolor": "white"
          },
          "hoverlabel": {
           "align": "left"
          },
          "hovermode": "closest",
          "mapbox": {
           "style": "light"
          },
          "paper_bgcolor": "white",
          "plot_bgcolor": "#E5ECF6",
          "polar": {
           "angularaxis": {
            "gridcolor": "white",
            "linecolor": "white",
            "ticks": ""
           },
           "bgcolor": "#E5ECF6",
           "radialaxis": {
            "gridcolor": "white",
            "linecolor": "white",
            "ticks": ""
           }
          },
          "scene": {
           "xaxis": {
            "backgroundcolor": "#E5ECF6",
            "gridcolor": "white",
            "gridwidth": 2,
            "linecolor": "white",
            "showbackground": true,
            "ticks": "",
            "zerolinecolor": "white"
           },
           "yaxis": {
            "backgroundcolor": "#E5ECF6",
            "gridcolor": "white",
            "gridwidth": 2,
            "linecolor": "white",
            "showbackground": true,
            "ticks": "",
            "zerolinecolor": "white"
           },
           "zaxis": {
            "backgroundcolor": "#E5ECF6",
            "gridcolor": "white",
            "gridwidth": 2,
            "linecolor": "white",
            "showbackground": true,
            "ticks": "",
            "zerolinecolor": "white"
           }
          },
          "shapedefaults": {
           "line": {
            "color": "#2a3f5f"
           }
          },
          "ternary": {
           "aaxis": {
            "gridcolor": "white",
            "linecolor": "white",
            "ticks": ""
           },
           "baxis": {
            "gridcolor": "white",
            "linecolor": "white",
            "ticks": ""
           },
           "bgcolor": "#E5ECF6",
           "caxis": {
            "gridcolor": "white",
            "linecolor": "white",
            "ticks": ""
           }
          },
          "title": {
           "x": 0.05
          },
          "xaxis": {
           "automargin": true,
           "gridcolor": "white",
           "linecolor": "white",
           "ticks": "",
           "title": {
            "standoff": 15
           },
           "zerolinecolor": "white",
           "zerolinewidth": 2
          },
          "yaxis": {
           "automargin": true,
           "gridcolor": "white",
           "linecolor": "white",
           "ticks": "",
           "title": {
            "standoff": 15
           },
           "zerolinecolor": "white",
           "zerolinewidth": 2
          }
         }
        },
        "xaxis": {
         "anchor": "y",
         "domain": [
          0,
          1
         ],
         "title": {
          "text": "range"
         }
        },
        "yaxis": {
         "anchor": "x",
         "domain": [
          0,
          1
         ],
         "title": {
          "text": "count"
         },
         "type": "log"
        }
       }
      }
     },
     "metadata": {},
     "output_type": "display_data"
    }
   ],
   "source": [
    "px.scatter(df, x=\"range\", y=\"count\", color=\"label\", log_y=True, height=1000)"
   ]
  },
  {
   "cell_type": "code",
   "execution_count": null,
   "metadata": {},
   "outputs": [],
   "source": []
  }
 ],
 "metadata": {
  "kernelspec": {
   "display_name": "projet-en-tal",
   "language": "python",
   "name": "python3"
  },
  "language_info": {
   "codemirror_mode": {
    "name": "ipython",
    "version": 3
   },
   "file_extension": ".py",
   "mimetype": "text/x-python",
   "name": "python",
   "nbconvert_exporter": "python",
   "pygments_lexer": "ipython3",
   "version": "3.12.2"
  }
 },
 "nbformat": 4,
 "nbformat_minor": 2
}
